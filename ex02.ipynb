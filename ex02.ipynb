{
 "cells": [
  {
   "cell_type": "code",
   "execution_count": 3,
   "metadata": {},
   "outputs": [],
   "source": [
    "# Useful starting lines\n",
    "%matplotlib inline\n",
    "import numpy as np\n",
    "import matplotlib.pyplot as plt\n",
    "\n",
    "%load_ext autoreload\n",
    "%autoreload 2"
   ]
  },
  {
   "cell_type": "code",
   "execution_count": 2,
   "metadata": {},
   "outputs": [],
   "source": [
    "# Load the data"
   ]
  },
  {
   "cell_type": "code",
   "execution_count": 5,
   "metadata": {},
   "outputs": [],
   "source": [
    "import datetime\n",
    "from helpers import *\n",
    "\n",
    "height, weight, gender = load_data(sub_sample=True, add_outlier=True)\n",
    "x, mean_x, std_x = standardize(height)\n",
    "y, tx = build_model_data(x, weight)"
   ]
  },
  {
   "cell_type": "code",
   "execution_count": 6,
   "metadata": {},
   "outputs": [
    {
     "data": {
      "text/plain": [
       "((202,), (202, 2))"
      ]
     },
     "execution_count": 6,
     "metadata": {},
     "output_type": "execute_result"
    }
   ],
   "source": [
    "y.shape, tx.shape\n"
   ]
  },
  {
   "cell_type": "code",
   "execution_count": 4,
   "metadata": {},
   "outputs": [
    {
     "ename": "IndentationError",
     "evalue": "unexpected indent (2194109721.py, line 2)",
     "output_type": "error",
     "traceback": [
      "\u001b[0;36m  Cell \u001b[0;32mIn[4], line 2\u001b[0;36m\u001b[0m\n\u001b[0;31m    * there are **N = 10000** data entries\u001b[0m\n\u001b[0m    ^\u001b[0m\n\u001b[0;31mIndentationError\u001b[0m\u001b[0;31m:\u001b[0m unexpected indent\n"
     ]
    }
   ],
   "source": [
    "### NB: throughout this laboratory the data has the following format: \n",
    "  * there are **N = 10000** data entries\n",
    "  * **y** represents the column vector containing weight information -- that which we wish to predict/the output (see also the first page of $\\texttt{exercise02.pdf}$). Its **shape** is **(N,)**.\n",
    "  * **tx** represents the matrix $\\tilde{X}$ formed by laterally concatenating a column vector of 1s to the column vector of height information -- the input data (see also the first page of $\\texttt{exercise02.pdf}$). Its **shape** is **(N,2)**."
   ]
  },
  {
   "cell_type": "code",
   "execution_count": 5,
   "metadata": {},
   "outputs": [
    {
     "ename": "SyntaxError",
     "evalue": "invalid syntax (3700976558.py, line 2)",
     "output_type": "error",
     "traceback": [
      "\u001b[0;36m  Cell \u001b[0;32mIn[5], line 2\u001b[0;36m\u001b[0m\n\u001b[0;31m    Fill in the `compute_loss` function below:\u001b[0m\n\u001b[0m                ^\u001b[0m\n\u001b[0;31mSyntaxError\u001b[0m\u001b[0;31m:\u001b[0m invalid syntax\n"
     ]
    }
   ],
   "source": [
    "# 1. Computing the Cost Function\n",
    "Fill in the `compute_loss` function below:"
   ]
  },
  {
   "cell_type": "code",
   "execution_count": 7,
   "metadata": {},
   "outputs": [],
   "source": [
    "import numpy as np\n",
    "\n",
    "def compute_loss(y, tx, w):\n",
    "    \"\"\"Calculate the loss using Mean Squared Error (MSE).\n",
    "\n",
    "    Args:\n",
    "        y: numpy array of shape=(N, )\n",
    "        tx: numpy array of shape=(N,2)\n",
    "        w: numpy array of shape=(2,). The vector of model parameters.\n",
    "\n",
    "    Returns:\n",
    "        loss_by_MSE: The value of the loss (a scalar) calculated using MSE.\n",
    "    \"\"\"\n",
    "    \n",
    "    # Calculate the error (residuals) between actual y and predicted y using the given parameters w\n",
    "    e = y - np.dot(tx, w)\n",
    "    \n",
    "    # Calculate the Mean Squared Error (MSE)\n",
    "    #loss_by_MSE = np.mean(e**2) / 2.0  # Dividing by 2 is optional and simplifies the gradient computation\n",
    "    \n",
    "    # Calculate the Mean Absolute Error (MAE)\n",
    "    loss_by_MAE = np.mean(np.abs(e))\n",
    "    #return loss_by_MSE\n",
    "    return loss_by_MAE\n",
    "\n",
    "    \n"
   ]
  },
  {
   "cell_type": "code",
   "execution_count": null,
   "metadata": {},
   "outputs": [],
   "source": [
    "# 2. Grid Search"
   ]
  },
  {
   "cell_type": "code",
   "execution_count": null,
   "metadata": {},
   "outputs": [],
   "source": [
    "Fill in the function `grid_search()` below:"
   ]
  },
  {
   "cell_type": "code",
   "execution_count": 12,
   "metadata": {},
   "outputs": [],
   "source": [
    "# from costs import *\n",
    "import numpy as np\n",
    "\n",
    "def grid_search(y, tx, grid_w0, grid_w1):\n",
    "    \"\"\"Algorithm for grid search.\n",
    "\n",
    "    Args:\n",
    "        y: numpy array of shape=(N, )\n",
    "        tx: numpy array of shape=(N,2)\n",
    "        grid_w0: numpy array of shape=(num_grid_pts_w0, ). A 1D array containing num_grid_pts_w0 values of parameter w0 to be tested in the grid search.\n",
    "        grid_w1: numpy array of shape=(num_grid_pts_w1, ). A 1D array containing num_grid_pts_w1 values of parameter w1 to be tested in the grid search.\n",
    "\n",
    "    Returns:\n",
    "        losses: numpy array of shape=(num_grid_pts_w0, num_grid_pts_w1). A 2D array containing the loss value for each combination of w0 and w1\n",
    "    \"\"\"\n",
    "    \n",
    "    # Initialize the losses array\n",
    "    losses = np.zeros((len(grid_w0), len(grid_w1)))\n",
    "\n",
    "    # Iterate through each combination of w0 and w1\n",
    "    for i, w0 in enumerate(grid_w0):\n",
    "        for j, w1 in enumerate(grid_w1):\n",
    "            # Create the parameter vector w\n",
    "            w = np.array([w0, w1])\n",
    "            # Calculate the loss using the compute_loss function\n",
    "            loss = compute_loss(y, tx, w)\n",
    "            # Store the loss in the losses array\n",
    "            losses[i, j] = loss\n",
    "#We loop through each combination of `w0` and `w1` from the `grid_w0` and `grid_w1` arrays.\n",
    "# For each combination, we create a parameter vector `w` containing `w0` and `w1`.\n",
    "# We calculate the loss using the `compute_loss` function, passing in `y`, `tx`, and the `w` vector.\n",
    "# We store the computed loss in the `losses` array at the corresponding indices.\n",
    "# Finally, we return the `losses` array, which contains the loss values for each combination of `w0` and `w1`.\n",
    "\n",
    "\n",
    "    return losses"
   ]
  },
  {
   "cell_type": "code",
   "execution_count": null,
   "metadata": {},
   "outputs": [],
   "source": [
    "Let us play with the grid search demo now!"
   ]
  },
  {
   "cell_type": "code",
   "execution_count": 13,
   "metadata": {},
   "outputs": [
    {
     "name": "stdout",
     "output_type": "stream",
     "text": [
      "Grid Search: loss*=5.464204730460844, w0*=71.42857142857142, w1*=15.306122448979579, execution time=0.119 seconds\n"
     ]
    },
    {
     "data": {
      "image/png": "[encoded data removed]",
      "text/plain": [
       "<Figure size 1000x600 with 3 Axes>"
      ]
     },
     "metadata": {},
     "output_type": "display_data"
    }
   ],
   "source": [
    "from grid_search import generate_w, get_best_parameters\n",
    "from plots import grid_visualization \n",
    "import datetime\n",
    "\n",
    "\n",
    "# Generate the grid of parameters to be swept\n",
    "grid_w0, grid_w1 = generate_w(num_intervals=50)\n",
    "\n",
    "# Start the grid search\n",
    "start_time = datetime.datetime.now()\n",
    "grid_losses = grid_search(y, tx, grid_w0, grid_w1)\n",
    "\n",
    "# Select the best combinaison\n",
    "loss_star, w0_star, w1_star = get_best_parameters(grid_w0, grid_w1, grid_losses)\n",
    "end_time = datetime.datetime.now()\n",
    "execution_time = (end_time - start_time).total_seconds()\n",
    "\n",
    "# Print the results\n",
    "print(\n",
    "    \"Grid Search: loss*={l}, w0*={w0}, w1*={w1}, execution time={t:.3f} seconds\".format(\n",
    "        l=loss_star, w0=w0_star, w1=w1_star, t=execution_time\n",
    "    )\n",
    ")\n",
    "\n",
    "# Plot the results\n",
    "fig = grid_visualization(grid_losses, grid_w0, grid_w1, mean_x, std_x, height, weight)\n",
    "fig.set_size_inches(10.0, 6.0)\n",
    "fig.savefig(\"grid_plot\")  # Optional saving"
   ]
  },
  {
   "cell_type": "code",
   "execution_count": 14,
   "metadata": {},
   "outputs": [],
   "source": [
    "# 3. Gradient Descent"
   ]
  },
  {
   "cell_type": "code",
   "execution_count": 15,
   "metadata": {},
   "outputs": [
    {
     "ename": "SyntaxError",
     "evalue": "invalid syntax (2337745732.py, line 1)",
     "output_type": "error",
     "traceback": [
      "\u001b[0;36m  Cell \u001b[0;32mIn[15], line 1\u001b[0;36m\u001b[0m\n\u001b[0;31m    Again, please fill in the functions `compute_gradient` below:\u001b[0m\n\u001b[0m                  ^\u001b[0m\n\u001b[0;31mSyntaxError\u001b[0m\u001b[0;31m:\u001b[0m invalid syntax\n"
     ]
    }
   ],
   "source": [
    "Again, please fill in the functions `compute_gradient` below:"
   ]
  },
  {
   "cell_type": "code",
   "execution_count": 38,
   "metadata": {},
   "outputs": [
    {
     "name": "stdout",
     "output_type": "stream",
     "text": [
      "Gradient for w0 = 100 and w1 = 20: [[-12.  -5.]\n",
      " [-36. -15.]]\n",
      "Gradient for w0 = 50 and w1 = 10: [[ 68.  75.]\n",
      " [214. 235.]]\n"
     ]
    }
   ],
   "source": [
    "import numpy as np\n",
    "\n",
    "def compute_gradient(y, tx, w):\n",
    "    \"\"\"Computes the gradient at w.\n",
    "\n",
    "    Args:\n",
    "        y: numpy array of shape=(N, )\n",
    "        tx: numpy array of shape=(N,2)\n",
    "        w: numpy array of shape=(2, ). The vector of model parameters.\n",
    "\n",
    "    Returns:\n",
    "        A numpy array of shape (2, ) (same shape as w), containing the gradient of the loss at w.\n",
    "    \"\"\"\n",
    "    # Calculate the error\n",
    "    e = y - np.dot(tx, w)\n",
    "    \n",
    "    # Calculate the gradient using the MSE formula\n",
    "    gradient_of_loss = -(1 / len(y)) * np.dot(tx.T, e)\n",
    "    \n",
    "    return gradient_of_loss\n",
    "\n",
    "# Define your data\n",
    "wline = [0, 0]\n",
    "y1 = np.array([12, 5])\n",
    "tx1 = np.array([[1, 2], [1, 4]])\n",
    "w = np.array(wline).reshape(-1, 1)\n",
    "\n",
    "# Compute the gradient for w0 = 100 and w1 = 20\n",
    "gradient_1 = compute_gradient(y1, tx1, w)\n",
    "\n",
    "# Define new data\n",
    "wline = [50, 10]\n",
    "w = np.array(wline).reshape(-1, 1)\n",
    "\n",
    "# Compute the gradient for w0 = 50 and w1 = 10\n",
    "gradient_2 = compute_gradient(y1, tx1, w)\n",
    "\n",
    "print(\"Gradient for w0 = 100 and w1 = 20:\", gradient_1)\n",
    "print(\"Gradient for w0 = 50 and w1 = 10:\", gradient_2)\n"
   ]
  },
  {
   "cell_type": "code",
   "execution_count": null,
   "metadata": {},
   "outputs": [],
   "source": [
    "Please fill in the functions `gradient_descent` below:"
   ]
  },
  {
   "cell_type": "code",
   "execution_count": 37,
   "metadata": {},
   "outputs": [],
   "source": [
    "def gradient_descent(y, tx, initial_w, max_iters, gamma):\n",
    "    \"\"\"The Gradient Descent (GD) algorithm.\n",
    "\n",
    "    Args:\n",
    "        y: numpy array of shape=(N, )\n",
    "        tx: numpy array of shape=(N,2)\n",
    "        initial_w: numpy array of shape=(2, ). The initial guess (or the initialization) for the model parameters\n",
    "        max_iters: a scalar denoting the total number of iterations of GD\n",
    "        gamma: a scalar denoting the stepsize\n",
    "\n",
    "    Returns:\n",
    "        losses: a list of length max_iters containing the loss value (scalar) for each iteration of GD\n",
    "        ws: a list of length max_iters containing the model parameters as numpy arrays of shape (2, ), for each iteration of GD\n",
    "    \"\"\"\n",
    "    # Define parameters to store w and loss\n",
    "    ws = []\n",
    "    losses=[]\n",
    "    w = initial_w\n",
    "    for n_iter in range(max_iters):\n",
    "        # Compute the gradient and loss\n",
    "        gradient = compute_gradient(y, tx, w)\n",
    "        loss = compute_loss(y, tx, w)\n",
    "\n",
    "        # Update w using the gradient and step size\n",
    "        w = w - gamma * gradient\n",
    "\n",
    "        # Store w and loss\n",
    "        ws.append(w)\n",
    "        losses.append(loss)\n",
    "    \n",
    "        # Print progress (optional)\n",
    "        print(\n",
    "            \"GD iter. {bi}/{ti}: loss={l}, w0={w0}, w1={w1}\".format(\n",
    "                bi=n_iter, ti=max_iters - 1, l=loss, w0=w[0], w1=w[1]\n",
    "            )\n",
    "        )\n",
    "    return losses, ws\n"
   ]
  },
  {
   "cell_type": "code",
   "execution_count": null,
   "metadata": {},
   "outputs": [],
   "source": [
    "Test your gradient descent function through gradient descent demo shown below:"
   ]
  },
  {
   "cell_type": "code",
   "execution_count": 30,
   "metadata": {},
   "outputs": [
    {
     "ename": "NameError",
     "evalue": "name 'gradient_descent' is not defined",
     "output_type": "error",
     "traceback": [
      "\u001b[0;31m---------------------------------------------------------------------------\u001b[0m",
      "\u001b[0;31mNameError\u001b[0m                                 Traceback (most recent call last)",
      "Cell \u001b[0;32mIn[30], line 13\u001b[0m\n\u001b[1;32m     11\u001b[0m \u001b[38;5;66;03m# Start gradient descent.\u001b[39;00m\n\u001b[1;32m     12\u001b[0m start_time \u001b[38;5;241m=\u001b[39m datetime\u001b[38;5;241m.\u001b[39mdatetime\u001b[38;5;241m.\u001b[39mnow()\n\u001b[0;32m---> 13\u001b[0m gd_losses, gd_ws \u001b[38;5;241m=\u001b[39m \u001b[43mgradient_descent\u001b[49m(y, tx, w_initial, max_iters, gamma)\n\u001b[1;32m     14\u001b[0m end_time \u001b[38;5;241m=\u001b[39m datetime\u001b[38;5;241m.\u001b[39mdatetime\u001b[38;5;241m.\u001b[39mnow()\n\u001b[1;32m     16\u001b[0m \u001b[38;5;66;03m# Print result\u001b[39;00m\n",
      "\u001b[0;31mNameError\u001b[0m: name 'gradient_descent' is not defined"
     ]
    }
   ],
   "source": [
    "# from gradient_descent import *\n",
    "from plots import gradient_descent_visualization\n",
    "import datetime\n",
    "# Define the parameters of the algorithm.\n",
    "max_iters = 50\n",
    "gamma = 0.1\n",
    "\n",
    "# Initialization\n",
    "w_initial = np.array([1, 1])\n",
    "\n",
    "# Start gradient descent.\n",
    "start_time = datetime.datetime.now()\n",
    "gd_losses, gd_ws = gradient_descent(y, tx, w_initial, max_iters, gamma)\n",
    "end_time = datetime.datetime.now()\n",
    "\n",
    "# Print result\n",
    "exection_time = (end_time - start_time).total_seconds()\n",
    "print(\"GD: execution time={t:.3f} seconds\".format(t=exection_time))"
   ]
  },
  {
   "cell_type": "code",
   "execution_count": 29,
   "metadata": {},
   "outputs": [
    {
     "ename": "NameError",
     "evalue": "name 'gd_ws' is not defined",
     "output_type": "error",
     "traceback": [
      "\u001b[0;31m---------------------------------------------------------------------------\u001b[0m",
      "\u001b[0;31mNameError\u001b[0m                                 Traceback (most recent call last)",
      "Cell \u001b[0;32mIn[29], line 21\u001b[0m\n\u001b[1;32m      6\u001b[0m     fig \u001b[38;5;241m=\u001b[39m gradient_descent_visualization(\n\u001b[1;32m      7\u001b[0m         gd_losses,\n\u001b[1;32m      8\u001b[0m         gd_ws,\n\u001b[0;32m   (...)\u001b[0m\n\u001b[1;32m     16\u001b[0m         n_iter,\n\u001b[1;32m     17\u001b[0m     )\n\u001b[1;32m     18\u001b[0m     fig\u001b[38;5;241m.\u001b[39mset_size_inches(\u001b[38;5;241m10.0\u001b[39m, \u001b[38;5;241m6.0\u001b[39m)\n\u001b[0;32m---> 21\u001b[0m interact(plot_figure, n_iter\u001b[38;5;241m=\u001b[39mIntSlider(\u001b[38;5;28mmin\u001b[39m\u001b[38;5;241m=\u001b[39m\u001b[38;5;241m1\u001b[39m, \u001b[38;5;28mmax\u001b[39m\u001b[38;5;241m=\u001b[39m\u001b[38;5;28mlen\u001b[39m(\u001b[43mgd_ws\u001b[49m)))\n",
      "\u001b[0;31mNameError\u001b[0m: name 'gd_ws' is not defined"
     ]
    }
   ],
   "source": [
    "# Time Visualization\n",
    "from ipywidgets import IntSlider, interact\n",
    "\n",
    "\n",
    "def plot_figure(n_iter):\n",
    "    fig = gradient_descent_visualization(\n",
    "        gd_losses,\n",
    "        gd_ws,\n",
    "        grid_losses,\n",
    "        grid_w0,\n",
    "        grid_w1,\n",
    "        mean_x,\n",
    "        std_x,\n",
    "        height,\n",
    "        weight,\n",
    "        n_iter,\n",
    "    )\n",
    "    fig.set_size_inches(10.0, 6.0)\n",
    "\n",
    "\n",
    "interact(plot_figure, n_iter=IntSlider(min=1, max=len(gd_ws)))"
   ]
  },
  {
   "cell_type": "code",
   "execution_count": null,
   "metadata": {},
   "outputs": [],
   "source": [
    "# 4. Stochastic gradient descent"
   ]
  },
  {
   "cell_type": "code",
   "execution_count": 18,
   "metadata": {},
   "outputs": [],
   "source": [
    "def compute_stoch_gradient(y, tx, w):\n",
    "    \"\"\"Compute a stochastic gradient at w from a data sample batch of size B, where B < N, and their corresponding labels.\n",
    "\n",
    "    Args:\n",
    "        y: numpy array of shape=(B, )\n",
    "        tx: numpy array of shape=(B,2)\n",
    "        w: numpy array of shape=(2, ). The vector of model parameters.\n",
    "\n",
    "    Returns:\n",
    "        A numpy array of shape (2, ) (same shape as w), containing the stochastic gradient of the loss at w.\n",
    "    \"\"\"\n",
    "\n",
    "    # ***************************************************\n",
    "    # INSERT YOUR CODE HERE\n",
    "    \n",
    "     # Calculate the error\n",
    "    e = y - np.dot(tx, w)\n",
    "    \n",
    "    # Calculate the gradient using the MSE formula\n",
    "    gradient_of_loss = -(1 / len(y)) * np.dot(tx.T, e)\n",
    "    \n",
    "    return gradient_of_loss\n",
    "    # TODO: implement stochastic gradient computation. It's the same as the usual gradient.\n",
    "    # ***************************************************\n",
    "\n",
    "\n",
    "\n",
    "def stochastic_gradient_descent(y, tx, initial_w, batch_size, max_iters, gamma):\n",
    "    \"\"\"The Stochastic Gradient Descent algorithm (SGD).\n",
    "\n",
    "    Args:\n",
    "        y: numpy array of shape=(N, )\n",
    "        tx: numpy array of shape=(N,2)\n",
    "        initial_w: numpy array of shape=(2, ). The initial guess (or the initialization) for the model parameters\n",
    "        batch_size: a scalar denoting the number of data points in a mini-batch used for computing the stochastic gradient\n",
    "        max_iters: a scalar denoting the total number of iterations of SGD\n",
    "        gamma: a scalar denoting the stepsize\n",
    "\n",
    "    Returns:\n",
    "        losses: a list of length max_iters containing the loss value (scalar) for each iteration of SGD\n",
    "        ws: a list of length max_iters containing the model parameters as numpy arrays of shape (2, ), for each iteration of SGD\n",
    "    \"\"\"\n",
    "\n",
    "    # Define parameters to store w and loss\n",
    "    ws = [initial_w]\n",
    "    losses = []\n",
    "    w = initial_w\n",
    "\n",
    "    for n_iter in range(max_iters):\n",
    "        # ***************************************************\n",
    "        # INSERT YOUR CODE HERE\n",
    "        for minibatch_y, minibatch_tx in batch_iter(y, tx, batch_size):\n",
    "            # Calculate the stochastic gradient for the current mini-batch\n",
    "            gradient = compute_stoch_gradient(minibatch_y, minibatch_tx, w)\n",
    "            # Update the model parameters\n",
    "            w = w- gamma * gradient #-= means w= w -gamma*gradient\n",
    "            # Calculate and store the loss using compute_loss\n",
    "            loss = compute_loss(y, tx, w)\n",
    "            losses.append(loss)\n",
    "            ws.append(w)\n",
    "      \n",
    "        # TODO: implement stochastic gradient descent.\n",
    "        # ***************************************************\n",
    "        \n",
    "\n",
    "        print(\n",
    "            \"SGD iter. {bi}/{ti}: loss={l}, w0={w0}, w1={w1}\".format(\n",
    "                bi=n_iter, ti=max_iters - 1, l=loss, w0=w[0], w1=w[1]\n",
    "            )\n",
    "        )\n",
    "    return losses, ws"
   ]
  },
  {
   "cell_type": "code",
   "execution_count": 28,
   "metadata": {},
   "outputs": [
    {
     "name": "stdout",
     "output_type": "stream",
     "text": [
      "SGD iter. 0/49: loss=67.39244221332439, w0=6.675363641601992, w1=-1.9573257493229805\n",
      "SGD iter. 1/49: loss=60.33946200206094, w0=13.728343852865434, w1=0.8064652140703901\n",
      "SGD iter. 2/49: loss=54.16941841232441, w0=19.89838744260197, w1=2.3543046070264175\n",
      "SGD iter. 3/49: loss=49.44043690828646, w0=24.62736894663992, w1=2.69059863350776\n",
      "SGD iter. 4/49: loss=44.670361976322, w0=29.39744387860437, w1=4.551242202970572\n",
      "SGD iter. 5/49: loss=39.879532922536534, w0=34.188272932389836, w1=7.521248764155291\n",
      "SGD iter. 6/49: loss=35.99796035825474, w0=38.06984549667163, w1=7.651075793533608\n",
      "SGD iter. 7/49: loss=33.02359329175888, w0=41.04421256316749, w1=7.249339264789991\n",
      "SGD iter. 8/49: loss=29.236384484640727, w0=44.83142137028564, w1=9.90483618565868\n",
      "SGD iter. 9/49: loss=26.15445922300619, w0=47.91334663192018, w1=11.190722084993055\n",
      "SGD iter. 10/49: loss=23.870276808608782, w0=50.197529046317584, w1=11.60488296114633\n",
      "SGD iter. 11/49: loss=21.544488127752214, w0=52.52331772717415, w1=12.766495290423924\n",
      "SGD iter. 12/49: loss=19.35545616523094, w0=54.71234968969542, w1=13.27103695261155\n",
      "SGD iter. 13/49: loss=17.442067881574154, w0=56.62573797335221, w1=13.888842892844341\n",
      "SGD iter. 14/49: loss=16.183876322492168, w0=57.883929532434195, w1=13.920076520281803\n",
      "SGD iter. 15/49: loss=14.19475662027883, w0=59.876586761713796, w1=14.588975025079346\n",
      "SGD iter. 16/49: loss=12.86247756960429, w0=61.23492315260553, w1=15.03355656963529\n",
      "SGD iter. 17/49: loss=11.68226158742019, w0=62.450830304669644, w1=15.014688933308445\n",
      "SGD iter. 18/49: loss=10.647853164294995, w0=63.53129308594945, w1=14.767619519295543\n",
      "SGD iter. 19/49: loss=9.544415383566324, w0=64.73198287635242, w1=15.210045154999202\n",
      "SGD iter. 20/49: loss=8.722718236582322, w0=65.68809077654022, w1=15.082805583229264\n",
      "SGD iter. 21/49: loss=7.823511983371208, w0=66.78657537961324, w1=15.032007280017725\n",
      "SGD iter. 22/49: loss=7.163631891283958, w0=67.72354873377147, w1=15.093022069357417\n",
      "SGD iter. 23/49: loss=6.851705281931569, w0=68.20590783387831, w1=15.301376835244744\n",
      "SGD iter. 24/49: loss=8.361037452740012, w0=69.6999067891847, w1=8.890913813288869\n",
      "SGD iter. 25/49: loss=8.213836830927425, w0=69.54492103402528, w1=9.257634508915908\n",
      "SGD iter. 26/49: loss=7.651435898585996, w0=70.13695532925946, w1=10.072658213200647\n",
      "SGD iter. 27/49: loss=6.896743951784262, w0=70.95715189342947, w1=11.198857662124462\n",
      "SGD iter. 28/49: loss=6.678306984986931, w0=71.2740972000734, w1=11.511097860214493\n",
      "SGD iter. 29/49: loss=6.54138790792992, w0=71.63234462772378, w1=11.658697634971269\n",
      "SGD iter. 30/49: loss=11.9530490323888, w0=73.64578676813042, w1=2.3055070741833106\n",
      "SGD iter. 31/49: loss=11.184145535335375, w0=73.10459170380985, w1=3.4349922339378063\n",
      "SGD iter. 32/49: loss=10.507790781020464, w0=73.12101010190291, w1=4.46770258181246\n",
      "SGD iter. 33/49: loss=10.101820455771618, w0=72.92248085564127, w1=5.104938005040489\n",
      "SGD iter. 34/49: loss=9.294885695815795, w0=73.38141554273435, w1=6.349038258362927\n",
      "SGD iter. 35/49: loss=8.878026238544166, w0=74.05476533929284, w1=7.020458687092836\n",
      "SGD iter. 36/49: loss=8.450003515294082, w0=73.61631084477439, w1=7.701916403062522\n",
      "SGD iter. 37/49: loss=8.14543995870258, w0=73.71058502278235, w1=8.202171454046127\n",
      "SGD iter. 38/49: loss=7.879795229695766, w0=73.19263347452772, w1=8.69045747573805\n",
      "SGD iter. 39/49: loss=7.543093594644474, w0=73.23874859320182, w1=9.28701623253338\n",
      "SGD iter. 40/49: loss=7.364429152096418, w0=73.59147216100268, w1=9.607618227394074\n",
      "SGD iter. 41/49: loss=9.989680632918503, w0=74.86333853734214, w1=5.3531796901708555\n",
      "SGD iter. 42/49: loss=9.508304957989628, w0=74.35964016516716, w1=6.0485193014782945\n",
      "SGD iter. 43/49: loss=9.029467313104945, w0=74.55844632193296, w1=6.8262384714407\n",
      "SGD iter. 44/49: loss=8.658210571712502, w0=74.4795659325018, w1=7.408278532415142\n",
      "SGD iter. 45/49: loss=8.304652048630905, w0=74.59669714443822, w1=8.006881725980737\n",
      "SGD iter. 46/49: loss=7.864796935146842, w0=74.69896421652442, w1=8.79451958980793\n",
      "SGD iter. 47/49: loss=7.532805347866108, w0=74.82960752216836, w1=9.41397074999566\n",
      "SGD iter. 48/49: loss=7.125386473248855, w0=74.94296084431078, w1=10.196217970311695\n",
      "SGD iter. 49/49: loss=6.833195860066836, w0=74.85968664839478, w1=10.75880015415211\n",
      "SGD: execution time=0.008 seconds\n"
     ]
    }
   ],
   "source": [
    "# from stochastic_gradient_descent import *\n",
    "\n",
    "# Define the parameters of the algorithm.\n",
    "max_iters = 50\n",
    "gamma = 0.1\n",
    "batch_size = 9\n",
    "\n",
    "# Initialization\n",
    "w_initial = np.array([0, 0])\n",
    "\n",
    "# Start SGD.\n",
    "start_time = datetime.datetime.now()\n",
    "sgd_losses, sgd_ws = stochastic_gradient_descent(y, tx, w_initial, batch_size, max_iters, gamma\n",
    ")\n",
    "end_time = datetime.datetime.now()\n",
    "\n",
    "# Print result\n",
    "exection_time = (end_time - start_time).total_seconds()\n",
    "print(\"SGD: execution time={t:.3f} seconds\".format(t=exection_time))"
   ]
  },
  {
   "cell_type": "code",
   "execution_count": 56,
   "metadata": {},
   "outputs": [
    {
     "data": {
      "application/vnd.jupyter.widget-view+json": {
       "model_id": "bc134554523e46b79109e1ac22087fb6",
       "version_major": 2,
       "version_minor": 0
      },
      "text/plain": [
       "interactive(children=(IntSlider(value=1, description='n_iter', max=51, min=1), Output()), _dom_classes=('widge…"
      ]
     },
     "metadata": {},
     "output_type": "display_data"
    },
    {
     "data": {
      "text/plain": [
       "<function __main__.plot_figure(n_iter)>"
      ]
     },
     "execution_count": 56,
     "metadata": {},
     "output_type": "execute_result"
    }
   ],
   "source": [
    "# Time Visualization\n",
    "from ipywidgets import IntSlider, interact\n",
    "def plot_figure(n_iter):\n",
    "    fig = gradient_descent_visualization(\n",
    "        sgd_losses,\n",
    "        sgd_ws,\n",
    "        grid_losses,\n",
    "        grid_w0,\n",
    "        grid_w1,\n",
    "        mean_x,\n",
    "        std_x,\n",
    "        height,\n",
    "        weight,\n",
    "        n_iter,\n",
    "    )\n",
    "    fig.set_size_inches(10.0, 6.0)\n",
    "\n",
    "\n",
    "interact(plot_figure, n_iter=IntSlider(min=1, max=len(sgd_ws)))"
   ]
  },
  {
   "cell_type": "code",
   "execution_count": null,
   "metadata": {},
   "outputs": [],
   "source": [
    "# 5. Effect of Outliers and MAE Cost Function"
   ]
  },
  {
   "cell_type": "code",
   "execution_count": 27,
   "metadata": {},
   "outputs": [],
   "source": [
    "import datetime\n",
    "from helpers import *\n",
    "\n",
    "# ***************************************************\n",
    "# INSERT YOUR CODE HERE\n",
    "# TODO: reload the data by subsampling first, then by subsampling and adding outliers\n",
    "# ***************************************************\n",
    "\n",
    "\n",
    "x, mean_x, std_x = standardize(height)\n",
    "y, tx = build_model_data(x, weight)"
   ]
  },
  {
   "cell_type": "code",
   "execution_count": null,
   "metadata": {},
   "outputs": [],
   "source": [
    "y.shape, tx.shape"
   ]
  },
  {
   "cell_type": "code",
   "execution_count": 26,
   "metadata": {},
   "outputs": [
    {
     "ename": "NotImplementedError",
     "evalue": "",
     "output_type": "error",
     "traceback": [
      "\u001b[0;31m---------------------------------------------------------------------------\u001b[0m",
      "\u001b[0;31mNotImplementedError\u001b[0m                       Traceback (most recent call last)",
      "Cell \u001b[0;32mIn[26], line 18\u001b[0m\n\u001b[1;32m     11\u001b[0m start_time \u001b[38;5;241m=\u001b[39m datetime\u001b[38;5;241m.\u001b[39mdatetime\u001b[38;5;241m.\u001b[39mnow()\n\u001b[1;32m     13\u001b[0m \u001b[38;5;66;03m# ***************************************************\u001b[39;00m\n\u001b[1;32m     14\u001b[0m \u001b[38;5;66;03m# INSERT YOUR CODE HERE\u001b[39;00m\n\u001b[1;32m     15\u001b[0m \u001b[38;5;66;03m# TODO: fit the model to the subsampled data / subsampled data with outliers and visualize the cloud of points\u001b[39;00m\n\u001b[1;32m     16\u001b[0m \u001b[38;5;66;03m#       and the model fit\u001b[39;00m\n\u001b[1;32m     17\u001b[0m \u001b[38;5;66;03m# ***************************************************\u001b[39;00m\n\u001b[0;32m---> 18\u001b[0m \u001b[38;5;28;01mraise\u001b[39;00m \u001b[38;5;167;01mNotImplementedError\u001b[39;00m\n\u001b[1;32m     21\u001b[0m end_time \u001b[38;5;241m=\u001b[39m datetime\u001b[38;5;241m.\u001b[39mdatetime\u001b[38;5;241m.\u001b[39mnow()\n\u001b[1;32m     23\u001b[0m \u001b[38;5;66;03m# Print result\u001b[39;00m\n",
      "\u001b[0;31mNotImplementedError\u001b[0m: "
     ]
    }
   ],
   "source": [
    "from plots import gradient_descent_visualization\n",
    "\n",
    "# Define the parameters of the algorithm.\n",
    "max_iters = 50\n",
    "gamma = 0.7\n",
    "\n",
    "# Initialization\n",
    "w_initial = np.array([0, 0])\n",
    "\n",
    "# Start gradient descent.\n",
    "start_time = datetime.datetime.now()\n",
    "\n",
    "# ***************************************************\n",
    "# INSERT YOUR CODE HERE\n",
    "# TODO: fit the model to the subsampled data / subsampled data with outliers and visualize the cloud of points\n",
    "#       and the model fit\n",
    "# ***************************************************\n",
    "\n",
    "\n",
    "\n",
    "end_time = datetime.datetime.now()\n",
    "\n",
    "# Print result\n",
    "exection_time = (end_time - start_time).total_seconds()\n",
    "print(\"GD: execution time={t:.3f} seconds\".format(t=exection_time))"
   ]
  },
  {
   "cell_type": "code",
   "execution_count": null,
   "metadata": {},
   "outputs": [],
   "source": [
    "# Time Visualization\n",
    "from ipywidgets import IntSlider, interact\n",
    "\n",
    "\n",
    "def plot_figure(n_iter):\n",
    "    fig = gradient_descent_visualization(\n",
    "        gd_losses,\n",
    "        gd_ws,\n",
    "        grid_losses,\n",
    "        grid_w0,\n",
    "        grid_w1,\n",
    "        mean_x,\n",
    "        std_x,\n",
    "        height,\n",
    "        weight,\n",
    "        n_iter,\n",
    "    )\n",
    "    fig.set_size_inches(10.0, 6.0)\n",
    "\n",
    "\n",
    "interact(plot_figure, n_iter=IntSlider(min=1, max=len(gd_ws)))"
   ]
  },
  {
   "cell_type": "code",
   "execution_count": null,
   "metadata": {},
   "outputs": [],
   "source": [
    "# 6. Subgradient descent"
   ]
  },
  {
   "cell_type": "code",
   "execution_count": 14,
   "metadata": {},
   "outputs": [],
   "source": [
    "def compute_subgradient_mae(y, tx, w):\n",
    "    \"\"\"Compute a subgradient of the MAE at w.\n",
    "\n",
    "    Args:\n",
    "        y: numpy array of shape=(N, )\n",
    "        tx: numpy array of shape=(N,2)\n",
    "        w: numpy array of shape=(2, ). The vector of model parameters.\n",
    "\n",
    "    Returns:\n",
    "        subgradient: A numpy array of shape (2, ) containing the subgradient of the MAE at w.\n",
    "    \"\"\"\n",
    "    \n",
    "    N = len(y)  # Number of data points\n",
    "    \n",
    "    # Calculate the error (residuals) between actual y and predicted y using the given parameters w\n",
    "    e = y - np.dot(tx, w)\n",
    "    \n",
    "    # Compute the subgradient\n",
    "    subgradient = np.zeros(w.shape)  # Initialize the subgradient vector\n",
    "    \n",
    "    for i in range(len(w)):\n",
    "        subgradient[i] = (1 / N) * np.dot(-tx[:, i], np.sign(e))\n",
    "    \n",
    "    return subgradient\n",
    "\n",
    "    # TODO: compute subgradient gradient vector for MAE\n",
    "    # ***************************************************"
   ]
  },
  {
   "cell_type": "code",
   "execution_count": 15,
   "metadata": {},
   "outputs": [],
   "source": [
    "def subgradient_descent(y, tx, initial_w, max_iters, gamma):\n",
    "    \"\"\"The SubGradient Descent (SubGD) algorithm.\n",
    "\n",
    "    Args:\n",
    "        y: numpy array of shape=(N, )\n",
    "        tx: numpy array of shape=(N,2)\n",
    "        initial_w: numpy array of shape=(2, ). The initial guess (or the initialization) for the model parameters\n",
    "        max_iters: a scalar denoting the total number of iterations of GD\n",
    "        gamma: a scalar denoting the stepsize\n",
    "\n",
    "    Returns:\n",
    "        losses: a list of length max_iters containing the loss value (scalar) for each iteration of SubGD\n",
    "        ws: a list of length max_iters containing the model parameters as numpy arrays of shape (2, ), for each iteration of SubGD\n",
    "    \"\"\"\n",
    "    # Define parameters to store w and loss\n",
    "    ws = [initial_w]\n",
    "    losses = []\n",
    "    w = initial_w\n",
    "\n",
    "    for n_iter in range(max_iters):\n",
    "        # Compute loss and subgradient\n",
    "        loss = compute_loss(y, tx, w)\n",
    "        subgradient = compute_subgradient_mae(y, tx, w)\n",
    "        \n",
    "        # Update w by subgradient\n",
    "        w = w- gamma * subgradient\n",
    "        \n",
    "        ws.append(w)\n",
    "        losses.append(loss)\n",
    "        print(\n",
    "            \"SubGD iter. {bi}/{ti}: loss={l}, w0={w0}, w1={w1}\".format(\n",
    "                bi=n_iter, ti=max_iters - 1, l=loss, w0=w[0], w1=w[1]\n",
    "            )\n",
    "        )\n",
    "\n",
    "    return losses, ws\n",
    "\n",
    "        # TODO: update w by subgradient\n",
    "        # ***************************************************"
   ]
  },
  {
   "cell_type": "code",
   "execution_count": 32,
   "metadata": {},
   "outputs": [
    {
     "name": "stdout",
     "output_type": "stream",
     "text": [
      "SubGD iter. 0/19: loss=74.06780585492638, w0=0.7, w1=7.771561172376096e-16\n",
      "SubGD iter. 1/19: loss=73.36780585492637, w0=1.4, w1=1.5543122344752192e-15\n",
      "SubGD iter. 2/19: loss=72.66780585492637, w0=2.0999999999999996, w1=2.3314683517128287e-15\n",
      "SubGD iter. 3/19: loss=71.96780585492637, w0=2.8, w1=3.1086244689504383e-15\n",
      "SubGD iter. 4/19: loss=71.26780585492638, w0=3.5, w1=3.885780586188048e-15\n",
      "SubGD iter. 5/19: loss=70.56780585492638, w0=4.2, w1=4.6629367034256575e-15\n",
      "SubGD iter. 6/19: loss=69.86780585492637, w0=4.9, w1=5.440092820663267e-15\n",
      "SubGD iter. 7/19: loss=69.16780585492639, w0=5.6000000000000005, w1=6.217248937900877e-15\n",
      "SubGD iter. 8/19: loss=68.46780585492637, w0=6.300000000000001, w1=6.994405055138486e-15\n",
      "SubGD iter. 9/19: loss=67.76780585492638, w0=7.000000000000001, w1=7.771561172376096e-15\n",
      "SubGD iter. 10/19: loss=67.06780585492638, w0=7.700000000000001, w1=8.548717289613705e-15\n",
      "SubGD iter. 11/19: loss=66.36780585492637, w0=8.4, w1=9.325873406851315e-15\n",
      "SubGD iter. 12/19: loss=65.66780585492639, w0=9.1, w1=1.0103029524088925e-14\n",
      "SubGD iter. 13/19: loss=64.96780585492637, w0=9.799999999999999, w1=1.0880185641326534e-14\n",
      "SubGD iter. 14/19: loss=64.26780585492638, w0=10.499999999999998, w1=1.1657341758564144e-14\n",
      "SubGD iter. 15/19: loss=63.567805854926384, w0=11.199999999999998, w1=1.2434497875801753e-14\n",
      "SubGD iter. 16/19: loss=62.867805854926374, w0=11.899999999999997, w1=1.3211653993039363e-14\n",
      "SubGD iter. 17/19: loss=62.167805854926385, w0=12.599999999999996, w1=1.3988810110276972e-14\n",
      "SubGD iter. 18/19: loss=61.46780585492638, w0=13.299999999999995, w1=1.4765966227514582e-14\n",
      "SubGD iter. 19/19: loss=60.76780585492638, w0=13.999999999999995, w1=1.554312234475219e-14\n",
      "SubGD: execution time=0.004 seconds\n"
     ]
    }
   ],
   "source": [
    "# Define the parameters of the algorithm.\n",
    "max_iters = 20\n",
    "gamma = 0.7\n",
    "batch_size = 1\n",
    "\n",
    "# Initialization\n",
    "w_initial = np.array([0, 0])\n",
    "\n",
    "# Start SubSGD.\n",
    "start_time = datetime.datetime.now()\n",
    "subgd_losses, subgd_ws = subgradient_descent(y, tx, w_initial, max_iters, gamma)\n",
    "end_time = datetime.datetime.now()\n",
    "\n",
    "# Print result\n",
    "exection_time = (end_time - start_time).total_seconds()\n",
    "print(\"SubGD: execution time={t:.3f} seconds\".format(t=exection_time))"
   ]
  },
  {
   "cell_type": "code",
   "execution_count": 33,
   "metadata": {},
   "outputs": [
    {
     "data": {
      "application/vnd.jupyter.widget-view+json": {
       "model_id": "444b608e910b4504a5da1f0bfd3a16de",
       "version_major": 2,
       "version_minor": 0
      },
      "text/plain": [
       "interactive(children=(IntSlider(value=1, description='n_iter', max=21, min=1), Output()), _dom_classes=('widge…"
      ]
     },
     "metadata": {},
     "output_type": "display_data"
    },
    {
     "data": {
      "text/plain": [
       "<function __main__.plot_figure(n_iter)>"
      ]
     },
     "execution_count": 33,
     "metadata": {},
     "output_type": "execute_result"
    }
   ],
   "source": [
    "from ipywidgets import IntSlider, interact\n",
    "from plots import gradient_descent_visualization\n",
    "\n",
    "\n",
    "def plot_figure(n_iter):\n",
    "    fig =gradient_descent_visualization(\n",
    "        subgd_losses,\n",
    "        subgd_ws,\n",
    "        grid_losses,\n",
    "        grid_w0,\n",
    "        grid_w1,\n",
    "        mean_x,\n",
    "        std_x,\n",
    "        height,\n",
    "        weight,\n",
    "        n_iter,\n",
    "    )\n",
    "    fig.set_size_inches(10.0, 6.0)\n",
    "\n",
    "\n",
    "interact(plot_figure, n_iter=IntSlider(min=1, max=len(subgd_ws)))"
   ]
  },
  {
   "cell_type": "code",
   "execution_count": null,
   "metadata": {},
   "outputs": [],
   "source": [
    "# Stochastic Subgradient Descent\n",
    "\n",
    "**NB** for the computation of the subgradient you can reuse the `compute_subgradient` method that you implemented above, just making sure that you pass in a minibatch as opposed to the full data."
   ]
  },
  {
   "cell_type": "code",
   "execution_count": 40,
   "metadata": {},
   "outputs": [],
   "source": [
    "def stochastic_subgradient_descent(y, tx, initial_w, batch_size, max_iters, gamma):\n",
    "    \"\"\"Compute a stochastic subgradient at w from a data sample batch of size B, where B < N, and their corresponding labels.\n",
    "\n",
    "    Args:\n",
    "        y: numpy array of shape=(B, )\n",
    "        tx: numpy array of shape=(B, 2)\n",
    "        initial_w: numpy array of shape=(2, ). The initial guess (or the initialization) for the model parameters\n",
    "        batch_size: a scalar denoting the number of data points in a mini-batch used for computing the stochastic subgradient\n",
    "        max_iters: a scalar denoting the total number of iterations of SubSGD\n",
    "        gamma: a scalar denoting the stepsize\n",
    "\n",
    "    Returns:\n",
    "        losses: a list of length max_iters containing the loss value (scalar) for each iteration of SubSGD\n",
    "        ws: a list of length max_iters containing the model parameters as numpy arrays of shape (2, ), for each iteration of SubSGD\n",
    "    \"\"\"\n",
    "\n",
    "    # Define parameters to store w and loss\n",
    "    ws = [initial_w]\n",
    "    losses = []\n",
    "    w = initial_w\n",
    "\n",
    "    for n_iter in range(max_iters):\n",
    "        for minibatch_y, minibatch_tx in batch_iter(y, tx, batch_size):\n",
    "            # Compute loss and subgradient for the current mini-batch\n",
    "            minibatch_loss = compute_loss(minibatch_y, minibatch_tx, w)\n",
    "            minibatch_subgradient = compute_subgradient_mae(minibatch_y, minibatch_tx, w)\n",
    "            # Update the model parameters\n",
    "            w = w - gamma * minibatch_subgradient\n",
    "            # Calculate and store the loss using compute_loss\n",
    "            losses.append(minibatch_loss)\n",
    "            ws.append(w)\n",
    "            print(\n",
    "                \"SubSGD iter. {bi}/{ti}: loss={l}, w0={w0}, w1={w1}\".format(\n",
    "                    bi=n_iter, ti=max_iters - 1, l=minibatch_loss, w0=w[0], w1=w[1]\n",
    "                )\n",
    "            )\n",
    "\n",
    "    return losses, ws\n"
   ]
  },
  {
   "cell_type": "code",
   "execution_count": 41,
   "metadata": {},
   "outputs": [
    {
     "name": "stdout",
     "output_type": "stream",
     "text": [
      "SubSGD iter. 0/99: loss=75.1876782867415, w0=0.7, w1=-0.24097991466664814\n",
      "SubSGD iter. 1/99: loss=47.224644302326354, w0=1.4, w1=-1.5949368086998756\n",
      "SubSGD iter. 2/99: loss=104.35047904455898, w0=2.0999999999999996, w1=-4.968080486289553\n",
      "SubSGD iter. 3/99: loss=92.69173157798818, w0=2.8, w1=-4.353419505159167\n",
      "SubSGD iter. 4/99: loss=58.299910966080915, w0=3.5, w1=-4.723687595687963\n",
      "SubSGD iter. 5/99: loss=85.20272588007379, w0=4.2, w1=-4.21450175174171\n",
      "SubSGD iter. 6/99: loss=84.02772152397833, w0=4.9, w1=-3.5833364117468576\n",
      "SubSGD iter. 7/99: loss=65.8517412436227, w0=5.6000000000000005, w1=-3.982794184133436\n",
      "SubSGD iter. 8/99: loss=95.70511613174972, w0=6.300000000000001, w1=-3.1035462182372644\n",
      "SubSGD iter. 9/99: loss=58.47194520181801, w0=7.000000000000001, w1=-3.1288439836261057\n",
      "SubSGD iter. 10/99: loss=91.00484484349234, w0=7.700000000000001, w1=-1.960513183108637\n",
      "SubSGD iter. 11/99: loss=43.34915291296015, w0=8.4, w1=-2.937310662050556\n",
      "SubSGD iter. 12/99: loss=85.67241274739152, w0=9.1, w1=-2.29438096328676\n",
      "SubSGD iter. 13/99: loss=37.12555932300404, w0=9.799999999999999, w1=-2.9749801409428427\n",
      "SubSGD iter. 14/99: loss=50.4644324426382, w0=10.499999999999998, w1=-3.4059908256914566\n",
      "SubSGD iter. 15/99: loss=46.936003339441, w0=11.199999999999998, w1=-4.084337821666\n",
      "SubSGD iter. 16/99: loss=40.84581379487808, w0=11.899999999999997, w1=-4.6971359926674126\n",
      "SubSGD iter. 17/99: loss=95.02087433116588, w0=12.599999999999996, w1=-3.5788257720559313\n",
      "SubSGD iter. 18/99: loss=56.408655930951575, w0=13.299999999999995, w1=-3.9748020152777634\n",
      "SubSGD iter. 19/99: loss=86.11678602109772, w0=13.999999999999995, w1=-2.806471214760295\n",
      "SubSGD iter. 20/99: loss=27.833961730632762, w0=14.699999999999994, w1=-3.932403628261466\n",
      "SubSGD iter. 21/99: loss=72.70525306284894, w0=15.399999999999993, w1=-3.721239233695262\n",
      "SubSGD iter. 22/99: loss=81.63668685548275, w0=16.099999999999994, w1=-2.926069508577915\n",
      "SubSGD iter. 23/99: loss=89.82016610829368, w0=16.799999999999994, w1=-1.5633181131861682\n",
      "SubSGD iter. 24/99: loss=48.44902767691259, w0=17.499999999999993, w1=-1.9292388439165655\n",
      "SubSGD iter. 25/99: loss=60.23277940736343, w0=18.199999999999992, w1=-1.323835692472581\n",
      "SubSGD iter. 26/99: loss=29.518079935592898, w0=18.89999999999999, w1=-2.535258580398761\n",
      "SubSGD iter. 27/99: loss=60.19507987015837, w0=19.59999999999999, w1=-2.2467613158413453\n",
      "SubSGD iter. 28/99: loss=34.092909343919814, w0=20.29999999999999, w1=-3.284275509654886\n",
      "SubSGD iter. 29/99: loss=72.9959784977221, w0=20.99999999999999, w1=-2.6322186122124305\n",
      "SubSGD iter. 30/99: loss=56.86274211401967, w0=21.69999999999999, w1=-2.3819374957503743\n",
      "SubSGD iter. 31/99: loss=66.1211922152969, w0=22.399999999999988, w1=-1.7628040998057077\n",
      "SubSGD iter. 32/99: loss=90.3008579962599, w0=23.099999999999987, w1=-0.22274176141852187\n",
      "SubSGD iter. 33/99: loss=68.24773825475154, w0=23.799999999999986, w1=0.3304641546575915\n",
      "SubSGD iter. 34/99: loss=83.95308265900657, w0=24.499999999999986, w1=1.5112688553574873\n",
      "SubSGD iter. 35/99: loss=36.58348870181665, w0=25.199999999999985, w1=1.2940118511777372\n",
      "SubSGD iter. 36/99: loss=50.433150951705, w0=25.899999999999984, w1=1.053031936511089\n",
      "SubSGD iter. 37/99: loss=52.45326622569515, w0=26.599999999999984, w1=1.1963625271056053\n",
      "SubSGD iter. 38/99: loss=32.58217809995944, w0=27.299999999999983, w1=0.8110783867774773\n",
      "SubSGD iter. 39/99: loss=44.10134405597513, w0=27.999999999999982, w1=0.8175062676558238\n",
      "SubSGD iter. 40/99: loss=61.47512835529466, w0=28.69999999999998, w1=1.469563165098279\n",
      "SubSGD iter. 41/99: loss=28.24384555524765, w0=29.39999999999998, w1=0.9175917331605999\n",
      "SubSGD iter. 42/99: loss=60.22359863367521, w0=30.09999999999998, w1=1.5322527142909865\n",
      "SubSGD iter. 43/99: loss=58.04260257879595, w0=30.79999999999998, w1=2.411982844123465\n",
      "SubSGD iter. 44/99: loss=51.87266868717697, w0=31.49999999999998, w1=2.5258031709377775\n",
      "SubSGD iter. 45/99: loss=35.88659088881526, w0=32.19999999999998, w1=2.1598824402073804\n",
      "SubSGD iter. 46/99: loss=58.786601610528166, w0=32.899999999999984, w1=2.8918470337150155\n",
      "SubSGD iter. 47/99: loss=45.46456278194823, w0=33.59999999999999, w1=3.387473294183848\n",
      "SubSGD iter. 48/99: loss=25.967349666406683, w0=34.29999999999999, w1=2.5876425601211386\n",
      "SubSGD iter. 49/99: loss=50.42747340552722, w0=34.99999999999999, w1=2.7839871536383667\n",
      "SubSGD iter. 50/99: loss=27.41267926605581, w0=35.699999999999996, w1=2.5014393345521415\n",
      "SubSGD iter. 51/99: loss=30.88076192804492, w0=36.4, w1=2.30068979750289\n",
      "SubSGD iter. 52/99: loss=46.08640976383968, w0=37.1, w1=3.0016237949376428\n",
      "SubSGD iter. 53/99: loss=46.963365728821024, w0=37.800000000000004, w1=3.4291408801550607\n",
      "SubSGD iter. 54/99: loss=22.153209457032183, w0=38.50000000000001, w1=2.9889456254480895\n",
      "SubSGD iter. 55/99: loss=56.14169771689073, w0=39.20000000000001, w1=4.107255846059571\n",
      "SubSGD iter. 56/99: loss=29.013285629523956, w0=39.90000000000001, w1=3.741335115329174\n",
      "SubSGD iter. 57/99: loss=34.64804173471636, w0=40.600000000000016, w1=3.8516351487899656\n",
      "SubSGD iter. 58/99: loss=49.77799321934468, w0=41.30000000000002, w1=4.4646276459735255\n",
      "SubSGD iter. 59/99: loss=27.06055027007085, w0=42.00000000000002, w1=3.910520571976945\n",
      "SubSGD iter. 60/99: loss=32.39513729133454, w0=42.700000000000024, w1=3.886554732173854\n",
      "SubSGD iter. 61/99: loss=17.50837652667068, w0=43.40000000000003, w1=3.316594607637868\n",
      "SubSGD iter. 62/99: loss=13.271140611281481, w0=44.10000000000003, w1=2.41496234322511\n",
      "SubSGD iter. 63/99: loss=46.619873814064775, w0=44.80000000000003, w1=3.1469269367327453\n",
      "SubSGD iter. 64/99: loss=16.320954208960885, w0=45.500000000000036, w1=2.723687511960231\n",
      "SubSGD iter. 65/99: loss=27.04543710553485, w0=46.20000000000004, w1=2.596673066732206\n",
      "SubSGD iter. 66/99: loss=35.2449669636532, w0=46.90000000000004, w1=3.554808157634013\n",
      "SubSGD iter. 67/99: loss=17.281484882185943, w0=47.600000000000044, w1=2.8764611616594697\n",
      "SubSGD iter. 68/99: loss=15.32642302531287, w0=48.30000000000005, w1=2.4506750143687306\n",
      "SubSGD iter. 69/99: loss=28.65001740008922, w0=49.00000000000005, w1=2.4659826810808667\n",
      "SubSGD iter. 70/99: loss=8.845206817115319, w0=49.70000000000005, w1=1.6817499530415425\n",
      "SubSGD iter. 71/99: loss=29.521356911803082, w0=50.400000000000055, w1=2.177376213510375\n",
      "SubSGD iter. 72/99: loss=19.061835680652685, w0=51.10000000000006, w1=2.4380884348922387\n",
      "SubSGD iter. 73/99: loss=11.559775833302062, w0=51.80000000000006, w1=2.0123022876014995\n",
      "SubSGD iter. 74/99: loss=22.58333146589034, w0=52.500000000000064, w1=2.5606967913593106\n",
      "SubSGD iter. 75/99: loss=8.909196658214135, w0=53.20000000000007, w1=2.3434397871795603\n",
      "SubSGD iter. 76/99: loss=35.67136244548636, w0=53.90000000000007, w1=3.511770587697029\n",
      "SubSGD iter. 77/99: loss=21.39307462546472, w0=54.60000000000007, w1=3.8469986430002843\n",
      "SubSGD iter. 78/99: loss=33.51642765435396, w0=55.300000000000075, w1=4.930874039691586\n",
      "SubSGD iter. 79/99: loss=25.89250499554982, w0=56.00000000000008, w1=5.460575013753703\n",
      "SubSGD iter. 80/99: loss=83.74941489608534, w0=56.70000000000008, w1=2.0874313361640255\n",
      "SubSGD iter. 81/99: loss=14.165194667893964, w0=57.400000000000084, w1=1.7510683784879488\n",
      "SubSGD iter. 82/99: loss=12.71956414781647, w0=58.10000000000009, w1=1.2264354537762094\n",
      "SubSGD iter. 83/99: loss=1.8597717653507786, w0=58.80000000000009, w1=0.8031960290036952\n",
      "SubSGD iter. 84/99: loss=7.032384248621966, w0=58.10000000000009, w1=1.6446145387296398\n",
      "SubSGD iter. 85/99: loss=16.217559661332103, w0=58.80000000000009, w1=1.620648698926549\n",
      "SubSGD iter. 86/99: loss=23.475370693531247, w0=59.50000000000009, w1=2.212966660194727\n",
      "SubSGD iter. 87/99: loss=29.922812099504483, w0=60.200000000000095, w1=2.7661725762708405\n",
      "SubSGD iter. 88/99: loss=31.20345006529014, w0=60.9000000000001, w1=3.6223946287753783\n",
      "SubSGD iter. 89/99: loss=20.26146814038752, w0=61.6000000000001, w1=4.253559968770231\n",
      "SubSGD iter. 90/99: loss=14.766391167552335, w0=62.300000000000104, w1=4.342087482259357\n",
      "SubSGD iter. 91/99: loss=9.648598681955612, w0=63.00000000000011, w1=4.005724524583281\n",
      "SubSGD iter. 92/99: loss=2.3088236828364472, w0=63.70000000000011, w1=3.6553875912148897\n",
      "SubSGD iter. 93/99: loss=2.0969965959810537, w0=64.4000000000001, w1=3.5348830397358473\n",
      "SubSGD iter. 94/99: loss=19.134356596256794, w0=65.10000000000011, w1=4.14879745311343\n",
      "SubSGD iter. 95/99: loss=4.623519519287306, w0=64.4000000000001, w1=4.559872637655657\n",
      "SubSGD iter. 96/99: loss=9.080084855207474, w0=65.10000000000011, w1=4.612032983185367\n",
      "SubSGD iter. 97/99: loss=8.376198138570643, w0=65.80000000000011, w1=4.664193328715077\n",
      "SubSGD iter. 98/99: loss=7.426685199553731, w0=65.10000000000011, w1=5.2113556309489475\n",
      "SubSGD iter. 99/99: loss=10.802398427936225, w0=65.80000000000011, w1=5.499852895506363\n",
      "SubSGD: execution time=0.018 seconds\n"
     ]
    }
   ],
   "source": [
    "# Define the parameters of the algorithm.\n",
    "max_iters = 100\n",
    "gamma = 0.7\n",
    "batch_size = 1\n",
    "\n",
    "# Initialization\n",
    "w_initial = np.array([0, 0])\n",
    "\n",
    "# Start SubSGD.\n",
    "start_time = datetime.datetime.now()\n",
    "subsgd_losses, subsgd_ws = stochastic_subgradient_descent(\n",
    "    y, tx, w_initial, batch_size, max_iters, gamma\n",
    ")\n",
    "end_time = datetime.datetime.now()\n",
    "\n",
    "# Print result\n",
    "exection_time = (end_time - start_time).total_seconds()\n",
    "print(\"SubSGD: execution time={t:.3f} seconds\".format(t=exection_time))"
   ]
  },
  {
   "cell_type": "code",
   "execution_count": 42,
   "metadata": {},
   "outputs": [
    {
     "data": {
      "application/vnd.jupyter.widget-view+json": {
       "model_id": "c454b1eabffa4f6ba7318ab95d9d9d8c",
       "version_major": 2,
       "version_minor": 0
      },
      "text/plain": [
       "interactive(children=(IntSlider(value=1, description='n_iter', max=101, min=1), Output()), _dom_classes=('widg…"
      ]
     },
     "metadata": {},
     "output_type": "display_data"
    },
    {
     "data": {
      "text/plain": [
       "<function __main__.plot_figure(n_iter)>"
      ]
     },
     "execution_count": 42,
     "metadata": {},
     "output_type": "execute_result"
    }
   ],
   "source": [
    "from ipywidgets import IntSlider, interact\n",
    "\n",
    "\n",
    "def plot_figure(n_iter):\n",
    "    fig = gradient_descent_visualization(\n",
    "        subsgd_losses,\n",
    "        subsgd_ws,\n",
    "        grid_losses,\n",
    "        grid_w0,\n",
    "        grid_w1,\n",
    "        mean_x,\n",
    "        std_x,\n",
    "        height,\n",
    "        weight,\n",
    "        n_iter,\n",
    "    )\n",
    "    fig.set_size_inches(10.0, 6.0)\n",
    "\n",
    "\n",
    "interact(plot_figure, n_iter=IntSlider(min=1, max=len(subsgd_ws)))"
   ]
  },
  {
   "cell_type": "code",
   "execution_count": null,
   "metadata": {},
   "outputs": [],
   "source": []
  }
 ],
 "metadata": {
  "kernelspec": {
   "display_name": "Python3",
   "language": "python",
   "name": "python3"
  },
  "language_info": {
   "codemirror_mode": {
    "name": "ipython",
    "version": 3
   },
   "file_extension": ".py",
   "mimetype": "text/x-python",
   "name": "python",
   "nbconvert_exporter": "python",
   "pygments_lexer": "ipython3",
   "version": "3.11.5"
  }
 },
 "nbformat": 4,
 "nbformat_minor": 4
}
