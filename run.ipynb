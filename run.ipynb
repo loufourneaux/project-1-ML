{
 "cells": [
  {
   "cell_type": "code",
   "execution_count": 1,
   "outputs": [],
   "source": [
    "import numpy as np\n",
    "from helpers import *\n",
    "from data_processing import*\n",
    "from cross_validation import *"
   ],
   "metadata": {
    "collapsed": false,
    "ExecuteTime": {
     "end_time": "2023-10-30T07:04:38.171143100Z",
     "start_time": "2023-10-30T07:04:38.044973400Z"
    }
   },
   "id": "f4fca5d615efdf74"
  },
  {
   "cell_type": "code",
   "execution_count": 2,
   "outputs": [],
   "source": [
    "x_train,x_test,y_train,train_ids, test_ids = load_csv_data('./dataset/dataset/dataset_to_release')\n"
   ],
   "metadata": {
    "collapsed": false,
    "ExecuteTime": {
     "end_time": "2023-10-30T07:06:25.351483100Z",
     "start_time": "2023-10-30T07:04:40.193515400Z"
    }
   },
   "id": "beb2d630fe6f9460"
  },
  {
   "cell_type": "code",
   "execution_count": 3,
   "outputs": [],
   "source": [
    "x_train_preprocessed = clean_all(x_train)\n",
    "x_test_preprocessed = clean_all(x_test)"
   ],
   "metadata": {
    "collapsed": false,
    "ExecuteTime": {
     "end_time": "2023-10-30T07:06:30.855972800Z",
     "start_time": "2023-10-30T07:06:25.353484800Z"
    }
   },
   "id": "4fea09882b237d07"
  },
  {
   "cell_type": "code",
   "execution_count": 4,
   "outputs": [
    {
     "name": "stdout",
     "output_type": "stream",
     "text": [
      "(109379, 66)\n",
      "(328135, 66)\n"
     ]
    }
   ],
   "source": [
    "print(x_test_preprocessed.shape)\n",
    "print(x_train_preprocessed.shape)"
   ],
   "metadata": {
    "collapsed": false,
    "ExecuteTime": {
     "end_time": "2023-10-30T07:06:30.870929Z",
     "start_time": "2023-10-30T07:06:30.858650600Z"
    }
   },
   "id": "add7cab5c45ae082"
  },
  {
   "cell_type": "code",
   "execution_count": 5,
   "outputs": [
    {
     "name": "stdout",
     "output_type": "stream",
     "text": [
      "[  5034 271803 120350 ... 312201 267336 128037]\n"
     ]
    }
   ],
   "source": [
    "x_tr, x_te, y_tr, y_te = split_data(x_train_preprocessed,y_train,0.95)"
   ],
   "metadata": {
    "collapsed": false,
    "ExecuteTime": {
     "end_time": "2023-10-30T07:06:31.220878800Z",
     "start_time": "2023-10-30T07:06:30.873932Z"
    }
   },
   "id": "450087fe5985de29"
  },
  {
   "cell_type": "code",
   "execution_count": 6,
   "outputs": [],
   "source": [
    "f1_regression_score = {'GD': None,\n",
    "                       'SGD': None,\n",
    "                       'LS': None,\n",
    "                       'Ridge': None,\n",
    "                       'Log': None,\n",
    "                       'RegLog': None}\n",
    "\n",
    "best_parameters_per_regression_model = {'GD': None,\n",
    "                       'SGD': None,\n",
    "                       'LS': None,\n",
    "                       'Ridge': None,\n",
    "                       'Log': None,\n",
    "                       'RegLog': None}"
   ],
   "metadata": {
    "collapsed": false,
    "ExecuteTime": {
     "end_time": "2023-10-30T07:06:31.233394900Z",
     "start_time": "2023-10-30T07:06:31.218876900Z"
    }
   },
   "id": "2bfaf61441ed0236"
  },
  {
   "cell_type": "code",
   "execution_count": 37,
   "outputs": [],
   "source": [
    "initial_ws = []\n",
    "initial_ws.append('random')\n",
    "k_fold = 5\n",
    "max_iter = 1000\n",
    "gammas = np.arange(0.001,0.02,0.001)\n",
    "gammas = np.round(gammas,3)\n",
    "degrees = [0]\n",
    "lambdas = np.arange(0.001,0.51,0.005)\n",
    "lambdas = np.round(lambdas,4)"
   ],
   "metadata": {
    "collapsed": false,
    "ExecuteTime": {
     "end_time": "2023-10-30T07:37:51.795860700Z",
     "start_time": "2023-10-30T07:37:51.777540500Z"
    }
   },
   "id": "582dda991fe9ae48"
  },
  {
   "cell_type": "code",
   "execution_count": 40,
   "outputs": [
    {
     "ename": "KeyboardInterrupt",
     "evalue": "",
     "output_type": "error",
     "traceback": [
      "\u001B[1;31m---------------------------------------------------------------------------\u001B[0m",
      "\u001B[1;31mKeyboardInterrupt\u001B[0m                         Traceback (most recent call last)",
      "Cell \u001B[1;32mIn[40], line 1\u001B[0m\n\u001B[1;32m----> 1\u001B[0m best_parameters_per_regression_model[\u001B[38;5;124m'\u001B[39m\u001B[38;5;124mGD\u001B[39m\u001B[38;5;124m'\u001B[39m] \u001B[38;5;241m=\u001B[39m \u001B[43mbest_selection_gd\u001B[49m\u001B[43m(\u001B[49m\u001B[43my_tr\u001B[49m\u001B[43m,\u001B[49m\u001B[43mx_tr\u001B[49m\u001B[43m,\u001B[49m\u001B[43mnp\u001B[49m\u001B[38;5;241;43m.\u001B[39;49m\u001B[43marange\u001B[49m\u001B[43m(\u001B[49m\u001B[38;5;241;43m3\u001B[39;49m\u001B[43m)\u001B[49m\u001B[43m,\u001B[49m\u001B[43mk_fold\u001B[49m\u001B[43m,\u001B[49m\u001B[43minitial_ws\u001B[49m\u001B[43m,\u001B[49m\u001B[43mmax_iter\u001B[49m\u001B[43m,\u001B[49m\u001B[43mgammas\u001B[49m\u001B[43m)\u001B[49m\n",
      "File \u001B[1;32m~\\Documents\\EPFL\\ML\\Project1\\cross_validation.py:204\u001B[0m, in \u001B[0;36mbest_selection_gd\u001B[1;34m(y, x, degrees, k_fold, initial_ws, max_iters, gammas, seed)\u001B[0m\n\u001B[0;32m    201\u001B[0m rmse_te_degree_gamma_w \u001B[38;5;241m=\u001B[39m []\n\u001B[0;32m    203\u001B[0m \u001B[38;5;28;01mfor\u001B[39;00m k \u001B[38;5;129;01min\u001B[39;00m \u001B[38;5;28mrange\u001B[39m(k_fold):\n\u001B[1;32m--> 204\u001B[0m     _, loss_te, _ \u001B[38;5;241m=\u001B[39m \u001B[43mcross_validation_gd\u001B[49m\u001B[43m(\u001B[49m\u001B[43my\u001B[49m\u001B[43m,\u001B[49m\u001B[43m \u001B[49m\u001B[43mx\u001B[49m\u001B[43m,\u001B[49m\u001B[43m \u001B[49m\u001B[43mk_indices\u001B[49m\u001B[43m,\u001B[49m\u001B[43m \u001B[49m\u001B[43mk\u001B[49m\u001B[43m,\u001B[49m\u001B[43m \u001B[49m\u001B[43minitial_w\u001B[49m\u001B[43m,\u001B[49m\u001B[43m \u001B[49m\u001B[43mmax_iters\u001B[49m\u001B[43m,\u001B[49m\u001B[43m \u001B[49m\u001B[43mgamma\u001B[49m\u001B[43m,\u001B[49m\u001B[43m \u001B[49m\u001B[43mdegree\u001B[49m\u001B[43m)\u001B[49m\n\u001B[0;32m    205\u001B[0m     rmse_te_degree_gamma_w\u001B[38;5;241m.\u001B[39mappend(loss_te)\n\u001B[0;32m    207\u001B[0m avg_rmse \u001B[38;5;241m=\u001B[39m np\u001B[38;5;241m.\u001B[39mmean(rmse_te_degree_gamma_w)\n",
      "File \u001B[1;32m~\\Documents\\EPFL\\ML\\Project1\\cross_validation.py:161\u001B[0m, in \u001B[0;36mcross_validation_gd\u001B[1;34m(y, x, k_indices, k, initial_w, max_iters, gamma, degree)\u001B[0m\n\u001B[0;32m    158\u001B[0m     ini_w \u001B[38;5;241m=\u001B[39m np\u001B[38;5;241m.\u001B[39mrandom\u001B[38;5;241m.\u001B[39mrand(xpoly_tr\u001B[38;5;241m.\u001B[39mshape[\u001B[38;5;241m1\u001B[39m], \u001B[38;5;241m1\u001B[39m)\n\u001B[0;32m    160\u001B[0m \u001B[38;5;66;03m# Compute weights and training loss for gradient descent model\u001B[39;00m\n\u001B[1;32m--> 161\u001B[0m w, loss_tr \u001B[38;5;241m=\u001B[39m \u001B[43mmean_squared_error_gd\u001B[49m\u001B[43m(\u001B[49m\u001B[43my_tr\u001B[49m\u001B[43m,\u001B[49m\u001B[43m \u001B[49m\u001B[43mxpoly_tr\u001B[49m\u001B[43m,\u001B[49m\u001B[43m \u001B[49m\u001B[43mini_w\u001B[49m\u001B[43m,\u001B[49m\u001B[43m \u001B[49m\u001B[43mmax_iters\u001B[49m\u001B[43m,\u001B[49m\u001B[43m \u001B[49m\u001B[43mgamma\u001B[49m\u001B[43m,\u001B[49m\u001B[43m \u001B[49m\u001B[43mdivergence_ratio\u001B[49m\u001B[38;5;241;43m=\u001B[39;49m\u001B[38;5;241;43m1.01\u001B[39;49m\u001B[43m)\u001B[49m\n\u001B[0;32m    163\u001B[0m \u001B[38;5;66;03m# Calculate the loss for test data\u001B[39;00m\n\u001B[0;32m    164\u001B[0m loss_tr \u001B[38;5;241m=\u001B[39m np\u001B[38;5;241m.\u001B[39msqrt(\u001B[38;5;241m2\u001B[39m \u001B[38;5;241m*\u001B[39m compute_loss(y_tr, xpoly_tr, w, \u001B[38;5;124m\"\u001B[39m\u001B[38;5;124mmse\u001B[39m\u001B[38;5;124m\"\u001B[39m))\n",
      "File \u001B[1;32m~\\Documents\\EPFL\\ML\\Project1\\implementations.py:34\u001B[0m, in \u001B[0;36mmean_squared_error_gd\u001B[1;34m(y, tx, initial_w, max_iters, gamma, tol, divergence_ratio)\u001B[0m\n\u001B[0;32m     31\u001B[0m prev_loss \u001B[38;5;241m=\u001B[39m loss  \u001B[38;5;66;03m# Save previous loss value\u001B[39;00m\n\u001B[0;32m     33\u001B[0m \u001B[38;5;66;03m# compute gradient\u001B[39;00m\n\u001B[1;32m---> 34\u001B[0m grad \u001B[38;5;241m=\u001B[39m \u001B[43mcompute_gradient\u001B[49m\u001B[43m(\u001B[49m\u001B[43my\u001B[49m\u001B[43m,\u001B[49m\u001B[43m \u001B[49m\u001B[43mtx\u001B[49m\u001B[43m,\u001B[49m\u001B[43m \u001B[49m\u001B[43mw\u001B[49m\u001B[43m)\u001B[49m\n\u001B[0;32m     36\u001B[0m \u001B[38;5;66;03m# update w by gradient descent\u001B[39;00m\n\u001B[0;32m     37\u001B[0m w \u001B[38;5;241m=\u001B[39m w \u001B[38;5;241m-\u001B[39m gamma \u001B[38;5;241m*\u001B[39m grad\n",
      "File \u001B[1;32m~\\Documents\\EPFL\\ML\\Project1\\functions.py:16\u001B[0m, in \u001B[0;36mcompute_gradient\u001B[1;34m(y, tx, w)\u001B[0m\n\u001B[0;32m     14\u001B[0m w \u001B[38;5;241m=\u001B[39m w\u001B[38;5;241m.\u001B[39mreshape(\u001B[38;5;241m-\u001B[39m\u001B[38;5;241m1\u001B[39m,\u001B[38;5;241m1\u001B[39m)\n\u001B[0;32m     15\u001B[0m y \u001B[38;5;241m=\u001B[39m y\u001B[38;5;241m.\u001B[39mreshape(\u001B[38;5;241m-\u001B[39m\u001B[38;5;241m1\u001B[39m,\u001B[38;5;241m1\u001B[39m)\n\u001B[1;32m---> 16\u001B[0m e\u001B[38;5;241m=\u001B[39my\u001B[38;5;241m-\u001B[39m\u001B[43mnp\u001B[49m\u001B[38;5;241;43m.\u001B[39;49m\u001B[43mdot\u001B[49m\u001B[43m(\u001B[49m\u001B[43mtx\u001B[49m\u001B[43m,\u001B[49m\u001B[43mw\u001B[49m\u001B[43m)\u001B[49m\n\u001B[0;32m     17\u001B[0m gradient \u001B[38;5;241m=\u001B[39m (\u001B[38;5;241m-\u001B[39m\u001B[38;5;241m1\u001B[39m\u001B[38;5;241m/\u001B[39my\u001B[38;5;241m.\u001B[39mshape[\u001B[38;5;241m0\u001B[39m])\u001B[38;5;241m*\u001B[39mnp\u001B[38;5;241m.\u001B[39mdot(np\u001B[38;5;241m.\u001B[39mtranspose(tx),e)\n\u001B[0;32m     18\u001B[0m \u001B[38;5;28;01mreturn\u001B[39;00m gradient\n",
      "File \u001B[1;32m<__array_function__ internals>:180\u001B[0m, in \u001B[0;36mdot\u001B[1;34m(*args, **kwargs)\u001B[0m\n",
      "\u001B[1;31mKeyboardInterrupt\u001B[0m: "
     ]
    }
   ],
   "source": [
    "best_parameters_per_regression_model['GD'] = best_selection_gd(y_tr,x_tr,np.arange(3),k_fold,initial_ws,max_iter,gammas)"
   ],
   "metadata": {
    "collapsed": false,
    "ExecuteTime": {
     "end_time": "2023-10-30T08:00:34.736736200Z",
     "start_time": "2023-10-30T07:50:47.981015500Z"
    }
   },
   "id": "224c7765095445d3"
  },
  {
   "cell_type": "code",
   "execution_count": 9,
   "outputs": [
    {
     "name": "stdout",
     "output_type": "stream",
     "text": [
      "Divergence detected. Stopping iteration.\n",
      "Divergence detected. Stopping iteration.\n",
      "Divergence detected. Stopping iteration.\n",
      "Divergence detected. Stopping iteration.\n",
      "Divergence detected. Stopping iteration.\n",
      "Divergence detected. Stopping iteration.\n",
      "Divergence detected. Stopping iteration.\n",
      "Divergence detected. Stopping iteration.\n",
      "Divergence detected. Stopping iteration.\n",
      "Divergence detected. Stopping iteration.\n",
      "Divergence detected. Stopping iteration.\n",
      "Divergence detected. Stopping iteration.\n",
      "Divergence detected. Stopping iteration.\n",
      "Divergence detected. Stopping iteration.\n",
      "Divergence detected. Stopping iteration.\n",
      "Divergence detected. Stopping iteration.\n",
      "Divergence detected. Stopping iteration.\n",
      "Divergence detected. Stopping iteration.\n",
      "Divergence detected. Stopping iteration.\n",
      "Divergence detected. Stopping iteration.\n",
      "Divergence detected. Stopping iteration.\n",
      "Divergence detected. Stopping iteration.\n",
      "Divergence detected. Stopping iteration.\n",
      "Divergence detected. Stopping iteration.\n",
      "Divergence detected. Stopping iteration.\n",
      "Divergence detected. Stopping iteration.\n",
      "Divergence detected. Stopping iteration.\n",
      "Divergence detected. Stopping iteration.\n",
      "Divergence detected. Stopping iteration.\n",
      "Divergence detected. Stopping iteration.\n",
      "Divergence detected. Stopping iteration.\n",
      "Divergence detected. Stopping iteration.\n",
      "Divergence detected. Stopping iteration.\n",
      "Divergence detected. Stopping iteration.\n",
      "Divergence detected. Stopping iteration.\n",
      "Divergence detected. Stopping iteration.\n",
      "Divergence detected. Stopping iteration.\n",
      "Divergence detected. Stopping iteration.\n",
      "Divergence detected. Stopping iteration.\n",
      "Divergence detected. Stopping iteration.\n",
      "Divergence detected. Stopping iteration.\n",
      "Divergence detected. Stopping iteration.\n",
      "Divergence detected. Stopping iteration.\n",
      "Divergence detected. Stopping iteration.\n",
      "Divergence detected. Stopping iteration.\n",
      "Divergence detected. Stopping iteration.\n",
      "Divergence detected. Stopping iteration.\n",
      "Divergence detected. Stopping iteration.\n",
      "Divergence detected. Stopping iteration.\n",
      "Divergence detected. Stopping iteration.\n",
      "Divergence detected. Stopping iteration.\n",
      "Divergence detected. Stopping iteration.\n",
      "Divergence detected. Stopping iteration.\n",
      "Divergence detected. Stopping iteration.\n",
      "Divergence detected. Stopping iteration.\n",
      "Divergence detected. Stopping iteration.\n",
      "Divergence detected. Stopping iteration.\n",
      "Divergence detected. Stopping iteration.\n",
      "Divergence detected. Stopping iteration.\n",
      "Divergence detected. Stopping iteration.\n",
      "Divergence detected. Stopping iteration.\n",
      "Divergence detected. Stopping iteration.\n",
      "Divergence detected. Stopping iteration.\n",
      "Divergence detected. Stopping iteration.\n",
      "Divergence detected. Stopping iteration.\n",
      "Divergence detected. Stopping iteration.\n",
      "Divergence detected. Stopping iteration.\n",
      "Divergence detected. Stopping iteration.\n",
      "Divergence detected. Stopping iteration.\n",
      "Divergence detected. Stopping iteration.\n",
      "Divergence detected. Stopping iteration.\n",
      "Divergence detected. Stopping iteration.\n",
      "Divergence detected. Stopping iteration.\n",
      "Divergence detected. Stopping iteration.\n",
      "Divergence detected. Stopping iteration.\n",
      "Divergence detected. Stopping iteration.\n",
      "Divergence detected. Stopping iteration.\n",
      "Divergence detected. Stopping iteration.\n",
      "Divergence detected. Stopping iteration.\n",
      "Divergence detected. Stopping iteration.\n",
      "Divergence detected. Stopping iteration.\n",
      "Divergence detected. Stopping iteration.\n",
      "Divergence detected. Stopping iteration.\n",
      "Divergence detected. Stopping iteration.\n",
      "Divergence detected. Stopping iteration.\n",
      "Divergence detected. Stopping iteration.\n",
      "Divergence detected. Stopping iteration.\n",
      "Divergence detected. Stopping iteration.\n",
      "Divergence detected. Stopping iteration.\n",
      "Divergence detected. Stopping iteration.\n",
      "Divergence detected. Stopping iteration.\n",
      "Divergence detected. Stopping iteration.\n",
      "Divergence detected. Stopping iteration.\n",
      "Divergence detected. Stopping iteration.\n"
     ]
    }
   ],
   "source": [
    "best_parameters_per_regression_model['SGD'] = best_selection_sgd(y_tr,x_tr,degrees,k_fold,initial_ws,max_iter,gammas)\n"
   ],
   "metadata": {
    "collapsed": false,
    "ExecuteTime": {
     "end_time": "2023-10-30T07:09:15.989876900Z",
     "start_time": "2023-10-30T07:07:51.484837900Z"
    }
   },
   "id": "633c75f25c23afd5"
  },
  {
   "cell_type": "code",
   "execution_count": 38,
   "outputs": [],
   "source": [
    "best_parameters_per_regression_model['Ridge'] = best_selection_ridge(y_tr,x_tr,degrees,k_fold,lambdas)\n"
   ],
   "metadata": {
    "collapsed": false,
    "ExecuteTime": {
     "end_time": "2023-10-30T07:41:15.329687700Z",
     "start_time": "2023-10-30T07:37:55.435093400Z"
    }
   },
   "id": "861dcc2a7b102aae"
  },
  {
   "cell_type": "code",
   "execution_count": 11,
   "outputs": [
    {
     "name": "stdout",
     "output_type": "stream",
     "text": [
      "Divergence detected. Stopping iteration.\n",
      "Divergence detected. Stopping iteration.\n",
      "Divergence detected. Stopping iteration.\n",
      "Divergence detected. Stopping iteration.\n",
      "Divergence detected. Stopping iteration.\n",
      "Divergence detected. Stopping iteration.\n",
      "Divergence detected. Stopping iteration.\n",
      "Divergence detected. Stopping iteration.\n",
      "Divergence detected. Stopping iteration.\n",
      "Divergence detected. Stopping iteration.\n",
      "Divergence detected. Stopping iteration.\n",
      "Divergence detected. Stopping iteration.\n",
      "Divergence detected. Stopping iteration.\n",
      "Divergence detected. Stopping iteration.\n",
      "Divergence detected. Stopping iteration.\n",
      "Divergence detected. Stopping iteration.\n",
      "Divergence detected. Stopping iteration.\n",
      "Divergence detected. Stopping iteration.\n",
      "Divergence detected. Stopping iteration.\n",
      "Divergence detected. Stopping iteration.\n"
     ]
    }
   ],
   "source": [
    "best_parameters_per_regression_model['Log'] = best_selection_logistic(y_tr,x_tr,degrees,k_fold,initial_ws,max_iter,gammas)\n"
   ],
   "metadata": {
    "collapsed": false,
    "ExecuteTime": {
     "end_time": "2023-10-30T07:12:34.883702500Z",
     "start_time": "2023-10-30T07:09:33.773923500Z"
    }
   },
   "id": "f4f86edc53712182"
  },
  {
   "cell_type": "code",
   "execution_count": 12,
   "outputs": [
    {
     "ename": "KeyboardInterrupt",
     "evalue": "",
     "output_type": "error",
     "traceback": [
      "\u001B[1;31m---------------------------------------------------------------------------\u001B[0m",
      "\u001B[1;31mKeyboardInterrupt\u001B[0m                         Traceback (most recent call last)",
      "Cell \u001B[1;32mIn[12], line 1\u001B[0m\n\u001B[1;32m----> 1\u001B[0m best_parameters_per_regression_model[\u001B[38;5;124m'\u001B[39m\u001B[38;5;124mRegLog\u001B[39m\u001B[38;5;124m'\u001B[39m] \u001B[38;5;241m=\u001B[39m \u001B[43mbest_selection_reg_logistic\u001B[49m\u001B[43m(\u001B[49m\u001B[43my_tr\u001B[49m\u001B[43m,\u001B[49m\u001B[43mx_tr\u001B[49m\u001B[43m,\u001B[49m\u001B[43mdegrees\u001B[49m\u001B[43m,\u001B[49m\u001B[43mk_fold\u001B[49m\u001B[43m,\u001B[49m\u001B[43mmax_iter\u001B[49m\u001B[43m,\u001B[49m\u001B[43minitial_ws\u001B[49m\u001B[43m,\u001B[49m\u001B[43mlambdas\u001B[49m\u001B[43m,\u001B[49m\u001B[43mgammas\u001B[49m\u001B[43m)\u001B[49m\n",
      "File \u001B[1;32m~\\Documents\\EPFL\\ML\\Project1\\cross_validation.py:496\u001B[0m, in \u001B[0;36mbest_selection_reg_logistic\u001B[1;34m(y, x, degrees, k_fold, max_iters, initial_ws_shape, lambdas, gammas, seed)\u001B[0m\n\u001B[0;32m    494\u001B[0m rmse_te_list \u001B[38;5;241m=\u001B[39m []  \u001B[38;5;66;03m# To store test RMSE for each fold\u001B[39;00m\n\u001B[0;32m    495\u001B[0m \u001B[38;5;28;01mfor\u001B[39;00m k \u001B[38;5;129;01min\u001B[39;00m \u001B[38;5;28mrange\u001B[39m(k_fold):\n\u001B[1;32m--> 496\u001B[0m     _, loss_te, _ \u001B[38;5;241m=\u001B[39m \u001B[43mcross_validation_reg_logistic\u001B[49m\u001B[43m(\u001B[49m\u001B[43my\u001B[49m\u001B[43m,\u001B[49m\u001B[43m \u001B[49m\u001B[43mx\u001B[49m\u001B[43m,\u001B[49m\u001B[43m \u001B[49m\u001B[43mk_indices\u001B[49m\u001B[43m,\u001B[49m\u001B[43m \u001B[49m\u001B[43mk\u001B[49m\u001B[43m,\u001B[49m\u001B[43m \u001B[49m\u001B[43minitial_w\u001B[49m\u001B[43m,\u001B[49m\u001B[43m \u001B[49m\u001B[43mlamb\u001B[49m\u001B[43m,\u001B[49m\u001B[43m \u001B[49m\u001B[43mmax_iters\u001B[49m\u001B[43m,\u001B[49m\u001B[43m \u001B[49m\u001B[43mgamma\u001B[49m\u001B[43m,\u001B[49m\u001B[43m \u001B[49m\u001B[43mdegree\u001B[49m\u001B[43m)\u001B[49m\n\u001B[0;32m    497\u001B[0m     rmse_te_list\u001B[38;5;241m.\u001B[39mappend(loss_te)\n\u001B[0;32m    499\u001B[0m \u001B[38;5;66;03m# Calculate average test RMSE across folds\u001B[39;00m\n",
      "File \u001B[1;32m~\\Documents\\EPFL\\ML\\Project1\\cross_validation.py:455\u001B[0m, in \u001B[0;36mcross_validation_reg_logistic\u001B[1;34m(y, x, k_indices, k, initial_w, lamb, max_iters, gamma, degree)\u001B[0m\n\u001B[0;32m    452\u001B[0m     ini_w \u001B[38;5;241m=\u001B[39m np\u001B[38;5;241m.\u001B[39mrandom\u001B[38;5;241m.\u001B[39mrand(xpoly_tr\u001B[38;5;241m.\u001B[39mshape[\u001B[38;5;241m1\u001B[39m], \u001B[38;5;241m1\u001B[39m)\n\u001B[0;32m    454\u001B[0m \u001B[38;5;66;03m# Train using regularized logistic regression\u001B[39;00m\n\u001B[1;32m--> 455\u001B[0m w, loss_tr \u001B[38;5;241m=\u001B[39m \u001B[43mreg_logistic_regression\u001B[49m\u001B[43m(\u001B[49m\u001B[43my_tr\u001B[49m\u001B[43m,\u001B[49m\u001B[43m \u001B[49m\u001B[43mxpoly_tr\u001B[49m\u001B[43m,\u001B[49m\u001B[43m \u001B[49m\u001B[43mlamb\u001B[49m\u001B[43m,\u001B[49m\u001B[43m \u001B[49m\u001B[43mini_w\u001B[49m\u001B[43m,\u001B[49m\u001B[43m \u001B[49m\u001B[43mmax_iters\u001B[49m\u001B[43m,\u001B[49m\u001B[43m \u001B[49m\u001B[43mgamma\u001B[49m\u001B[43m)\u001B[49m\n\u001B[0;32m    457\u001B[0m \u001B[38;5;66;03m# Calculate the loss for train and test data\u001B[39;00m\n\u001B[0;32m    458\u001B[0m loss_tr \u001B[38;5;241m=\u001B[39m np\u001B[38;5;241m.\u001B[39msqrt(\u001B[38;5;241m2\u001B[39m \u001B[38;5;241m*\u001B[39m compute_loss(y_tr, xpoly_tr, w, \u001B[38;5;124m\"\u001B[39m\u001B[38;5;124mmse\u001B[39m\u001B[38;5;124m\"\u001B[39m))\n",
      "File \u001B[1;32m~\\Documents\\EPFL\\ML\\Project1\\implementations.py:220\u001B[0m, in \u001B[0;36mreg_logistic_regression\u001B[1;34m(y, tx, lambda_, initial_w, max_iters, gamma, tol, divergence_ratio)\u001B[0m\n\u001B[0;32m    217\u001B[0m w \u001B[38;5;241m-\u001B[39m\u001B[38;5;241m=\u001B[39m gamma \u001B[38;5;241m*\u001B[39m grad\n\u001B[0;32m    219\u001B[0m \u001B[38;5;66;03m# compute loss\u001B[39;00m\n\u001B[1;32m--> 220\u001B[0m loss \u001B[38;5;241m=\u001B[39m \u001B[43mcompute_loss\u001B[49m\u001B[43m(\u001B[49m\u001B[43my\u001B[49m\u001B[43m,\u001B[49m\u001B[43m \u001B[49m\u001B[43mtx\u001B[49m\u001B[43m,\u001B[49m\u001B[43m \u001B[49m\u001B[43mw\u001B[49m\u001B[43m,\u001B[49m\u001B[43m \u001B[49m\u001B[38;5;124;43m\"\u001B[39;49m\u001B[38;5;124;43mlog\u001B[39;49m\u001B[38;5;124;43m\"\u001B[39;49m\u001B[43m)\u001B[49m\n\u001B[0;32m    221\u001B[0m loss \u001B[38;5;241m+\u001B[39m\u001B[38;5;241m=\u001B[39m lambda_ \u001B[38;5;241m*\u001B[39m (np\u001B[38;5;241m.\u001B[39mlinalg\u001B[38;5;241m.\u001B[39mnorm(w) \u001B[38;5;241m*\u001B[39m\u001B[38;5;241m*\u001B[39m \u001B[38;5;241m2\u001B[39m)\n\u001B[0;32m    223\u001B[0m \u001B[38;5;66;03m# Calculate the change in the loss function\u001B[39;00m\n",
      "File \u001B[1;32m~\\Documents\\EPFL\\ML\\Project1\\costs.py:64\u001B[0m, in \u001B[0;36mcompute_loss\u001B[1;34m(y, tx, w, loss_type)\u001B[0m\n\u001B[0;32m     62\u001B[0m     \u001B[38;5;28;01mreturn\u001B[39;00m calculate_mae(e)\n\u001B[0;32m     63\u001B[0m \u001B[38;5;28;01melif\u001B[39;00m loss_type \u001B[38;5;241m==\u001B[39m \u001B[38;5;124m\"\u001B[39m\u001B[38;5;124mlog\u001B[39m\u001B[38;5;124m\"\u001B[39m:\n\u001B[1;32m---> 64\u001B[0m     y_pred \u001B[38;5;241m=\u001B[39m \u001B[43msigmoid\u001B[49m\u001B[43m(\u001B[49m\u001B[43mtx\u001B[49m\u001B[43m \u001B[49m\u001B[38;5;241;43m@\u001B[39;49m\u001B[43m \u001B[49m\u001B[43mw\u001B[49m\u001B[43m)\u001B[49m\n\u001B[0;32m     65\u001B[0m     \u001B[38;5;28;01mreturn\u001B[39;00m calculate_logloss(y, y_pred)\n\u001B[0;32m     66\u001B[0m \u001B[38;5;28;01melse\u001B[39;00m:\n",
      "File \u001B[1;32m~\\Documents\\EPFL\\ML\\Project1\\functions.py:26\u001B[0m, in \u001B[0;36msigmoid\u001B[1;34m(t)\u001B[0m\n\u001B[0;32m     20\u001B[0m \u001B[38;5;28;01mdef\u001B[39;00m \u001B[38;5;21msigmoid\u001B[39m(t):\n\u001B[0;32m     21\u001B[0m     \u001B[38;5;124;03m\"\"\"apply sigmoid function on t.\u001B[39;00m\n\u001B[0;32m     22\u001B[0m \u001B[38;5;124;03m    Args:\u001B[39;00m\n\u001B[0;32m     23\u001B[0m \u001B[38;5;124;03m        t: scalar or numpy array\u001B[39;00m\n\u001B[0;32m     24\u001B[0m \u001B[38;5;124;03m    Returns:\u001B[39;00m\n\u001B[0;32m     25\u001B[0m \u001B[38;5;124;03m        scalar or numpy array\"\"\"\u001B[39;00m\n\u001B[1;32m---> 26\u001B[0m     \u001B[38;5;28;01mreturn\u001B[39;00m \u001B[38;5;241m1\u001B[39m \u001B[38;5;241m/\u001B[39m (\u001B[38;5;241m1\u001B[39m \u001B[38;5;241m+\u001B[39m \u001B[43mnp\u001B[49m\u001B[38;5;241;43m.\u001B[39;49m\u001B[43mexp\u001B[49m\u001B[43m(\u001B[49m\u001B[38;5;241;43m-\u001B[39;49m\u001B[43mt\u001B[49m\u001B[43m)\u001B[49m)\n",
      "\u001B[1;31mKeyboardInterrupt\u001B[0m: "
     ]
    }
   ],
   "source": [
    "best_parameters_per_regression_model['RegLog'] = best_selection_reg_logistic(y_tr,x_tr,degrees,k_fold,max_iter,initial_ws,lambdas,gammas)\n"
   ],
   "metadata": {
    "collapsed": false,
    "ExecuteTime": {
     "end_time": "2023-10-30T07:22:04.773335100Z",
     "start_time": "2023-10-30T07:12:57.021837600Z"
    }
   },
   "id": "f3f4bf784166a9ef"
  },
  {
   "cell_type": "code",
   "execution_count": 14,
   "outputs": [],
   "source": [
    "np.random.seed(42)\n",
    "ini_w = np.random.rand(x_train_preprocessed.shape[1], 1)"
   ],
   "metadata": {
    "collapsed": false,
    "ExecuteTime": {
     "end_time": "2023-10-30T07:22:07.967341300Z",
     "start_time": "2023-10-30T07:22:07.942886900Z"
    }
   },
   "id": "291d7c9fd2a6d2f9"
  },
  {
   "cell_type": "code",
   "execution_count": 39,
   "outputs": [
    {
     "name": "stdout",
     "output_type": "stream",
     "text": [
      "{'GD': {'degree': 0, 'gamma': 0.016, 'initial_w': 'random'}, 'SGD': {'degree': 0, 'gamma': 0.005, 'initial_w': 'random'}, 'LS': None, 'Ridge': {'degree': 0, 'lambda': 0.001}, 'Log': {'degree': 0, 'gamma': 0.015, 'initial_w': 'random'}, 'RegLog': None}\n"
     ]
    }
   ],
   "source": [
    "print(best_parameters_per_regression_model)"
   ],
   "metadata": {
    "collapsed": false,
    "ExecuteTime": {
     "end_time": "2023-10-30T07:50:37.458866500Z",
     "start_time": "2023-10-30T07:50:37.430094Z"
    }
   },
   "id": "bcd7598535afd260"
  },
  {
   "cell_type": "code",
   "execution_count": null,
   "outputs": [],
   "source": [
    "w_gd, loss_gd = mean_squared_error_gd(y_train,x_train_preprocessed,ini_w,max_iter,best_parameters_per_regression_model['GD']['gamma'])\n",
    "w_sgd, loss_sgd = mean_squared_error_sgd(y_train,x_train_preprocessed,ini_w,max_iter,best_parameters_per_regression_model['SGD']['gamma'])\n",
    "w_ls, loss_ls = least_squares(y_train,x_train_preprocessed)\n",
    "w_ridge, loss_ridge = ridge_regression(y_train,x_train_preprocessed,best_parameters_per_regression_model['Ridge']['lambda'])\n",
    "w_log, loss_log = logistic_regression(y_train,x_train_preprocessed,ini_w,max_iter,best_parameters_per_regression_model['Log']['gamma'])\n",
    "#w_reglog, loss_reglog = reg_logistic_regression(y_train,x_train_preprocessed,best_parameters_per_regression_model['RegLog']['lambda'],ini_w,max_iter,best_parameters_per_regression_model['RegLog']['gamma'])"
   ],
   "metadata": {
    "collapsed": false,
    "ExecuteTime": {
     "start_time": "2023-10-30T07:37:44.457808300Z"
    }
   },
   "id": "d5fcd62f1b8319b3"
  },
  {
   "cell_type": "code",
   "execution_count": null,
   "outputs": [],
   "source": [
    "f1_regression_score['GD'] = compute_f1_score(y_te,prediction(x_te,w_gd))\n",
    "f1_regression_score['SGD'] = compute_f1_score(y_te,prediction(x_te,w_sgd))\n",
    "f1_regression_score['LS'] = compute_f1_score(y_te,prediction(x_te,w_ls))\n",
    "f1_regression_score['Ridge'] = compute_f1_score(y_te,prediction(x_te,w_ridge))\n",
    "f1_regression_score['Log'] = compute_f1_score(y_te,prediction(x_te,w_log))\n",
    "#f1_regression_score['RegLog'] = compute_f1_score(y_te,prediction(x_te,w_reglog))"
   ],
   "metadata": {
    "collapsed": false,
    "ExecuteTime": {
     "start_time": "2023-10-30T07:37:44.458809500Z"
    }
   },
   "id": "ff5cb50d81f561c7"
  },
  {
   "cell_type": "code",
   "execution_count": null,
   "outputs": [],
   "source": [
    "print(f1_regression_score)"
   ],
   "metadata": {
    "collapsed": false,
    "ExecuteTime": {
     "start_time": "2023-10-30T07:37:44.461812200Z"
    }
   },
   "id": "12ab1c795ba2ab70"
  },
  {
   "cell_type": "code",
   "execution_count": 19,
   "outputs": [],
   "source": [
    "best_score = -1  \n",
    "best_method = None  \n",
    "\n",
    "for method, score in f1_regression_score.items():\n",
    "    if score is not None:\n",
    "        if score > best_score:  \n",
    "            best_score = score  \n",
    "            best_method = method  \n",
    "\n",
    "w_pred  = 0\n",
    "loss_pred = 0\n",
    "if best_method == 'GD':\n",
    "    w_pred = w_gd\n",
    "if best_method == 'SGD':\n",
    "    w_pred = w_sgd\n",
    "if best_method == 'LS':\n",
    "    w_pred = w_ls\n",
    "if best_method == 'Ridge':\n",
    "    w_pred = w_ridge\n",
    "if best_method == 'Log':\n",
    "    w_pred = w_log\n",
    "#if best_method == 'Reglog':\n",
    "    #w_pred = w_reglog\n"
   ],
   "metadata": {
    "collapsed": false,
    "ExecuteTime": {
     "end_time": "2023-10-30T07:24:24.829106900Z",
     "start_time": "2023-10-30T07:24:24.815006100Z"
    }
   },
   "id": "f4e820bc3350ef36"
  },
  {
   "cell_type": "code",
   "execution_count": 20,
   "outputs": [],
   "source": [
    "y_pred = prediction(x_test_preprocessed,w_pred)"
   ],
   "metadata": {
    "collapsed": false,
    "ExecuteTime": {
     "end_time": "2023-10-30T07:24:27.590753100Z",
     "start_time": "2023-10-30T07:24:27.563324400Z"
    }
   },
   "id": "7e79dc847a91e492"
  },
  {
   "cell_type": "code",
   "execution_count": 21,
   "outputs": [],
   "source": [
    "create_csv_submission(test_ids,y_pred, 'submission')"
   ],
   "metadata": {
    "collapsed": false,
    "ExecuteTime": {
     "end_time": "2023-10-30T07:24:30.217139400Z",
     "start_time": "2023-10-30T07:24:29.793321900Z"
    }
   },
   "id": "6dde428f5dfd55f"
  }
 ],
 "metadata": {
  "kernelspec": {
   "display_name": "Python 3",
   "language": "python",
   "name": "python3"
  },
  "language_info": {
   "codemirror_mode": {
    "name": "ipython",
    "version": 2
   },
   "file_extension": ".py",
   "mimetype": "text/x-python",
   "name": "python",
   "nbconvert_exporter": "python",
   "pygments_lexer": "ipython2",
   "version": "2.7.6"
  }
 },
 "nbformat": 4,
 "nbformat_minor": 5
}
