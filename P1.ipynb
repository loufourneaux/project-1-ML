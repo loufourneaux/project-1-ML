{
 "cells": [
  {
   "cell_type": "code",
   "execution_count": 5,
   "id": "initial_id",
   "metadata": {
    "collapsed": true,
    "ExecuteTime": {
     "end_time": "2023-10-21T15:59:38.469181100Z",
     "start_time": "2023-10-21T15:50:59.361380100Z"
    }
   },
   "outputs": [],
   "source": [
    "from helpers import*\n",
    "import numpy as np\n",
    "x_train_input_data, x_train_ids = load_csv_data_x(r\"C:\\Users\\adrie\\OneDrive\\Documents\\EPFL\\ML\\Project 1\\dataset\\dataset\\dataset_to_release\\x_train.csv\")\n",
    "\n"
   ]
  },
  {
   "cell_type": "code",
   "execution_count": 6,
   "outputs": [
    {
     "name": "stdout",
     "output_type": "stream",
     "text": [
      "(328135, 320)\n"
     ]
    }
   ],
   "source": [
    "print(x_train_input_data.shape)"
   ],
   "metadata": {
    "collapsed": false,
    "ExecuteTime": {
     "end_time": "2023-10-21T16:00:56.169081700Z",
     "start_time": "2023-10-21T16:00:56.071195Z"
    }
   },
   "id": "e370db97e716c431"
  },
  {
   "cell_type": "code",
   "execution_count": 7,
   "outputs": [],
   "source": [
    "y_train = load_csv_data_y(r\"C:\\Users\\adrie\\OneDrive\\Documents\\EPFL\\ML\\Project 1\\dataset\\dataset\\dataset_to_release\\y_train.csv\")"
   ],
   "metadata": {
    "collapsed": false,
    "ExecuteTime": {
     "end_time": "2023-10-21T16:01:02.263810400Z",
     "start_time": "2023-10-21T16:00:58.633068800Z"
    }
   },
   "id": "78e8ccd7cd81a643"
  },
  {
   "cell_type": "code",
   "execution_count": 8,
   "outputs": [],
   "source": [
    "def remove_col(x, nan_percentage = 0.8) :\n",
    "\n",
    "    #Remove columns in which there are too much NaN values (<80%)\n",
    "    to_delete = []\n",
    "    for i in range(x.shape[1] - 1, 1, -1):\n",
    "        num_NaN = np.count_nonzero(np.isnan(x[:,i]))\n",
    "        p_NaN = num_NaN / x.shape[0]\n",
    "        if p_NaN > nan_percentage:\n",
    "            to_delete.append(i)\n",
    "\n",
    "    x = x[:, [i for i in range(x.shape[1]) if i not in to_delete]]\n",
    "    return x"
   ],
   "metadata": {
    "collapsed": false,
    "ExecuteTime": {
     "end_time": "2023-10-21T16:01:52.690910200Z",
     "start_time": "2023-10-21T16:01:52.675343Z"
    }
   },
   "id": "d65c21b36eff3785"
  },
  {
   "cell_type": "code",
   "execution_count": 9,
   "outputs": [],
   "source": [
    "x_train_clean1 = remove_col(x_train_input_data)"
   ],
   "metadata": {
    "collapsed": false,
    "ExecuteTime": {
     "end_time": "2023-10-21T16:02:14.550061700Z",
     "start_time": "2023-10-21T16:01:54.231638700Z"
    }
   },
   "id": "9d727aa7280970eb"
  },
  {
   "cell_type": "code",
   "execution_count": 10,
   "outputs": [
    {
     "name": "stdout",
     "output_type": "stream",
     "text": [
      "(328135, 204)\n"
     ]
    }
   ],
   "source": [
    "print(x_train_clean1.shape)"
   ],
   "metadata": {
    "collapsed": false,
    "ExecuteTime": {
     "end_time": "2023-10-21T16:02:14.653690Z",
     "start_time": "2023-10-21T16:02:14.587082200Z"
    }
   },
   "id": "a6ffc5dfdd1fef49"
  },
  {
   "cell_type": "code",
   "execution_count": 18,
   "outputs": [],
   "source": [
    "def clean_data(data):\n",
    "    clean_datas = data.copy()\n",
    "\n",
    "    for i in range(data.shape[1]):\n",
    "        col = clean_datas[:, i]\n",
    "        is_nan = np.isnan(col)\n",
    "\n",
    "        if is_nan.any():\n",
    "            valid_values = col[~is_nan]\n",
    "            if valid_values.size > 0:\n",
    "                median = np.median(valid_values)\n",
    "                col[is_nan] = median\n",
    "\n",
    "    return clean_datas"
   ],
   "metadata": {
    "collapsed": false,
    "ExecuteTime": {
     "end_time": "2023-10-21T16:05:35.492711800Z",
     "start_time": "2023-10-21T16:05:35.389938200Z"
    }
   },
   "id": "72dd12293f6973a5"
  },
  {
   "cell_type": "code",
   "execution_count": 19,
   "outputs": [],
   "source": [
    "x_train_clean2 = clean_data(x_train_clean1)"
   ],
   "metadata": {
    "collapsed": false,
    "ExecuteTime": {
     "end_time": "2023-10-21T16:05:51.680539600Z",
     "start_time": "2023-10-21T16:05:38.086433200Z"
    }
   },
   "id": "32b35af6dce0c4b8"
  },
  {
   "cell_type": "code",
   "execution_count": 25,
   "outputs": [
    {
     "name": "stdout",
     "output_type": "stream",
     "text": [
      "False\n"
     ]
    }
   ],
   "source": [
    "print(np.isnan(x_train_clean2).any())"
   ],
   "metadata": {
    "collapsed": false,
    "ExecuteTime": {
     "end_time": "2023-10-21T16:06:49.337224100Z",
     "start_time": "2023-10-21T16:06:49.161873500Z"
    }
   },
   "id": "1eac8e31faa24a4e"
  },
  {
   "cell_type": "code",
   "execution_count": 39,
   "outputs": [],
   "source": [
    "def remove_outliers(data):\n",
    "\n",
    "    filtered_data = data.copy()\n",
    "    for i in range(filtered_data.shape[1]):\n",
    "        col_data = filtered_data[:,i]\n",
    "        q1 = np.percentile(col_data,25)\n",
    "        q3 = np.percentile(col_data,75)\n",
    "        iqr = q3 - q1\n",
    "        lower_bound = q1 - 1.5*iqr\n",
    "        upper_bound = q3 + 1.5*iqr\n",
    "\n",
    "        col_data[(col_data<lower_bound)|(col_data>upper_bound)] = np.median(col_data)\n",
    "        filtered_data[:,i]= col_data\n",
    "    return filtered_data"
   ],
   "metadata": {
    "collapsed": false,
    "ExecuteTime": {
     "end_time": "2023-10-21T16:20:07.910030100Z",
     "start_time": "2023-10-21T16:20:07.766091100Z"
    }
   },
   "id": "a004475d6f36a2a7"
  },
  {
   "cell_type": "code",
   "execution_count": 46,
   "outputs": [
    {
     "name": "stdout",
     "output_type": "stream",
     "text": [
      "<class 'numpy.ndarray'>\n"
     ]
    }
   ],
   "source": [
    "x_train_clean3 = remove_outliers(x_train_clean2)"
   ],
   "metadata": {
    "collapsed": false,
    "ExecuteTime": {
     "end_time": "2023-10-21T16:23:20.491990500Z",
     "start_time": "2023-10-21T16:22:57.693991900Z"
    }
   },
   "id": "5a915708b6d9023c"
  },
  {
   "cell_type": "code",
   "execution_count": 45,
   "outputs": [
    {
     "name": "stdout",
     "output_type": "stream",
     "text": [
      "<class 'numpy.ndarray'>\n",
      "[[  1   2   3]\n",
      " [  4   5   6]\n",
      " [100 110 120]\n",
      " [  7   8   9]]\n",
      "[28.   31.25 34.5 ]\n",
      "[41.62331078 45.51579396 49.40900728]\n",
      "[[1 2 3]\n",
      " [4 5 6]\n",
      " [5 6 7]\n",
      " [7 8 9]]\n",
      "[4.25 5.25 6.25]\n",
      "[2.16506351 2.16506351 2.16506351]\n"
     ]
    }
   ],
   "source": [
    "data = np.array([[1, 2, 3],\n",
    "                 [4, 5, 6],\n",
    "                 [100, 110, 120],\n",
    "                 [7, 8, 9]])\n",
    "\n",
    "cleaned_datas = remove_outliers(data)\n",
    "\n",
    "mean_before = np.mean(data, axis=0)\n",
    "std_before = np.std(data, axis=0)\n",
    "mean_after = np.mean(cleaned_datas, axis=0)\n",
    "std_after = np.std(cleaned_datas, axis=0)\n",
    "print(data)\n",
    "print( mean_before)\n",
    "print(std_before)\n",
    "print(cleaned_datas)\n",
    "print( mean_after)\n",
    "print( std_after)\n"
   ],
   "metadata": {
    "collapsed": false,
    "ExecuteTime": {
     "end_time": "2023-10-21T16:22:46.136887300Z",
     "start_time": "2023-10-21T16:22:45.983633400Z"
    }
   },
   "id": "e06d25f1ecb73743"
  },
  {
   "cell_type": "code",
   "execution_count": 56,
   "outputs": [],
   "source": [
    "def standardize(data):\n",
    "\n",
    "    mean = np.mean(data, axis=0)\n",
    "    std = np.std(data, axis= 0)\n",
    "    for i in range(len(std)):\n",
    "        if std[i] < 1e-10:\n",
    "            std[i] = 1\n",
    "    standardized_data = (data - mean)/std\n",
    "    return standardized_data\n"
   ],
   "metadata": {
    "collapsed": false,
    "ExecuteTime": {
     "end_time": "2023-10-21T16:30:57.189243900Z",
     "start_time": "2023-10-21T16:30:57.150690500Z"
    }
   },
   "id": "ac9a41f880ecd579"
  },
  {
   "cell_type": "code",
   "execution_count": 59,
   "outputs": [],
   "source": [
    "x_train_clean4 = standardize(x_train_clean3)"
   ],
   "metadata": {
    "collapsed": false,
    "ExecuteTime": {
     "end_time": "2023-10-21T16:37:00.943206200Z",
     "start_time": "2023-10-21T16:36:48.294746500Z"
    }
   },
   "id": "cb7d3cd57a86067b"
  },
  {
   "cell_type": "code",
   "execution_count": 58,
   "outputs": [
    {
     "name": "stdout",
     "output_type": "stream",
     "text": [
      "Statistiques des données avant la standardisation:\n",
      "Moyenne avant : [4. 5. 6.]\n",
      "Écart type avant : [2.44948974 2.44948974 2.44948974]\n",
      "\n",
      "Statistiques des données après la standardisation:\n",
      "Moyenne après : [0. 0. 0.]\n",
      "Écart type après : [1. 1. 1.]\n",
      "[[1 2 3]\n",
      " [4 5 6]\n",
      " [7 8 9]]\n",
      "Données standardisées :\n",
      "[[-1.22474487 -1.22474487 -1.22474487]\n",
      " [ 0.          0.          0.        ]\n",
      " [ 1.22474487  1.22474487  1.22474487]]\n"
     ]
    }
   ],
   "source": [
    "data = np.array([[1, 2, 3],\n",
    "                 [4, 5, 6],\n",
    "                 [7, 8, 9]])\n",
    "\n",
    "# Appelez la fonction de standardisation sur les données d'exemple\n",
    "standardized_data = standardize(data)\n",
    "\n",
    "# Comparez les statistiques des données avant et après\n",
    "mean_before = np.mean(data, axis=0)\n",
    "std_before = np.std(data, axis=0)\n",
    "mean_after = np.mean(standardized_data, axis=0)\n",
    "std_after = np.std(standardized_data, axis=0)\n",
    "print(\"Statistiques des données avant la standardisation:\")\n",
    "print(\"Moyenne avant :\", mean_before)\n",
    "print(\"Écart type avant :\", std_before)\n",
    "\n",
    "print(\"\\nStatistiques des données après la standardisation:\")\n",
    "print(\"Moyenne après :\", mean_after)\n",
    "print(\"Écart type après :\", std_after)\n",
    "\n",
    "# Vérifiez visuellement les données standardisées\n",
    "print(data)\n",
    "print(\"Données standardisées :\")\n",
    "print(standardized_data)"
   ],
   "metadata": {
    "collapsed": false,
    "ExecuteTime": {
     "end_time": "2023-10-21T16:31:53.433935Z",
     "start_time": "2023-10-21T16:31:53.351392700Z"
    }
   },
   "id": "3a3b5cee07e9c6a6"
  },
  {
   "cell_type": "code",
   "execution_count": 128,
   "outputs": [],
   "source": [
    "def remove_correlated_columns(data, correlation_threshold=0.1):\n",
    "    uncorrelated_data = data.copy()\n",
    "    upper_triangle = np.triu(np.ones((data.shape[1], data.shape[1]), dtype=bool), k=1)\n",
    "\n",
    "    indices_to_delete = []\n",
    "\n",
    "    for i in range(data.shape[1]):\n",
    "        for j in range(i + 1, data.shape[1]):\n",
    "            if upper_triangle[i, j]:\n",
    "                corr = np.corrcoef(uncorrelated_data[:, i], uncorrelated_data[:, j])[0, 1]\n",
    "                if np.abs(corr) >= correlation_threshold:\n",
    "                    indices_to_delete.append(j)\n",
    "    \n",
    "    uncorrelated_data = np.delete(uncorrelated_data, indices_to_delete, axis=1)\n",
    "\n",
    "    return uncorrelated_data"
   ],
   "metadata": {
    "collapsed": false,
    "ExecuteTime": {
     "end_time": "2023-10-21T17:27:38.072648800Z",
     "start_time": "2023-10-21T17:27:37.934273400Z"
    }
   },
   "id": "e36cd3f41fcac38d"
  },
  {
   "cell_type": "code",
   "execution_count": null,
   "outputs": [],
   "source": [
    "x_train_clean5 = remove_correlated_columns(x_train_clean4)"
   ],
   "metadata": {
    "collapsed": false
   },
   "id": "e70a9058b993e296"
  },
  {
   "cell_type": "code",
   "execution_count": 129,
   "outputs": [
    {
     "name": "stdout",
     "output_type": "stream",
     "text": [
      "[[ 1.   2.   3.   5. ]\n",
      " [ 4.   5.   6.  12. ]\n",
      " [ 7.   8.   9.   3.5]\n",
      " [10.  11.  12.  54. ]]\n",
      "[[ 1.]\n",
      " [ 4.]\n",
      " [ 7.]\n",
      " [10.]]\n"
     ]
    }
   ],
   "source": [
    "data = np.array([[1, 2, 3, 5],\n",
    "                 [4, 5, 6, 12],\n",
    "                 [7, 8, 9, 3.5 ],\n",
    "                 [10, 11, 12, 54]])\n",
    "\n",
    "datas_cleaned = remove_correlated_columns(data)\n",
    "print(data)\n",
    "print(datas_cleaned)"
   ],
   "metadata": {
    "collapsed": false,
    "ExecuteTime": {
     "end_time": "2023-10-21T17:27:42.288401300Z",
     "start_time": "2023-10-21T17:27:42.196713400Z"
    }
   },
   "id": "ec66e22c189e1d6f"
  },
  {
   "cell_type": "code",
   "execution_count": null,
   "outputs": [],
   "source": [
    "import pandas as pd \n",
    "x_train = pd.read_csv(r\"C:\\Users\\adrie\\OneDrive\\Documents\\EPFL\\ML\\Project 1\\dataset\\x_train.csv\")\n",
    "y_train = pd.read_csv(r\"C:\\Users\\adrie\\OneDrive\\Documents\\EPFL\\ML\\Project 1\\dataset\\y_train.csv\")\n",
    "x_test = pd.read_csv(r\"C:\\Users\\adrie\\OneDrive\\Documents\\EPFL\\ML\\Project 1\\dataset\\x_test.csv\")"
   ],
   "metadata": {
    "collapsed": false,
    "is_executing": true,
    "ExecuteTime": {
     "start_time": "2023-10-21T15:33:31.288459900Z"
    }
   },
   "id": "d6bb192d568c5b07"
  },
  {
   "cell_type": "code",
   "execution_count": null,
   "outputs": [],
   "source": [
    "x_train.describe()"
   ],
   "metadata": {
    "collapsed": false,
    "is_executing": true,
    "ExecuteTime": {
     "start_time": "2023-10-21T15:33:31.319474100Z"
    }
   },
   "id": "d0be9d7cca9e2725"
  },
  {
   "cell_type": "code",
   "execution_count": null,
   "outputs": [],
   "source": [
    "x_train.PREGNANT\n"
   ],
   "metadata": {
    "collapsed": false,
    "is_executing": true,
    "ExecuteTime": {
     "start_time": "2023-10-21T15:33:31.320461700Z"
    }
   },
   "id": "d32af7c244071e6e"
  },
  {
   "cell_type": "code",
   "execution_count": null,
   "outputs": [],
   "source": [
    "x_test_y_b, x_test_input_data, x_test_ids = load_csv_data(r\"C:\\Users\\adrie\\OneDrive\\Documents\\EPFL\\ML\\Project 1\\dataset\\x_test.csv\")"
   ],
   "metadata": {
    "collapsed": false,
    "is_executing": true,
    "ExecuteTime": {
     "start_time": "2023-10-21T15:33:31.320461700Z"
    }
   },
   "id": "d509df643f8f158d"
  },
  {
   "cell_type": "code",
   "execution_count": null,
   "outputs": [],
   "source": [
    "x_train.head()"
   ],
   "metadata": {
    "collapsed": false,
    "is_executing": true,
    "ExecuteTime": {
     "start_time": "2023-10-21T15:33:31.321458100Z"
    }
   },
   "id": "c4a2146f5356da0f"
  }
 ],
 "metadata": {
  "kernelspec": {
   "display_name": "Python 3",
   "language": "python",
   "name": "python3"
  },
  "language_info": {
   "codemirror_mode": {
    "name": "ipython",
    "version": 2
   },
   "file_extension": ".py",
   "mimetype": "text/x-python",
   "name": "python",
   "nbconvert_exporter": "python",
   "pygments_lexer": "ipython2",
   "version": "2.7.6"
  }
 },
 "nbformat": 4,
 "nbformat_minor": 5
}
