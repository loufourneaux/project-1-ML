{
 "cells": [
  {
   "cell_type": "code",
   "execution_count": 1,
   "outputs": [],
   "source": [
    "import os\n",
    "import numpy as np\n",
    "\n",
    "def load_csv_data(data_path, sub_sample=False):\n",
    "    \"\"\"\n",
    "    This function loads the data and returns the respectinve numpy arrays.\n",
    "    Remember to put the 3 files in the same folder and to not change the names of the files.\n",
    "\n",
    "    Args:\n",
    "        data_path (str): datafolder path\n",
    "        sub_sample (bool, optional): If True the data will be subsempled. Default to False.\n",
    "\n",
    "    Returns:\n",
    "        x_train (np.array): training data\n",
    "        x_test (np.array): test data\n",
    "        y_train (np.array): labels for training data in format (-1,1)\n",
    "        train_ids (np.array): ids of training data\n",
    "        test_ids (np.array): ids of test data\n",
    "    \"\"\"\n",
    "    y_train = np.genfromtxt(\n",
    "        os.path.join(data_path, \"y_train.csv\"),\n",
    "        delimiter=\",\",\n",
    "        skip_header=1,\n",
    "        dtype=int,\n",
    "        usecols=1,\n",
    "    )\n",
    "    x_train = np.genfromtxt(\n",
    "        os.path.join(data_path, \"x_train.csv\"), delimiter=\",\", skip_header=1\n",
    "    )\n",
    "    x_test = np.genfromtxt(\n",
    "        os.path.join(data_path, \"x_test.csv\"), delimiter=\",\", skip_header=1\n",
    "    )\n",
    "\n",
    "    train_ids = x_train[:, 0].astype(dtype=int)\n",
    "    test_ids = x_test[:, 0].astype(dtype=int)\n",
    "    x_train = x_train[:, 1:]\n",
    "    x_test = x_test[:, 1:]\n",
    "\n",
    "    # sub-sample\n",
    "    if sub_sample:\n",
    "        y_train = y_train[::50]\n",
    "        x_train = x_train[::50]\n",
    "        train_ids = train_ids[::50]\n",
    "\n",
    "    return x_train, x_test, y_train, train_ids, test_ids\n"
   ],
   "metadata": {
    "collapsed": false,
    "ExecuteTime": {
     "end_time": "2023-10-25T22:46:51.557344500Z",
     "start_time": "2023-10-25T22:46:51.137197100Z"
    }
   },
   "id": "328eb23b25b4b9ed"
  },
  {
   "cell_type": "code",
   "execution_count": 34,
   "id": "initial_id",
   "metadata": {
    "collapsed": true,
    "ExecuteTime": {
     "end_time": "2023-10-25T23:32:32.707804800Z",
     "start_time": "2023-10-25T23:30:43.657842100Z"
    }
   },
   "outputs": [],
   "source": [
    "x_train,x_test,y_train,train_ids, test_ids = load_csv_data(r\"C:\\Users\\Home\\Documents\\EPFL\\ML\\Project1\\dataset\\dataset\\dataset_to_release\",sub_sample=True)\n"
   ]
  },
  {
   "cell_type": "code",
   "execution_count": 35,
   "outputs": [
    {
     "name": "stdout",
     "output_type": "stream",
     "text": [
      "[5.30000000e+01 1.10000000e+01 1.11620150e+07 1.10000000e+01\n",
      " 1.60000000e+01 2.01500000e+03 1.10000000e+03 2.01501563e+09\n",
      " 2.01501563e+09            nan            nan            nan\n",
      "            nan            nan            nan            nan\n",
      "            nan            nan 1.00000000e+00 1.00000000e+00\n",
      " 2.00000000e+00 1.00000000e+00            nan 1.00000000e+00\n",
      " 1.00000000e+00 2.00000000e+00 2.00000000e+00 1.00000000e+00\n",
      " 5.00000000e+00 8.80000000e+01 1.00000000e+00 1.00000000e+00\n",
      " 2.00000000e+00 1.00000000e+00 3.00000000e+00            nan\n",
      " 1.00000000e+00 1.00000000e+00 2.00000000e+00 2.00000000e+00\n",
      " 2.00000000e+00            nan 2.00000000e+00 2.00000000e+00\n",
      " 2.00000000e+00 2.00000000e+00 1.00000000e+00 2.00000000e+00\n",
      " 3.00000000e+00            nan 2.00000000e+00 1.00000000e+00\n",
      " 5.00000000e+00 1.00000000e+00            nan            nan\n",
      "            nan 2.00000000e+00 1.00000000e+00 8.80000000e+01\n",
      " 8.00000000e+00 1.00000000e+00 1.10000000e+02 5.01000000e+02\n",
      "            nan 1.00000000e+00 2.00000000e+00 2.00000000e+00\n",
      " 2.00000000e+00 2.00000000e+00 2.00000000e+00 2.00000000e+00\n",
      " 1.00000000e+00 1.00000000e+00 1.00000000e+00            nan\n",
      " 3.00000000e+00 8.88000000e+02            nan            nan\n",
      "            nan 5.55000000e+02 2.05000000e+02 3.04000000e+02\n",
      " 3.03000000e+02 3.08000000e+02 2.05000000e+02 1.00000000e+00\n",
      " 6.40000000e+01 1.02000000e+02 3.00000000e+01 9.80000000e+01\n",
      " 2.20000000e+02 3.00000000e+01 1.05000000e+02            nan\n",
      "            nan            nan            nan 1.00000000e+00\n",
      " 1.00000000e+00 1.02015000e+05 8.00000000e+00 2.00000000e+00\n",
      " 2.00000000e+00            nan            nan            nan\n",
      "            nan            nan            nan            nan\n",
      "            nan            nan            nan            nan\n",
      "            nan            nan            nan            nan\n",
      "            nan            nan            nan            nan\n",
      "            nan            nan            nan            nan\n",
      "            nan            nan            nan            nan\n",
      "            nan            nan            nan            nan\n",
      "            nan            nan            nan            nan\n",
      "            nan            nan            nan            nan\n",
      "            nan            nan            nan            nan\n",
      "            nan            nan            nan            nan\n",
      "            nan            nan            nan            nan\n",
      "            nan            nan            nan            nan\n",
      "            nan            nan            nan            nan\n",
      "            nan            nan            nan            nan\n",
      "            nan            nan 1.00000000e+00 3.00000000e+00\n",
      " 1.00000000e+00 5.00000000e+00 2.00000000e+00            nan\n",
      " 1.00000000e+00            nan            nan 1.00000000e+00\n",
      " 4.00000000e+00 1.00000000e+00 2.00000000e+00 4.00000000e+00\n",
      "            nan            nan            nan            nan\n",
      "            nan            nan            nan            nan\n",
      "            nan            nan            nan            nan\n",
      "            nan            nan            nan            nan\n",
      "            nan            nan            nan            nan\n",
      "            nan            nan            nan            nan\n",
      "            nan            nan            nan            nan\n",
      "            nan            nan            nan            nan\n",
      " 2.00000000e+01 1.00000000e+00            nan 5.32049000e+05\n",
      " 1.20931680e+02 1.00000000e+00 1.20931680e+02            nan\n",
      "            nan            nan            nan 2.00000000e+00\n",
      " 2.33947890e-01 2.64741181e+02 1.00000000e+00 1.00000000e+00\n",
      " 1.00000000e+00 1.00000000e+00 1.00000000e+00 1.00000000e+00\n",
      " 1.00000000e+00 3.00000000e+00 2.00000000e+00 1.00000000e+00\n",
      " 1.00000000e+00 2.00000000e+00 1.00000000e+00 1.00000000e+00\n",
      " 1.00000000e+00 1.00000000e+00 8.00000000e+00 1.00000000e+00\n",
      " 5.70000000e+01 5.00000000e+00 6.10000000e+01 1.55000000e+00\n",
      " 4.99000000e+01 2.07800000e+01 2.00000000e+00 1.00000000e+00\n",
      " 1.00000000e+00 3.00000000e+00 5.00000000e+00 1.00000000e+00\n",
      " 2.00000000e+00 2.00000000e+00 0.00000000e+00 1.00000000e+00\n",
      " 0.00000000e+00 1.00000000e+00 0.00000000e+00 7.10000000e-01\n",
      " 1.30000000e-01 1.00000000e-01 2.70000000e-01 7.10000000e-01\n",
      " 0.00000000e+00 0.00000000e+00 1.00000000e+00 1.00000000e+00\n",
      " 7.10000000e-01 1.21000000e+00 2.00000000e+00 1.00000000e+00\n",
      " 1.00000000e+00 1.00000000e+00 0.00000000e+00 0.00000000e+00\n",
      " 1.00000000e+00 3.50000000e+00 4.50000000e+00 2.69100000e+01\n",
      " 4.61000000e+00 1.00000000e+00 1.00000000e+00 3.00000000e+01\n",
      " 3.00000000e+01 2.00000000e+00 4.66700000e+00 6.00000000e+01\n",
      " 1.40000000e+02 5.00000000e+00 0.00000000e+00 6.00000000e+01\n",
      " 1.40000000e+02 2.00000000e+02 0.00000000e+00 0.00000000e+00\n",
      " 0.00000000e+00 2.00000000e+00 1.00000000e+00 1.00000000e+00\n",
      " 2.00000000e+00 2.00000000e+00 1.00000000e+00 1.00000000e+00\n",
      " 1.00000000e+00 3.00000000e+00 3.00000000e+00 4.00000000e+00\n",
      " 1.00000000e+00 1.00000000e+00            nan            nan\n",
      " 2.00000000e+00]\n"
     ]
    }
   ],
   "source": [
    "print(x_train[0,:])"
   ],
   "metadata": {
    "collapsed": false,
    "ExecuteTime": {
     "end_time": "2023-10-25T23:32:32.727749100Z",
     "start_time": "2023-10-25T23:32:32.709311400Z"
    }
   },
   "id": "7939dc58c0bca9a"
  },
  {
   "cell_type": "code",
   "execution_count": 5,
   "outputs": [
    {
     "name": "stdout",
     "output_type": "stream",
     "text": [
      "[  1.   2.   3.   4.   5.   6.   7.   8.   9.  10.  11.  12.  13.  14.\n",
      "  15.  16.  17.  18.  19.  20.  21.  22.  23.  24.  25.  26.  27.  28.\n",
      "  29.  30.  31.  32.  33.  34.  35.  36.  37.  38.  39.  40.  41.  42.\n",
      "  43.  44.  45.  46.  47.  48.  49.  50.  51.  52.  53.  54.  55.  56.\n",
      "  57.  58.  59.  60.  61.  62.  63.  64.  65.  66.  67.  68.  69.  70.\n",
      "  71.  72.  73.  74.  75.  76.  77.  78.  79.  80.  81.  82.  83.  84.\n",
      "  85.  86.  87.  88.  89.  90.  91.  92.  93.  94.  95.  96.  97.  98.\n",
      "  99. 100. 101. 102. 103. 104. 105. 106. 107. 108. 109. 110. 111. 112.\n",
      " 113. 114. 115. 116. 117. 118. 119. 120. 121. 122. 123. 124. 125. 126.\n",
      " 127. 128. 129. 130. 131. 132. 133. 134. 135. 136. 137. 138. 139. 140.\n",
      " 141. 142. 143. 144. 145. 146. 147. 148. 149. 150. 151. 152. 153. 154.\n",
      " 155. 156. 157. 158. 159. 160. 161. 162. 163. 164. 165. 166. 167. 168.\n",
      " 169. 170. 171. 172. 173. 174. 175. 176. 177. 178. 179. 180. 181. 182.\n",
      " 183. 184. 185. 186. 187. 188. 189. 190. 191. 192. 193. 194. 195. 196.\n",
      " 197. 198. 199. 200. 201. 202. 203. 204. 205. 206. 207. 208. 209. 210.\n",
      " 211. 212. 213. 214. 215. 216. 217. 218. 219. 220. 221. 222. 223. 224.\n",
      " 225. 226. 227. 228. 229. 230. 231. 232. 233. 234. 235. 236. 237. 238.\n",
      " 239. 240. 241. 242. 243. 244. 245. 246. 247. 248. 249. 250. 251. 252.\n",
      " 253. 254. 255. 256. 257. 258. 259. 260. 261. 262. 263. 264. 265. 266.\n",
      " 267. 268. 269. 270. 271. 272. 273. 274. 275. 276. 277. 278. 279. 280.\n",
      " 281. 282. 283. 284. 285. 286. 287. 288. 289. 290. 291. 292. 293. 294.\n",
      " 295. 296. 297. 298. 299. 300. 301. 302. 303. 304. 305. 306. 307. 308.\n",
      " 309. 310. 311. 312. 313. 314. 315. 316. 317. 318. 319. 320. 321.]\n"
     ]
    }
   ],
   "source": [
    "column_numbers = np.arange(1, x_train.shape[1] + 1)\n",
    "x_train = np.vstack((column_numbers, x_train))\n",
    "print(x_train[0,:])"
   ],
   "metadata": {
    "collapsed": false,
    "ExecuteTime": {
     "end_time": "2023-10-25T20:06:34.883934100Z",
     "start_time": "2023-10-25T20:06:34.661143700Z"
    }
   },
   "id": "7862d63e453f52fe"
  },
  {
   "cell_type": "code",
   "execution_count": 36,
   "outputs": [],
   "source": [
    "def convert_categorical_col(matrix, categorical_indices):\n",
    "    unique_values = {}\n",
    "    \n",
    "    for col_index in categorical_indices:\n",
    "        unique_values[col_index] = list(set(row[col_index] for row in matrix))\n",
    "    num_unique = {col_index: len(unique_values[col_index])for col_index in categorical_indices}\n",
    "    total_unique = sum(num_unique.values())\n",
    "    \n",
    "    num_rows = len(matrix)\n",
    "\n",
    "    new_matrix = np.empty((num_rows,total_unique),dtype=int)\n",
    "    current_col = 0\n",
    "    for col_index in categorical_indices:\n",
    "        num_unique_col = num_unique[col_index]\n",
    "        for i, row in enumerate(matrix):\n",
    "            category = row[col_index]\n",
    "            new_matrix[i,current_col:current_col+num_unique_col] = [1 if category == unique_value else 0 for unique_value in unique_values]\n",
    "            \n",
    "        current_col += num_unique_col\n",
    "                \n",
    "    \n",
    "    return np.array(new_matrix)"
   ],
   "metadata": {
    "collapsed": false,
    "ExecuteTime": {
     "end_time": "2023-10-25T23:32:32.768715700Z",
     "start_time": "2023-10-25T23:32:32.723746600Z"
    }
   },
   "id": "909250b0c6e82043"
  },
  {
   "cell_type": "code",
   "execution_count": 37,
   "outputs": [],
   "source": [
    "def convert_categorical_columnsv2(matrix, categorical_indices):\n",
    "    unique_values = {}\n",
    "\n",
    "    # Initialize unique values for each categorical column\n",
    "    for col_index in categorical_indices:\n",
    "        unique_values[col_index] = []\n",
    "\n",
    "\n",
    "    # Iterate through the data to find all unique values\n",
    "    for row in matrix:\n",
    "        for col_index in categorical_indices:\n",
    "            value = row[col_index]\n",
    "            if value not in unique_values[col_index]:\n",
    "                unique_values[col_index].append(value)\n",
    "\n",
    "    new_matrix = []\n",
    "\n",
    "    for row in matrix:\n",
    "        new_row = []\n",
    "        for col_index in range(len(row)):\n",
    "            if col_index not in categorical_indices:\n",
    "                new_row.append(row[col_index])\n",
    "            else:\n",
    "                category = row[col_index]\n",
    "                for unique_value in unique_values[col_index]:\n",
    "                    new_row.append(1 if category == unique_value else 0)\n",
    "        new_matrix.append(new_row)\n",
    "\n",
    "    return np.array(new_matrix)"
   ],
   "metadata": {
    "collapsed": false,
    "ExecuteTime": {
     "end_time": "2023-10-25T23:32:32.768715700Z",
     "start_time": "2023-10-25T23:32:32.744169300Z"
    }
   },
   "id": "f1dc0e44c631b77c"
  },
  {
   "cell_type": "code",
   "execution_count": 38,
   "outputs": [],
   "source": [
    "def categorize_col(data):\n",
    "    discrete_values_col = []\n",
    "    \n",
    "    for i in range(data.shape[1]):\n",
    "        unique_values = np.unique(data[:,i])\n",
    "        nbr_unique_values = len(unique_values)\n",
    "        max_value = np.nanmax(data[:,i])\n",
    "\n",
    "        if nbr_unique_values <= 5 and max_value <= 9:\n",
    "            discrete_values_col.append(i)\n",
    "            \n",
    "        elif nbr_unique_values >5 and max_value <= 9:\n",
    "            discrete_values_col.append(i)\n",
    "            \n",
    "    all_col = set(range(data.shape[1]))\n",
    "    continuous_values_col = list(all_col-set((discrete_values_col)))\n",
    "    return discrete_values_col, continuous_values_col\n"
   ],
   "metadata": {
    "collapsed": false,
    "ExecuteTime": {
     "end_time": "2023-10-25T23:32:32.783467Z",
     "start_time": "2023-10-25T23:32:32.755692500Z"
    }
   },
   "id": "ff72d492b7a5972d"
  },
  {
   "cell_type": "code",
   "execution_count": null,
   "outputs": [],
   "source": [
    "discrete_col, continuous_col = categorize_col(x_train[1:,:])"
   ],
   "metadata": {
    "collapsed": false,
    "ExecuteTime": {
     "start_time": "2023-10-25T22:47:42.812315800Z"
    }
   },
   "id": "a2d3052fe01d1e0b"
  },
  {
   "cell_type": "code",
   "execution_count": 10,
   "outputs": [
    {
     "name": "stdout",
     "output_type": "stream",
     "text": [
      "[  1.   2.   3.   4.   5.   6.   7.   8.   9.  10.  11.  12.  13.  14.\n",
      "  15.  16.  17.  18.  19.  20.  21.  22.  23.  24.  25.  26.  27.  28.\n",
      "  29.  30.  31.  32.  33.  34.  35.  36.  37.  38.  39.  40.  41.  42.\n",
      "  43.  44.  45.  46.  47.  48.  49.  50.  51.  52.  53.  54.  55.  56.\n",
      "  57.  58.  59.  60.  61.  62.  63.  64.  65.  66.  67.  68.  69.  70.\n",
      "  71.  72.  73.  74.  75.  76.  77.  78.  79.  80.  81.  82.  83.  84.\n",
      "  85.  86.  87.  88.  89.  90.  91.  92.  93.  94.  95.  96.  97.  98.\n",
      "  99. 100. 101. 102. 103. 104. 105. 106. 107. 108. 109. 110. 111. 112.\n",
      " 113. 114. 115. 116. 117. 118. 119. 120. 121. 122. 123. 124. 125. 126.\n",
      " 127. 128. 129. 130. 131. 132. 133. 134. 135. 136. 137. 138. 139. 140.\n",
      " 141. 142. 143. 144. 145. 146. 147. 148. 149. 150. 151. 152. 153. 154.\n",
      " 155. 156. 157. 158. 159. 160. 161. 162. 163. 164. 165. 166. 167. 168.\n",
      " 169. 170. 171. 172. 173. 174. 175. 176. 177. 178. 179. 180. 181. 182.\n",
      " 183. 184. 185. 186. 187. 188. 189. 190. 191. 192. 193. 194. 195. 196.\n",
      " 197. 198. 199. 200. 201. 202. 203. 204. 205. 206. 207. 208. 209. 210.\n",
      " 211. 212. 213. 214. 215. 216. 217. 218. 219. 220. 221. 222. 223. 224.\n",
      " 225. 226. 227. 228. 229. 230. 231. 232. 233. 234. 235. 236. 237. 238.\n",
      " 239. 240. 241. 242. 243. 244. 245. 246. 247. 248. 249. 250. 251. 252.\n",
      " 253. 254. 255. 256. 257. 258. 259. 260. 261. 262. 263. 264. 265. 266.\n",
      " 267. 268. 269. 270. 271. 272. 273. 274. 275. 276. 277. 278. 279. 280.\n",
      " 281. 282. 283. 284. 285. 286. 287. 288. 289. 290. 291. 292. 293. 294.\n",
      " 295. 296. 297. 298. 299. 300. 301. 302. 303. 304. 305. 306. 307. 308.\n",
      " 309. 310. 311. 312. 313. 314. 315. 316. 317. 318. 319. 320. 321.]\n"
     ]
    }
   ],
   "source": [
    "print(x_train[0,:])"
   ],
   "metadata": {
    "collapsed": false,
    "ExecuteTime": {
     "end_time": "2023-10-25T20:06:54.413579600Z",
     "start_time": "2023-10-25T20:06:54.383476400Z"
    }
   },
   "id": "faa5f96a090d7999"
  },
  {
   "cell_type": "code",
   "execution_count": 12,
   "outputs": [
    {
     "ename": "NameError",
     "evalue": "name 'discrete_col' is not defined",
     "output_type": "error",
     "traceback": [
      "\u001B[1;31m---------------------------------------------------------------------------\u001B[0m",
      "\u001B[1;31mNameError\u001B[0m                                 Traceback (most recent call last)",
      "Cell \u001B[1;32mIn[12], line 1\u001B[0m\n\u001B[1;32m----> 1\u001B[0m \u001B[38;5;28mprint\u001B[39m(discrete_col)\n",
      "\u001B[1;31mNameError\u001B[0m: name 'discrete_col' is not defined"
     ]
    }
   ],
   "source": [
    "print(discrete_col)"
   ],
   "metadata": {
    "collapsed": false,
    "ExecuteTime": {
     "end_time": "2023-10-25T13:17:19.735124400Z",
     "start_time": "2023-10-25T13:17:19.366006Z"
    }
   },
   "id": "ca5d2d98081e186f"
  },
  {
   "cell_type": "code",
   "execution_count": 28,
   "outputs": [
    {
     "name": "stdout",
     "output_type": "stream",
     "text": [
      "[0, 1, 2, 3, 4, 5, 6, 7, 8, 15, 16, 17, 25, 27, 28, 29, 49, 59, 60, 62, 63, 75, 77, 78, 79, 80, 81, 82, 83, 84, 85, 86, 88, 89, 90, 91, 92, 93, 94, 98, 101, 102, 105, 106, 110, 111, 112, 113, 114, 119, 122, 130, 143, 145, 147, 148, 149, 150, 168, 191, 195, 197, 206, 207, 208, 209, 210, 211, 212, 213, 216, 219, 220, 222, 224, 225, 226, 229, 239, 240, 246, 248, 250, 252, 253, 262, 264, 266, 267, 268, 269, 270, 271, 276, 277, 285, 286, 287, 288, 291, 292, 293, 294, 295, 296, 297, 299, 300, 301, 302, 303, 304]\n"
     ]
    }
   ],
   "source": [
    "print(continuous_col)"
   ],
   "metadata": {
    "collapsed": false,
    "ExecuteTime": {
     "end_time": "2023-10-25T09:25:42.252447700Z",
     "start_time": "2023-10-25T09:25:42.118032500Z"
    }
   },
   "id": "a90e32395f97a10a"
  },
  {
   "cell_type": "code",
   "execution_count": 72,
   "outputs": [
    {
     "ename": "MemoryError",
     "evalue": "",
     "output_type": "error",
     "traceback": [
      "\u001B[1;31m---------------------------------------------------------------------------\u001B[0m",
      "\u001B[1;31mMemoryError\u001B[0m                               Traceback (most recent call last)",
      "Cell \u001B[1;32mIn[72], line 1\u001B[0m\n\u001B[1;32m----> 1\u001B[0m x_train_categorized  \u001B[38;5;241m=\u001B[39m convert_categorical_col(x_train,discrete_col)\n",
      "Cell \u001B[1;32mIn[70], line 15\u001B[0m, in \u001B[0;36mconvert_categorical_col\u001B[1;34m(matrix, categorical_indices)\u001B[0m\n\u001B[0;32m     13\u001B[0m             category \u001B[38;5;241m=\u001B[39m value\n\u001B[0;32m     14\u001B[0m             one_hot_encoding \u001B[38;5;241m=\u001B[39m [\u001B[38;5;241m1\u001B[39m \u001B[38;5;28;01mif\u001B[39;00m category \u001B[38;5;241m==\u001B[39m unique_value \u001B[38;5;28;01melse\u001B[39;00m \u001B[38;5;241m0\u001B[39m \u001B[38;5;28;01mfor\u001B[39;00m unique_value \u001B[38;5;129;01min\u001B[39;00m unique_values]\n\u001B[1;32m---> 15\u001B[0m             new_row\u001B[38;5;241m.\u001B[39mextend(one_hot_encoding)\n\u001B[0;32m     16\u001B[0m     new_matrix\u001B[38;5;241m.\u001B[39mappend(new_row)\n\u001B[0;32m     18\u001B[0m \u001B[38;5;28;01mreturn\u001B[39;00m new_matrix\n",
      "\u001B[1;31mMemoryError\u001B[0m: "
     ]
    }
   ],
   "source": [
    "x_train_categorized  = convert_categorical_col(x_train,discrete_col)"
   ],
   "metadata": {
    "collapsed": false,
    "ExecuteTime": {
     "end_time": "2023-10-25T08:37:04.041177800Z",
     "start_time": "2023-10-25T08:31:43.015596300Z"
    }
   },
   "id": "32f93d79ff18c959"
  },
  {
   "cell_type": "code",
   "execution_count": 39,
   "outputs": [],
   "source": [
    "def cleaning_answers(data):\n",
    "    datas_cleaned = data    \n",
    "    header_row = datas_cleaned[0, :].copy()\n",
    "    \n",
    "    for i in range(datas_cleaned.shape[1]):\n",
    "        unique_values = np.unique(datas_cleaned[:,i])\n",
    "        nbr_unique_values = len(unique_values)\n",
    "        max_value = np.nanmax(datas_cleaned[:,i])\n",
    "        median = np.nanmedian(datas_cleaned[:,i])\n",
    "        conditions = []\n",
    "        replacement = []\n",
    "        if nbr_unique_values <= 5 and max_value <= 9:\n",
    "            if 7 in unique_values:\n",
    "                conditions.append(datas_cleaned[:,i]==7)\n",
    "                replacement.append(2)\n",
    "            if 8 in unique_values:\n",
    "                conditions.append(datas_cleaned[:,i]==8)\n",
    "                replacement.append(2)\n",
    "            if 9 in unique_values:\n",
    "                conditions.append(datas_cleaned[:,i]==9)\n",
    "                replacement.append(2)\n",
    "                \n",
    "        elif nbr_unique_values >5 and max_value <= 9:\n",
    "            if 7 in unique_values:\n",
    "                conditions.append(datas_cleaned[:,i]==7)\n",
    "                replacement.append(2)\n",
    "            if 8 in unique_values:\n",
    "                conditions.append(datas_cleaned[:,i]==8)\n",
    "                replacement.append(0)\n",
    "            if 9 in unique_values:\n",
    "                conditions.append(datas_cleaned[:,i]==9)\n",
    "                replacement.append(2)\n",
    "            \n",
    "        elif (max_value <= 99 and max_value > 9):\n",
    "            if 77 in unique_values:\n",
    "                conditions.append(datas_cleaned[:,i]==77)\n",
    "                replacement.append(median)\n",
    "            if 88 in unique_values:\n",
    "                conditions.append(datas_cleaned[:,i]==88)\n",
    "                replacement.append(0)\n",
    "            if 99 in unique_values:\n",
    "                conditions.append(datas_cleaned[:,i]==99)\n",
    "                replacement.append(median)\n",
    "            \n",
    "        elif (max_value <= 999 and max_value > 99 ):\n",
    "            if 777 in unique_values:\n",
    "                conditions.append(datas_cleaned[:,i]==777)\n",
    "                replacement.append(median)\n",
    "            if 888 in unique_values:\n",
    "                conditions.append(datas_cleaned[:,i]==888)\n",
    "                replacement.append(0)\n",
    "            if 999 in unique_values:\n",
    "                conditions.append(datas_cleaned[:,i]==999)\n",
    "                replacement.append(median)\n",
    "            \n",
    "        elif max_value > 999 and max_value <= 9999:\n",
    "            if 7777 in unique_values:\n",
    "                conditions.append(datas_cleaned[:,i]==7777)\n",
    "                replacement.append(median)\n",
    "            if 8888 in unique_values:\n",
    "                conditions.append(datas_cleaned[:,i]==8888)\n",
    "                replacement.append(median)\n",
    "            if 9999 in unique_values:\n",
    "                conditions.append(datas_cleaned[:,i]==9999)\n",
    "                replacement.append(median)\n",
    "                \n",
    "        elif max_value > 9999 and max_value <= 999999:\n",
    "            if 777777 in unique_values:\n",
    "                conditions.append(datas_cleaned[:,i]==777777)\n",
    "                replacement.append(median)\n",
    "            if 888888 in unique_values:\n",
    "                conditions.append(datas_cleaned[:,i]==888888)\n",
    "                replacement.append(median)\n",
    "            if 999999 in unique_values:\n",
    "                conditions.append(datas_cleaned[:,i]==999999)\n",
    "                replacement.append(median)\n",
    "\n",
    "        for condition, replacement in zip(conditions, replacement):\n",
    "            datas_cleaned[condition, i] = replacement\n",
    "\n",
    "        datas_cleaned[0, :] = header_row\n",
    "    return datas_cleaned"
   ],
   "metadata": {
    "collapsed": false,
    "ExecuteTime": {
     "end_time": "2023-10-25T23:32:32.795881300Z",
     "start_time": "2023-10-25T23:32:32.771756200Z"
    }
   },
   "id": "b7ad1235c2bf697b"
  },
  {
   "cell_type": "code",
   "execution_count": 40,
   "outputs": [],
   "source": [
    "def remove_useless_col(data):\n",
    "    col_to_remove = [1,2,3,4,5, 9, 10,11,12,13,18,19,21,22,24,52, 53, 54,60, 98,104,105,119,120,121,122,123,124,125,126,130,131,132,133,166,179,181,211, 212, 216, 217, 219, 220, 221, 222, 226, 227, 228, 229, 235, 236, 237, 239, 240, 241, 244, 245, 246, 256, 286, 310, 311, 316, 317, 320]\n",
    "    return np.delete(data, col_to_remove, axis=1)"
   ],
   "metadata": {
    "collapsed": false,
    "ExecuteTime": {
     "end_time": "2023-10-25T23:32:32.823718700Z",
     "start_time": "2023-10-25T23:32:32.787472300Z"
    }
   },
   "id": "c1d5ac91fe076abd"
  },
  {
   "cell_type": "code",
   "execution_count": 41,
   "outputs": [],
   "source": [
    "def remove_nan_col(x, nan_percentage = 0.8) :\n",
    "\n",
    "    #Remove columns in which there are too much NaN values (<80%)\n",
    "    to_delete = []\n",
    "    for i in range(x.shape[1] - 1, 1, -1):\n",
    "        num_NaN = np.count_nonzero(np.isnan(x[:,i]))\n",
    "        p_NaN = num_NaN / x.shape[0]\n",
    "        if p_NaN > nan_percentage:\n",
    "            to_delete.append(i)\n",
    "\n",
    "    x = x[:, [i for i in range(x.shape[1]) if i not in to_delete]]\n",
    "    return x"
   ],
   "metadata": {
    "collapsed": false,
    "ExecuteTime": {
     "end_time": "2023-10-25T23:32:32.824720300Z",
     "start_time": "2023-10-25T23:32:32.805185200Z"
    }
   },
   "id": "d65c21b36eff3785"
  },
  {
   "cell_type": "code",
   "execution_count": 42,
   "outputs": [],
   "source": [
    "def remove_remaining_nan(data, continuous_indices, discrete_indices):\n",
    "    changed_nan_values = data.copy()\n",
    "    print(changed_nan_values.shape)\n",
    "    for i in discrete_indices:\n",
    "        col = changed_nan_values[:, i]\n",
    "        is_nan = np.isnan(col)\n",
    "        if is_nan.any():\n",
    "            col[is_nan] = 0\n",
    "            \n",
    "    for i in continuous_indices:\n",
    "        col = changed_nan_values[:,i]\n",
    "        is_nan = np.isnan(col)\n",
    "        if is_nan.any():\n",
    "            valid_values = col[~is_nan]\n",
    "            if valid_values.size > 0:\n",
    "                median = np.median(valid_values)\n",
    "                col[is_nan] = median\n",
    "    return changed_nan_values"
   ],
   "metadata": {
    "collapsed": false,
    "ExecuteTime": {
     "end_time": "2023-10-25T23:32:32.837688600Z",
     "start_time": "2023-10-25T23:32:32.821716900Z"
    }
   },
   "id": "72dd12293f6973a5"
  },
  {
   "cell_type": "code",
   "execution_count": 43,
   "outputs": [],
   "source": [
    "def remove_outliers(data, continuous_indices):\n",
    "    filtered_data = data.copy()    \n",
    "    for i in continuous_indices:\n",
    "        col_data = data[:, i]\n",
    "        q1 = np.percentile(col_data, 25)\n",
    "        q3 = np.percentile(col_data, 75)\n",
    "        iqr = q3 - q1\n",
    "        lower_bound = q1 - 1.5 * iqr\n",
    "        upper_bound = q3 + 1.5 * iqr\n",
    "\n",
    "        col_data[(col_data < lower_bound) | (col_data > upper_bound)] = np.median(col_data)\n",
    "        filtered_data[:,i] = col_data\n",
    "    return filtered_data"
   ],
   "metadata": {
    "collapsed": false,
    "ExecuteTime": {
     "end_time": "2023-10-25T23:32:32.873045400Z",
     "start_time": "2023-10-25T23:32:32.837688600Z"
    }
   },
   "id": "a004475d6f36a2a7"
  },
  {
   "cell_type": "code",
   "execution_count": 44,
   "outputs": [],
   "source": [
    "def standardize(data, continuous_indices):\n",
    "\n",
    "    mean = np.mean(data[:,:], axis=0)\n",
    "    std = np.std(data[:,:], axis= 0)\n",
    "    for i in range(len(std)):\n",
    "        if std[i] < 1e-10:\n",
    "            std[i] = 1\n",
    "            \n",
    "    standardized_data = data.copy()\n",
    "    for  idx in continuous_indices:\n",
    "        standardized_data[:,idx] = (data[:,idx] - mean[idx])/std[idx]\n",
    "        \n",
    "    return standardized_data\n"
   ],
   "metadata": {
    "collapsed": false,
    "ExecuteTime": {
     "end_time": "2023-10-25T23:32:32.875046700Z",
     "start_time": "2023-10-25T23:32:32.850694400Z"
    }
   },
   "id": "ac9a41f880ecd579"
  },
  {
   "cell_type": "code",
   "execution_count": 45,
   "outputs": [],
   "source": [
    "def remove_correlated_columns(data, correlation_threshold=0.7):\n",
    "    indices=[]\n",
    "\n",
    "    for i in range(data.shape[1]):\n",
    "        for j in range(i+1,data.shape[1]):\n",
    "            col1 = data[:,i]\n",
    "            col2 = data[:,j]\n",
    "            corr = np.corrcoef(col1, col2)\n",
    "\n",
    "            if (np.abs(corr[0][1]) >= correlation_threshold):\n",
    "                indices.append(j)\n",
    "\n",
    "    uncorrelated_data = np.delete(data,indices,1)\n",
    "    return uncorrelated_data"
   ],
   "metadata": {
    "collapsed": false,
    "ExecuteTime": {
     "end_time": "2023-10-25T23:32:32.892681200Z",
     "start_time": "2023-10-25T23:32:32.864533800Z"
    }
   },
   "id": "e36cd3f41fcac38d"
  },
  {
   "cell_type": "code",
   "execution_count": 18,
   "outputs": [
    {
     "name": "stdout",
     "output_type": "stream",
     "text": [
      "[[ 1.   2.   3.   5. ]\n",
      " [ 4.   5.   6.  12. ]\n",
      " [-7.   8.   9.   3.5]\n",
      " [10.  11.  12.  54. ]]\n",
      "[[ 1.  2.]\n",
      " [ 4.  5.]\n",
      " [-7.  8.]\n",
      " [10. 11.]]\n"
     ]
    }
   ],
   "source": [
    "data = np.array([[1, 2, 3, 5],\n",
    "                 [4, 5, 6, 12],\n",
    "                 [-7, 8, 9, 3.5 ],\n",
    "                 [10, 11, 12, 54]])\n",
    "\n",
    "datas_cleaned = remove_correlated_columns(data)\n",
    "print(data)\n",
    "print(datas_cleaned)"
   ],
   "metadata": {
    "collapsed": false,
    "ExecuteTime": {
     "end_time": "2023-10-25T20:07:09.374993900Z",
     "start_time": "2023-10-25T20:07:09.308923800Z"
    }
   },
   "id": "ec66e22c189e1d6f"
  },
  {
   "cell_type": "code",
   "execution_count": 46,
   "outputs": [],
   "source": [
    "def calculate_r_squared(X):\n",
    "    r_squared_values = []\n",
    "    for i in range(X.shape[1]):\n",
    "        x0 = X[:, i]\n",
    "        x_remaining = np.delete(X, i, axis=1)\n",
    "\n",
    "        # Coefficients de la régression linéaire\n",
    "        coeffs = np.linalg.lstsq(x_remaining, x0, rcond=None)[0]\n",
    "\n",
    "        # Prédiction\n",
    "        prediction = x_remaining.dot(coeffs)\n",
    "\n",
    "        # Calcul du R carré\n",
    "        r_squared = 1 - np.var(x0 - prediction) / np.var(x0)\n",
    "        r_squared_values.append(r_squared)\n",
    "\n",
    "    return r_squared_values"
   ],
   "metadata": {
    "collapsed": false,
    "ExecuteTime": {
     "end_time": "2023-10-25T23:32:32.899771500Z",
     "start_time": "2023-10-25T23:32:32.882776300Z"
    }
   },
   "id": "778b129b930b4391"
  },
  {
   "cell_type": "code",
   "execution_count": 47,
   "outputs": [],
   "source": [
    "def remove_highly_collinear_vars(data, r_squared_values, threshold=0.95):\n",
    "    # Obtenir les indices des variables avec un R² supérieur au seuil\n",
    "    high_collinearity_indices = [i for i, r2 in enumerate(r_squared_values) if r2 >= threshold]\n",
    "\n",
    "    # Éliminer ces variables du dataset\n",
    "    cleaned_data = np.delete(data, high_collinearity_indices, axis=1)\n",
    "\n",
    "    return cleaned_data, high_collinearity_indices\n"
   ],
   "metadata": {
    "collapsed": false,
    "ExecuteTime": {
     "end_time": "2023-10-25T23:32:32.931942500Z",
     "start_time": "2023-10-25T23:32:32.897701900Z"
    }
   },
   "id": "b4a2af4bc74fac04"
  },
  {
   "cell_type": "code",
   "execution_count": 48,
   "outputs": [],
   "source": [
    "def count_high_r_squared(r_squared_values, threshold=0.95):\n",
    "    # Compter le nombre de valeurs de R² qui sont supérieures au seuil\n",
    "    high_r_squared_count = sum(1 for r2 in r_squared_values if r2 >= threshold)\n",
    "\n",
    "    return high_r_squared_count\n",
    "\n"
   ],
   "metadata": {
    "collapsed": false,
    "ExecuteTime": {
     "end_time": "2023-10-25T23:32:32.933944600Z",
     "start_time": "2023-10-25T23:32:32.911907900Z"
    }
   },
   "id": "6828f0f55b8b350b"
  },
  {
   "cell_type": "code",
   "execution_count": 49,
   "outputs": [],
   "source": [
    "def clean_all(data):\n",
    "    \n",
    "    data_to_compute = remove_useless_col(data)\n",
    "    print(data_to_compute.shape)\n",
    "    \n",
    "    \n",
    "    data_to_compute = remove_nan_col(data_to_compute)\n",
    "    print(np.sum(np.nanvar(data_to_compute, axis=0)==0))\n",
    "\n",
    "    print(np.linalg.cond(data_to_compute))\n",
    "    \n",
    "    discrete_columns, continuous_columns = categorize_col(data_to_compute)\n",
    "    \n",
    "    data_to_compute = remove_remaining_nan(data_to_compute,continuous_columns,discrete_columns)\n",
    "    print(data_to_compute.shape)\n",
    "    \n",
    "    r_squared_values = calculate_r_squared(data_to_compute)\n",
    "    high_r_squared_count = count_high_r_squared(r_squared_values)\n",
    "\n",
    "    # Affichage du nombre de valeurs de R² élevées\n",
    "    print(f\"Nombre de valeurs de R² supérieures à 0.95 : {high_r_squared_count}\")\n",
    "    \n",
    "    data_to_compute = standardize(data_to_compute, continuous_columns)\n",
    "    print(np.linalg.det(data_to_compute.T.dot(data_to_compute)))\n",
    "    print(np.sum(np.nanvar(data_to_compute, axis=0)==0))\n",
    "    print(data_to_compute.shape)\n",
    "    print(np.linalg.cond(data_to_compute))\n",
    "\n",
    "    r_squared_values = calculate_r_squared(data_to_compute)\n",
    "    high_r_squared_count = count_high_r_squared(r_squared_values)\n",
    "    data_to_compute, removed_indices = remove_highly_collinear_vars(data_to_compute,r_squared_values)\n",
    "    print(np.linalg.det(data_to_compute.T.dot(data_to_compute)))\n",
    "    # Affichage du nombre de valeurs de R² élevées\n",
    "    print(f\"Nombre de valeurs de R² supérieures à 0.95 : {high_r_squared_count}\")\n",
    "    data_to_compute = remove_correlated_columns(data_to_compute)\n",
    "    print(np.sum(np.nanvar(data_to_compute, axis=0)==0))\n",
    "    print(data_to_compute.shape)\n",
    "    print(np.linalg.cond(data_to_compute))\n",
    "    print(np.linalg.det(data_to_compute.T.dot(data_to_compute)))\n",
    "    r_squared_values = calculate_r_squared(data_to_compute)\n",
    "    high_r_squared_count = count_high_r_squared(r_squared_values)\n",
    "\n",
    "    # Affichage du nombre de valeurs de R² élevées\n",
    "    print(f\"Nombre de valeurs de R² supérieures à 0.95 : {high_r_squared_count}\")\n",
    "    discrete_columns, continuous_columns = categorize_col(data_to_compute)\n",
    "\n",
    "    print(np.linalg.det(data_to_compute.T.dot(data_to_compute)))\n",
    "\n",
    "\n",
    "    data_to_compute = convert_categorical_columnsv2(data_to_compute,discrete_columns)\n",
    "    r_squared_values = calculate_r_squared(data_to_compute)\n",
    "    high_r_squared_count = count_high_r_squared(r_squared_values)\n",
    "\n",
    "    # Affichage du nombre de valeurs de R² élevées\n",
    "    print(f\"Nombre de valeurs de R² supérieures à 0.95 : {high_r_squared_count}\")\n",
    "    print(np.linalg.det(data_to_compute.T.dot(data_to_compute)))\n",
    "    data_to_compute = remove_outliers(data_to_compute,continuous_columns)\n",
    "    r_squared_values = calculate_r_squared(data_to_compute)\n",
    "    high_r_squared_count = count_high_r_squared(r_squared_values)\n",
    "\n",
    "    # Affichage du nombre de valeurs de R² élevées\n",
    "    print(f\"Nombre de valeurs de R² supérieures à 0.95 : {high_r_squared_count}\")\n",
    "    print(np.linalg.det(data_to_compute.T.dot(data_to_compute)))\n",
    "    print(data_to_compute.shape)\n",
    "    return data_to_compute"
   ],
   "metadata": {
    "collapsed": false,
    "ExecuteTime": {
     "end_time": "2023-10-25T23:32:32.947469200Z",
     "start_time": "2023-10-25T23:32:32.931942500Z"
    }
   },
   "id": "6f235c7e33718bac"
  },
  {
   "cell_type": "code",
   "execution_count": 50,
   "outputs": [
    {
     "name": "stdout",
     "output_type": "stream",
     "text": [
      "(6563, 256)\n",
      "2\n",
      "nan\n",
      "(6563, 160)\n",
      "(6563, 160)\n"
     ]
    },
    {
     "name": "stderr",
     "output_type": "stream",
     "text": [
      "C:\\Users\\Home\\AppData\\Local\\Temp\\ipykernel_39180\\1385291473.py:14: RuntimeWarning: divide by zero encountered in double_scalars\n",
      "  r_squared = 1 - np.var(x0 - prediction) / np.var(x0)\n"
     ]
    },
    {
     "name": "stdout",
     "output_type": "stream",
     "text": [
      "Nombre de valeurs de R² supérieures à 0.95 : 48\n",
      "-inf\n",
      "2\n",
      "(6563, 160)\n",
      "1.560115768106113e+18\n",
      "-inf\n",
      "Nombre de valeurs de R² supérieures à 0.95 : 48\n"
     ]
    },
    {
     "name": "stderr",
     "output_type": "stream",
     "text": [
      "C:\\ProgramData\\anaconda3\\lib\\site-packages\\numpy\\lib\\function_base.py:2853: RuntimeWarning: invalid value encountered in divide\n",
      "  c /= stddev[:, None]\n",
      "C:\\ProgramData\\anaconda3\\lib\\site-packages\\numpy\\lib\\function_base.py:2854: RuntimeWarning: invalid value encountered in divide\n",
      "  c /= stddev[None, :]\n"
     ]
    },
    {
     "name": "stdout",
     "output_type": "stream",
     "text": [
      "2\n",
      "(6563, 104)\n",
      "5.3443245959800896e+17\n",
      "-inf\n",
      "Nombre de valeurs de R² supérieures à 0.95 : 0\n",
      "-inf\n",
      "Nombre de valeurs de R² supérieures à 0.95 : 1822\n",
      "0.0\n"
     ]
    },
    {
     "name": "stderr",
     "output_type": "stream",
     "text": [
      "C:\\Users\\Home\\AppData\\Local\\Temp\\ipykernel_39180\\1385291473.py:14: RuntimeWarning: invalid value encountered in double_scalars\n",
      "  r_squared = 1 - np.var(x0 - prediction) / np.var(x0)\n"
     ]
    },
    {
     "name": "stdout",
     "output_type": "stream",
     "text": [
      "Nombre de valeurs de R² supérieures à 0.95 : 1741\n",
      "0.0\n",
      "(6563, 1834)\n"
     ]
    }
   ],
   "source": [
    "new_datas = clean_all(x_train)"
   ],
   "metadata": {
    "collapsed": false,
    "ExecuteTime": {
     "end_time": "2023-10-26T00:28:02.440534700Z",
     "start_time": "2023-10-25T23:32:32.944464900Z"
    }
   },
   "id": "e267f0ebb791f6a7"
  },
  {
   "cell_type": "code",
   "execution_count": 78,
   "outputs": [
    {
     "name": "stdout",
     "output_type": "stream",
     "text": [
      "(328135, 2803)\n"
     ]
    }
   ],
   "source": [
    "new_datas_array = np.array(new_datas)\n",
    "print(new_datas_array.shape)"
   ],
   "metadata": {
    "collapsed": false,
    "ExecuteTime": {
     "end_time": "2023-10-25T22:29:11.972649100Z",
     "start_time": "2023-10-25T22:28:53.289641200Z"
    }
   },
   "id": "a53cdace36f4d7ac"
  },
  {
   "cell_type": "code",
   "execution_count": 79,
   "outputs": [
    {
     "name": "stdout",
     "output_type": "stream",
     "text": [
      "13\n"
     ]
    }
   ],
   "source": [
    "print(np.sum(np.nanvar(new_datas_array, axis=0)==0))\n"
   ],
   "metadata": {
    "collapsed": false,
    "ExecuteTime": {
     "end_time": "2023-10-25T22:30:03.443128400Z",
     "start_time": "2023-10-25T22:29:11.996670200Z"
    }
   },
   "id": "df15070d041b7f99"
  },
  {
   "cell_type": "code",
   "execution_count": 82,
   "outputs": [],
   "source": [
    "def remove_columns_with_zero_variance(matrix):\n",
    "    \"\"\"\n",
    "    Remove columns with zero variance from a matrix.\n",
    "\n",
    "    Args:\n",
    "        matrix: numpy array of shape (N, M), where N is the number of rows and M is the number of columns.\n",
    "\n",
    "    Returns:\n",
    "        matrix_without_zero_variance: numpy array of shape (N, M'), where M' is less than or equal to M,\n",
    "                                       containing the matrix with columns having zero variance removed.\n",
    "    \"\"\"\n",
    "    # Calculate the variance of each column (excluding the first row)\n",
    "    column_variances = np.var(matrix, axis=0)\n",
    "\n",
    "    # Find the indices of columns with non-zero variance\n",
    "    non_zero_variance_indices = np.where(column_variances > 0)[0]\n",
    "\n",
    "    # Remove columns with zero variance\n",
    "    matrix_without_zero_variance = matrix[:, non_zero_variance_indices]\n",
    "\n",
    "    return matrix_without_zero_variance\n"
   ],
   "metadata": {
    "collapsed": false,
    "ExecuteTime": {
     "end_time": "2023-10-25T22:30:28.593624Z",
     "start_time": "2023-10-25T22:30:28.560593400Z"
    }
   },
   "id": "31642bffd961e8a0"
  },
  {
   "cell_type": "code",
   "execution_count": 83,
   "outputs": [],
   "source": [
    "new_datas_array = remove_columns_with_zero_variance(new_datas_array)"
   ],
   "metadata": {
    "collapsed": false,
    "ExecuteTime": {
     "end_time": "2023-10-25T22:31:44.864322200Z",
     "start_time": "2023-10-25T22:30:28.595625600Z"
    }
   },
   "id": "30d4fb73568951ec"
  },
  {
   "cell_type": "code",
   "execution_count": 25,
   "outputs": [],
   "source": [
    "new_datas_array = remove_correlated_columns(new_datas_array)"
   ],
   "metadata": {
    "collapsed": false,
    "ExecuteTime": {
     "end_time": "2023-10-25T20:17:28.997951300Z",
     "start_time": "2023-10-25T20:12:20.292331800Z"
    }
   },
   "id": "c2e00d2af7312709"
  },
  {
   "cell_type": "code",
   "execution_count": 84,
   "outputs": [
    {
     "name": "stdout",
     "output_type": "stream",
     "text": [
      "(328135, 2789)\n"
     ]
    }
   ],
   "source": [
    "print(new_datas_array.shape)"
   ],
   "metadata": {
    "collapsed": false,
    "ExecuteTime": {
     "end_time": "2023-10-25T22:31:44.894350500Z",
     "start_time": "2023-10-25T22:31:44.877335500Z"
    }
   },
   "id": "6a181b6dd308e0d8"
  },
  {
   "cell_type": "code",
   "execution_count": 80,
   "outputs": [
    {
     "name": "stdout",
     "output_type": "stream",
     "text": [
      "[1. 1. 1. ... 1. 1. 1.]\n"
     ]
    }
   ],
   "source": [
    "print(np.max(new_datas_array,axis=0))"
   ],
   "metadata": {
    "collapsed": false,
    "ExecuteTime": {
     "end_time": "2023-10-25T22:30:09.391811Z",
     "start_time": "2023-10-25T22:30:03.467149800Z"
    }
   },
   "id": "400480495772f6ea"
  },
  {
   "cell_type": "code",
   "execution_count": 81,
   "outputs": [
    {
     "name": "stdout",
     "output_type": "stream",
     "text": [
      "0.0\n"
     ]
    }
   ],
   "source": [
    "print(np.linalg.det(new_datas_array.T.dot(new_datas_array)))"
   ],
   "metadata": {
    "collapsed": false,
    "ExecuteTime": {
     "end_time": "2023-10-25T22:30:28.537327900Z",
     "start_time": "2023-10-25T22:30:09.396814800Z"
    }
   },
   "id": "374f5a956ffb13a1"
  },
  {
   "cell_type": "code",
   "execution_count": 42,
   "outputs": [
    {
     "name": "stdout",
     "output_type": "stream",
     "text": [
      "[8.03483349e+08 0.00000000e+00 8.81151113e+08 0.00000000e+00\n",
      " 0.00000000e+00 0.00000000e+00 0.00000000e+00 0.00000000e+00\n",
      " 0.00000000e+00 1.26635745e+09 8.16511953e+08 8.20305843e+08\n",
      " 0.00000000e+00 0.00000000e+00 0.00000000e+00 0.00000000e+00\n",
      " 8.65432711e+08 1.20841773e+09 0.00000000e+00 0.00000000e+00\n",
      " 0.00000000e+00 1.05177021e+09 0.00000000e+00 0.00000000e+00\n",
      " 0.00000000e+00 0.00000000e+00 0.00000000e+00 1.13675971e+09\n",
      " 0.00000000e+00 0.00000000e+00 0.00000000e+00 1.37588242e+09\n",
      " 9.60490343e+08 0.00000000e+00 0.00000000e+00 1.00970609e+09\n",
      " 9.76247631e+08 0.00000000e+00 1.16776803e+09 1.28416979e+09\n",
      " 0.00000000e+00 0.00000000e+00 0.00000000e+00 0.00000000e+00\n",
      " 0.00000000e+00 0.00000000e+00 0.00000000e+00 1.16425635e+09\n",
      " 0.00000000e+00 0.00000000e+00 0.00000000e+00 1.35622410e+09\n",
      " 0.00000000e+00 0.00000000e+00 0.00000000e+00 1.02768735e+09\n",
      " 2.26796770e+09 1.39468368e+09 1.66828999e+09 1.73809293e+09\n",
      " 1.82128062e+09 0.00000000e+00 0.00000000e+00 1.41165402e+09\n",
      " 1.36880218e+09 1.29969142e+09 0.00000000e+00 0.00000000e+00\n",
      " 1.45365184e+09 0.00000000e+00 0.00000000e+00 0.00000000e+00\n",
      " 0.00000000e+00 1.04799743e+09 0.00000000e+00 0.00000000e+00\n",
      " 1.22389061e+09 0.00000000e+00 0.00000000e+00 0.00000000e+00\n",
      " 0.00000000e+00 0.00000000e+00 8.56565449e+08 0.00000000e+00\n",
      " 0.00000000e+00 1.36494217e+09 0.00000000e+00 0.00000000e+00\n",
      " 0.00000000e+00 1.38637826e+09 1.41448021e+09 1.15451326e+09\n",
      " 0.00000000e+00 1.37398081e+09 0.00000000e+00 1.31995755e+09\n",
      " 0.00000000e+00 2.36099889e+09 1.11297989e+09 1.92188601e+09\n",
      " 1.42643926e+09 1.76948752e+09 0.00000000e+00 0.00000000e+00\n",
      " 0.00000000e+00 0.00000000e+00 2.39758202e+09 2.58894643e+09\n",
      " 2.38933225e+09 2.16436194e+09 0.00000000e+00 0.00000000e+00\n",
      " 0.00000000e+00 0.00000000e+00 1.95152134e+09 8.21401660e+08\n",
      " 0.00000000e+00 1.60358904e+09 1.31228802e+09 0.00000000e+00\n",
      " 1.48360524e+09 2.99769525e-43 1.37252750e+09 1.70968863e+09\n",
      " 1.40561578e+09 0.00000000e+00 1.67089593e+09 1.65531899e+09\n",
      " 0.00000000e+00 0.00000000e+00 1.11232997e+09 2.01997669e+09\n",
      " 0.00000000e+00 0.00000000e+00 0.00000000e+00]\n"
     ]
    }
   ],
   "source": [
    "print(np.var(new_datas.T.dot(new_datas), axis=0))"
   ],
   "metadata": {
    "collapsed": false,
    "ExecuteTime": {
     "end_time": "2023-10-24T12:06:48.028102900Z",
     "start_time": "2023-10-24T12:06:47.648767200Z"
    }
   },
   "id": "ee9ed99ca1a14b6d"
  },
  {
   "cell_type": "code",
   "execution_count": 85,
   "outputs": [
    {
     "name": "stdout",
     "output_type": "stream",
     "text": [
      "(2789, 1)\n",
      "(328135, 2789)\n"
     ]
    }
   ],
   "source": [
    "\n",
    "max_iters = 500\n",
    "initial_w = np.ones((new_datas_array.shape[1],1))\n",
    "gamma = 0.1\n",
    "print(initial_w.shape)\n",
    "print(new_datas_array.shape)\n"
   ],
   "metadata": {
    "collapsed": false,
    "ExecuteTime": {
     "end_time": "2023-10-25T22:31:44.989153Z",
     "start_time": "2023-10-25T22:31:44.909746600Z"
    }
   },
   "id": "84a4266f95745067"
  },
  {
   "cell_type": "code",
   "execution_count": 86,
   "outputs": [],
   "source": [
    "def compute_gradient(y, tx, w):\n",
    "    \"\"\"Computes the gradient at w.\n",
    "\n",
    "    Args:\n",
    "        y: shape=(N, )\n",
    "        tx: shape=(N,2)\n",
    "        w: shape=(2, ). The vector of model parameters.\n",
    "\n",
    "    Returns:\n",
    "        An array of shape (2, ) (same shape as w), containing the gradient of the loss at w.\n",
    "    \"\"\"\n",
    "    y = y.reshape(-1,1)\n",
    "\n",
    "    e = y - tx.dot(w)\n",
    "    gradient = (-1/y.shape[0])*np.dot(tx.T,e)\n",
    "    return gradient\n"
   ],
   "metadata": {
    "collapsed": false,
    "ExecuteTime": {
     "end_time": "2023-10-25T22:31:44.991155100Z",
     "start_time": "2023-10-25T22:31:44.940681500Z"
    }
   },
   "id": "a230211e4c8096ec"
  },
  {
   "cell_type": "code",
   "execution_count": 87,
   "outputs": [],
   "source": [
    "def compute_mse(y, tx, w):\n",
    "    \"\"\"compute the loss by mse.\n",
    "    Args:\n",
    "        y: numpy array of shape (N,), N is the number of samples.\n",
    "        tx: numpy array of shape (N,D), D is the number of features.\n",
    "        w: weights, numpy array of shape(D,), D is the number of features.\n",
    "\n",
    "    Returns:\n",
    "        mse: scalar corresponding to the mse with factor (1 / 2 n) in front of the sum\n",
    "\n",
    "    >>> compute_mse(np.array([0.1,0.2]), np.array([[2.3, 3.2], [1., 0.1]]), np.array([0.03947092, 0.00319628]))\n",
    "    0.006417022764962313\n",
    "    \"\"\"\n",
    "    y = y.reshape(-1,1)\n",
    "    e = y - tx.dot(w)\n",
    "    mse = e.T.dot(e) / (2 * len(e))\n",
    "    return mse"
   ],
   "metadata": {
    "collapsed": false,
    "ExecuteTime": {
     "end_time": "2023-10-25T22:31:44.993156Z",
     "start_time": "2023-10-25T22:31:44.968322100Z"
    }
   },
   "id": "2deddf54359d2a76"
  },
  {
   "cell_type": "code",
   "execution_count": 88,
   "outputs": [],
   "source": [
    "def gradient_descent(y, tx, initial_w, max_iters, gamma):\n",
    "    \"\"\"The Gradient Descent (GD) algorithm.\n",
    "\n",
    "    Args:\n",
    "        y: numpy array of shape=(N, )\n",
    "        tx: numpy array of shape=(N,2)\n",
    "        initial_w: numpy array of shape=(2, ). The initial guess (or the initialization) for the model parameters\n",
    "        max_iters: a scalar denoting the total number of iterations of GD\n",
    "        gamma: a scalar denoting the stepsize\n",
    "\n",
    "    Returns:\n",
    "        losses: a list of length max_iters containing the loss value (scalar) for each iteration of GD\n",
    "        ws: a list of length max_iters containing the model parameters as numpy arrays of shape (2, ), for each iteration of GD\n",
    "    \"\"\"\n",
    "    # Define parameters to store w and loss\n",
    "    ws = [initial_w]\n",
    "    losses = []\n",
    "    w = initial_w\n",
    "    for n_iter in range(max_iters):\n",
    "        # compute gradient and loss\n",
    "        grad = compute_gradient(y, tx, w)\n",
    "        loss = compute_mse(y, tx, w)\n",
    "\n",
    "        # update w by gradient\n",
    "        w = w - gamma * grad\n",
    "        # store w and loss\n",
    "        ws.append(w)\n",
    "        losses.append(loss)\n",
    "        if n_iter % 20 == 0:\n",
    "            print(\n",
    "                \"GD iter. {bi}/{ti}: loss={l}, w0={w0}, w1={w1}, w3={w3}\".format(\n",
    "                    bi=n_iter, ti=max_iters - 1, l=loss, w0=w[0], w1=w[1], w3= w[3]\n",
    "                )\n",
    "            )\n",
    "\n",
    "    return ws, losses"
   ],
   "metadata": {
    "collapsed": false,
    "ExecuteTime": {
     "end_time": "2023-10-25T22:31:45.059801900Z",
     "start_time": "2023-10-25T22:31:45.016177600Z"
    }
   },
   "id": "1681eedf4b2a00c0"
  },
  {
   "cell_type": "code",
   "execution_count": 89,
   "outputs": [],
   "source": [
    "def mean_squared_error_gd(y, tx, initial_w,max_iters, gamma):\n",
    "    #gradient descent\n",
    "    ws, losses = gradient_descent(y, tx, initial_w, max_iters, gamma)\n",
    "    print(losses[-1])\n",
    "    print(ws[-1])\n",
    "    #find the best w\n",
    "    if gamma <= 2 :\n",
    "        loss = losses[-1]\n",
    "        w = ws[-1]\n",
    "    else :\n",
    "        loss = np.min(losses)\n",
    "        w = ws[np.argmin(losses)]\n",
    "\n",
    "    return w, loss"
   ],
   "metadata": {
    "collapsed": false,
    "ExecuteTime": {
     "end_time": "2023-10-25T22:31:45.070812800Z",
     "start_time": "2023-10-25T22:31:45.044204100Z"
    }
   },
   "id": "949a931607603d3c"
  },
  {
   "cell_type": "code",
   "execution_count": 90,
   "outputs": [],
   "source": [
    "def split_data(x, y, ratio, seed=1):\n",
    "    \"\"\"\n",
    "    split the dataset based on the split ratio. If ratio is 0.8\n",
    "    you will have 80% of your data set dedicated to training\n",
    "    and the rest dedicated to testing. If ratio times the number of samples is not round\n",
    "    you can use np.floor. Also check the documentation for np.random.permutation,\n",
    "    it could be useful.\n",
    "\n",
    "    Args:\n",
    "        x: numpy array of shape (N,), N is the number of samples.\n",
    "        y: numpy array of shape (N,).\n",
    "        ratio: scalar in [0,1]\n",
    "        seed: integer.\n",
    "\n",
    "    Returns:\n",
    "        x_tr: numpy array containing the train data.\n",
    "        x_te: numpy array containing the test data.\n",
    "        y_tr: numpy array containing the train labels.\n",
    "        y_te: numpy array containing the test labels.\n",
    "    \"\"\"\n",
    "    # set seed\n",
    "    np.random.seed(seed)\n",
    "\n",
    "    idx = np.random.permutation(np.arange(len(x)))\n",
    "    idx_max = np.floor(ratio * len(x)).astype(int)\n",
    "        \n",
    "    print(len(x))\n",
    "    x_tr = x[idx][:idx_max]\n",
    "    x_te = x[idx][idx_max:]\n",
    "    y_tr = y[idx][:idx_max]\n",
    "    y_te = y[idx][idx_max:]\n",
    "\n",
    "    return x_tr, x_te, y_tr, y_te\n"
   ],
   "metadata": {
    "collapsed": false,
    "ExecuteTime": {
     "end_time": "2023-10-25T22:31:45.108818900Z",
     "start_time": "2023-10-25T22:31:45.078820700Z"
    }
   },
   "id": "8bec60b527d2df96"
  },
  {
   "cell_type": "code",
   "execution_count": 50,
   "outputs": [
    {
     "name": "stdout",
     "output_type": "stream",
     "text": [
      "[2.62144441 2.97790053 1.         1.         1.         1.\n",
      " 1.         1.         1.         1.         1.         1.\n",
      " 1.         1.         1.         1.         1.03300162 0.95642885\n",
      " 1.         1.         1.         1.         1.         1.\n",
      " 1.         1.         1.         1.         1.         1.\n",
      " 1.         1.         1.         1.         1.         1.\n",
      " 1.         1.         1.         1.         1.         1.\n",
      " 1.         1.         1.         1.         1.         1.\n",
      " 1.         1.         1.         1.         1.         1.\n",
      " 1.         1.         1.         1.         1.         1.\n",
      " 1.         1.         1.         1.         1.         1.\n",
      " 1.         1.         1.         1.         1.         1.\n",
      " 1.         1.         1.         1.         1.         1.\n",
      " 1.         1.         1.         1.         1.         1.\n",
      " 1.         1.         1.         1.         1.         1.\n",
      " 1.         1.         1.         1.         1.         1.\n",
      " 1.         1.         1.         1.         1.         1.\n",
      " 1.         1.         1.         1.         1.         1.\n",
      " 1.         1.         1.         1.         1.         1.\n",
      " 1.         1.         1.         1.         1.         1.\n",
      " 1.         1.         1.         1.         1.         1.\n",
      " 1.         1.         1.         1.         1.         1.\n",
      " 1.         1.         1.         1.         1.         0.87825468\n",
      " 1.         1.         1.         1.         1.         3.18046255\n",
      " 1.78766326 1.         1.         1.         1.         1.\n",
      " 1.         1.         1.         1.         1.         1.\n",
      " 1.         1.         1.         1.         1.         1.\n",
      " 1.         1.         1.         1.         1.         1.\n",
      " 1.         1.         1.         1.         1.         1.\n",
      " 1.         1.         1.         1.         1.         1.\n",
      " 1.         1.         1.         1.         1.         1.\n",
      " 1.         1.         1.         1.         1.         1.\n",
      " 1.         1.         1.         1.         1.         1.29246396\n",
      " 3.40185876 3.23397181 2.24679279 2.40500222 2.22852333 3.5979076\n",
      " 1.         1.         1.         1.         1.         4.60132183\n",
      " 3.51437459 1.82149479 1.0373151  1.         1.         1.\n",
      " 1.         1.         1.         1.         1.         1.\n",
      " 1.         1.         1.         1.         1.         1.\n",
      " 1.         1.         1.         1.         1.         1.\n",
      " 1.         1.         1.         1.         1.         1.\n",
      " 1.         1.         1.         1.         1.         1.\n",
      " 1.         1.         1.         1.         1.         1.\n",
      " 1.         1.         1.         1.         1.         1.\n",
      " 1.         1.         1.         1.         1.         1.\n",
      " 1.         1.         1.         1.         1.         1.\n",
      " 1.         1.         1.         1.         1.         1.\n",
      " 1.         1.         1.         1.         1.         1.\n",
      " 1.         1.         1.         1.         1.         1.\n",
      " 1.         1.         1.         1.         1.         1.\n",
      " 1.         1.         1.         1.         1.         1.\n",
      " 1.         1.         1.         1.         1.         1.\n",
      " 1.         1.         1.         1.         3.07851276 1.\n",
      " 1.         1.         1.         1.         1.         1.\n",
      " 1.         1.         1.         1.         1.         1.\n",
      " 1.         1.         1.         1.         1.         1.\n",
      " 1.         1.         1.         1.         1.         1.\n",
      " 1.         1.         1.         1.         1.         1.\n",
      " 1.         1.         1.         1.         1.         1.\n",
      " 1.         1.         1.         1.         1.         1.\n",
      " 1.         1.         1.         1.         1.         1.\n",
      " 1.         1.         1.         1.         1.         1.\n",
      " 1.         1.         1.         1.         1.         1.\n",
      " 1.         1.         1.         1.         1.         1.\n",
      " 1.         1.         1.         1.         1.         1.\n",
      " 1.         1.         1.         1.         1.         1.\n",
      " 1.         1.         1.         1.         1.         1.\n",
      " 1.         1.         1.         1.         1.         1.\n",
      " 1.         1.         1.         1.         1.         1.\n",
      " 1.         1.         1.         1.         1.         1.\n",
      " 1.         2.82907943 2.85603005 1.         1.         1.\n",
      " 1.         1.         1.         1.         1.         1.\n",
      " 1.         1.         1.         1.         1.         1.\n",
      " 1.         1.         1.         1.         1.         1.\n",
      " 1.         1.         1.         1.         1.         1.\n",
      " 2.2989052  3.10772115 3.05500152 3.31575571 3.01879199 3.85367645\n",
      " 1.         1.         1.         3.24369484 2.87237739 1.\n",
      " 1.         1.         1.         7.7449043  2.66291784 1.\n",
      " 1.         1.         1.         1.         1.         4.13169972\n",
      " 2.04226397 2.96324282 3.7872166  3.57150096 3.11324807 3.91417142\n",
      " 3.16218659 4.27327176 1.         1.         1.         1.\n",
      " 1.         1.         1.         1.         1.         1.\n",
      " 1.         1.         1.         1.         1.         1.\n",
      " 1.         1.         1.         1.         1.         1.\n",
      " 1.         1.        ]\n"
     ]
    }
   ],
   "source": [
    "print(np.max(new_datas_array, axis=0))"
   ],
   "metadata": {
    "collapsed": false,
    "ExecuteTime": {
     "end_time": "2023-10-25T19:36:21.252995Z",
     "start_time": "2023-10-25T19:36:21.050707300Z"
    }
   },
   "id": "b91fae466a553f57"
  },
  {
   "cell_type": "code",
   "execution_count": 91,
   "outputs": [
    {
     "name": "stdout",
     "output_type": "stream",
     "text": [
      "328134\n"
     ]
    }
   ],
   "source": [
    "x_tr, x_te, y_tr, y_te  = split_data(new_datas_array, y_train, 0.75)"
   ],
   "metadata": {
    "collapsed": false,
    "ExecuteTime": {
     "end_time": "2023-10-25T22:32:25.182801500Z",
     "start_time": "2023-10-25T22:31:45.113824200Z"
    }
   },
   "id": "c08fd5756657af80"
  },
  {
   "cell_type": "code",
   "execution_count": 52,
   "outputs": [
    {
     "name": "stdout",
     "output_type": "stream",
     "text": [
      "(246100, 500)\n"
     ]
    }
   ],
   "source": [
    "print(x_tr.shape)"
   ],
   "metadata": {
    "collapsed": false,
    "ExecuteTime": {
     "end_time": "2023-10-25T19:37:07.186467400Z",
     "start_time": "2023-10-25T19:37:07.135210100Z"
    }
   },
   "id": "4174fa5588ebd89e"
  },
  {
   "cell_type": "code",
   "execution_count": 92,
   "outputs": [],
   "source": [
    "initial_w = np.ones((x_tr.shape[1],1))"
   ],
   "metadata": {
    "collapsed": false,
    "ExecuteTime": {
     "end_time": "2023-10-25T22:32:25.230818500Z",
     "start_time": "2023-10-25T22:32:25.198425900Z"
    }
   },
   "id": "623fe836cceefdcf"
  },
  {
   "cell_type": "code",
   "execution_count": 93,
   "outputs": [
    {
     "name": "stdout",
     "output_type": "stream",
     "text": [
      "GD iter. 0/499: loss=[[3684.68655233]], w0=[0.68398573], w1=[0.86161352], w3=[0.75764501]\n",
      "GD iter. 20/499: loss=[[1.35798038e+24]], w0=[-4.62440682e+09], w1=[-2.06496326e+09], w3=[-3.58943052e+09]\n",
      "GD iter. 40/499: loss=[[5.06065427e+44]], w0=[-8.92714563e+19], w1=[-3.98629023e+19], w3=[-6.9291847e+19]\n"
     ]
    },
    {
     "ename": "KeyboardInterrupt",
     "evalue": "",
     "output_type": "error",
     "traceback": [
      "\u001B[1;31m---------------------------------------------------------------------------\u001B[0m",
      "\u001B[1;31mKeyboardInterrupt\u001B[0m                         Traceback (most recent call last)",
      "Cell \u001B[1;32mIn[93], line 1\u001B[0m\n\u001B[1;32m----> 1\u001B[0m w_mse_gd,loss_gd \u001B[38;5;241m=\u001B[39m \u001B[43mmean_squared_error_gd\u001B[49m\u001B[43m(\u001B[49m\u001B[43my_tr\u001B[49m\u001B[43m,\u001B[49m\u001B[43mx_tr\u001B[49m\u001B[43m,\u001B[49m\u001B[43minitial_w\u001B[49m\u001B[43m,\u001B[49m\u001B[43mmax_iters\u001B[49m\u001B[43m,\u001B[49m\u001B[43mgamma\u001B[49m\u001B[43m)\u001B[49m\n",
      "Cell \u001B[1;32mIn[89], line 3\u001B[0m, in \u001B[0;36mmean_squared_error_gd\u001B[1;34m(y, tx, initial_w, max_iters, gamma)\u001B[0m\n\u001B[0;32m      1\u001B[0m \u001B[38;5;28;01mdef\u001B[39;00m \u001B[38;5;21mmean_squared_error_gd\u001B[39m(y, tx, initial_w,max_iters, gamma):\n\u001B[0;32m      2\u001B[0m     \u001B[38;5;66;03m#gradient descent\u001B[39;00m\n\u001B[1;32m----> 3\u001B[0m     ws, losses \u001B[38;5;241m=\u001B[39m \u001B[43mgradient_descent\u001B[49m\u001B[43m(\u001B[49m\u001B[43my\u001B[49m\u001B[43m,\u001B[49m\u001B[43m \u001B[49m\u001B[43mtx\u001B[49m\u001B[43m,\u001B[49m\u001B[43m \u001B[49m\u001B[43minitial_w\u001B[49m\u001B[43m,\u001B[49m\u001B[43m \u001B[49m\u001B[43mmax_iters\u001B[49m\u001B[43m,\u001B[49m\u001B[43m \u001B[49m\u001B[43mgamma\u001B[49m\u001B[43m)\u001B[49m\n\u001B[0;32m      4\u001B[0m     \u001B[38;5;28mprint\u001B[39m(losses[\u001B[38;5;241m-\u001B[39m\u001B[38;5;241m1\u001B[39m])\n\u001B[0;32m      5\u001B[0m     \u001B[38;5;28mprint\u001B[39m(ws[\u001B[38;5;241m-\u001B[39m\u001B[38;5;241m1\u001B[39m])\n",
      "Cell \u001B[1;32mIn[88], line 21\u001B[0m, in \u001B[0;36mgradient_descent\u001B[1;34m(y, tx, initial_w, max_iters, gamma)\u001B[0m\n\u001B[0;32m     18\u001B[0m w \u001B[38;5;241m=\u001B[39m initial_w\n\u001B[0;32m     19\u001B[0m \u001B[38;5;28;01mfor\u001B[39;00m n_iter \u001B[38;5;129;01min\u001B[39;00m \u001B[38;5;28mrange\u001B[39m(max_iters):\n\u001B[0;32m     20\u001B[0m     \u001B[38;5;66;03m# compute gradient and loss\u001B[39;00m\n\u001B[1;32m---> 21\u001B[0m     grad \u001B[38;5;241m=\u001B[39m \u001B[43mcompute_gradient\u001B[49m\u001B[43m(\u001B[49m\u001B[43my\u001B[49m\u001B[43m,\u001B[49m\u001B[43m \u001B[49m\u001B[43mtx\u001B[49m\u001B[43m,\u001B[49m\u001B[43m \u001B[49m\u001B[43mw\u001B[49m\u001B[43m)\u001B[49m\n\u001B[0;32m     22\u001B[0m     loss \u001B[38;5;241m=\u001B[39m compute_mse(y, tx, w)\n\u001B[0;32m     24\u001B[0m     \u001B[38;5;66;03m# update w by gradient\u001B[39;00m\n",
      "Cell \u001B[1;32mIn[86], line 14\u001B[0m, in \u001B[0;36mcompute_gradient\u001B[1;34m(y, tx, w)\u001B[0m\n\u001B[0;32m      2\u001B[0m \u001B[38;5;124;03m\"\"\"Computes the gradient at w.\u001B[39;00m\n\u001B[0;32m      3\u001B[0m \n\u001B[0;32m      4\u001B[0m \u001B[38;5;124;03mArgs:\u001B[39;00m\n\u001B[1;32m   (...)\u001B[0m\n\u001B[0;32m     10\u001B[0m \u001B[38;5;124;03m    An array of shape (2, ) (same shape as w), containing the gradient of the loss at w.\u001B[39;00m\n\u001B[0;32m     11\u001B[0m \u001B[38;5;124;03m\"\"\"\u001B[39;00m\n\u001B[0;32m     12\u001B[0m y \u001B[38;5;241m=\u001B[39m y\u001B[38;5;241m.\u001B[39mreshape(\u001B[38;5;241m-\u001B[39m\u001B[38;5;241m1\u001B[39m,\u001B[38;5;241m1\u001B[39m)\n\u001B[1;32m---> 14\u001B[0m e \u001B[38;5;241m=\u001B[39m y \u001B[38;5;241m-\u001B[39m \u001B[43mtx\u001B[49m\u001B[38;5;241;43m.\u001B[39;49m\u001B[43mdot\u001B[49m\u001B[43m(\u001B[49m\u001B[43mw\u001B[49m\u001B[43m)\u001B[49m\n\u001B[0;32m     15\u001B[0m gradient \u001B[38;5;241m=\u001B[39m (\u001B[38;5;241m-\u001B[39m\u001B[38;5;241m1\u001B[39m\u001B[38;5;241m/\u001B[39my\u001B[38;5;241m.\u001B[39mshape[\u001B[38;5;241m0\u001B[39m])\u001B[38;5;241m*\u001B[39mnp\u001B[38;5;241m.\u001B[39mdot(tx\u001B[38;5;241m.\u001B[39mT,e)\n\u001B[0;32m     16\u001B[0m \u001B[38;5;28;01mreturn\u001B[39;00m gradient\n",
      "\u001B[1;31mKeyboardInterrupt\u001B[0m: "
     ]
    }
   ],
   "source": [
    "w_mse_gd,loss_gd = mean_squared_error_gd(y_tr,x_tr,initial_w,max_iters,gamma)"
   ],
   "metadata": {
    "collapsed": false,
    "ExecuteTime": {
     "end_time": "2023-10-25T22:33:06.907790100Z",
     "start_time": "2023-10-25T22:32:25.229817900Z"
    }
   },
   "id": "d48479a82434b55d"
  },
  {
   "cell_type": "code",
   "execution_count": 23,
   "outputs": [],
   "source": [
    "y_prediction_mse_gd = x_te.dot(w_mse_gd)"
   ],
   "metadata": {
    "collapsed": false,
    "ExecuteTime": {
     "end_time": "2023-10-24T11:52:16.349289300Z",
     "start_time": "2023-10-24T11:52:16.300511400Z"
    }
   },
   "id": "f229ce417600a9f2"
  },
  {
   "cell_type": "code",
   "execution_count": 24,
   "outputs": [
    {
     "name": "stdout",
     "output_type": "stream",
     "text": [
      "(49221, 1)\n"
     ]
    }
   ],
   "source": [
    "print(y_prediction_mse_gd.shape)"
   ],
   "metadata": {
    "collapsed": false,
    "ExecuteTime": {
     "end_time": "2023-10-24T11:52:16.387045100Z",
     "start_time": "2023-10-24T11:52:16.323559800Z"
    }
   },
   "id": "4fa75ed5b014f27c"
  },
  {
   "cell_type": "code",
   "execution_count": 25,
   "outputs": [
    {
     "name": "stdout",
     "output_type": "stream",
     "text": [
      "(49221,)\n"
     ]
    }
   ],
   "source": [
    "print(y_te.shape)"
   ],
   "metadata": {
    "collapsed": false,
    "ExecuteTime": {
     "end_time": "2023-10-24T11:52:16.390043700Z",
     "start_time": "2023-10-24T11:52:16.337565600Z"
    }
   },
   "id": "9676d2dbb171a15f"
  },
  {
   "cell_type": "code",
   "execution_count": 35,
   "outputs": [],
   "source": [
    "\n",
    "def compute_f1_score(y_true, y_pred):\n",
    "    tp = np.sum((y_pred == 1) & (y_pred == y_true))\n",
    "    print(tp)\n",
    "    fp = np.sum((y_pred == 1) & (y_pred != y_true))\n",
    "    print(fp)\n",
    "    fn = np.sum((y_pred == -1) & (y_pred != y_true))\n",
    "    print(fn)\n",
    "    precision = tp / (tp + fp)\n",
    "    recall = tp / (tp + fn)\n",
    "    f1_score = 2 * (precision * recall) / (precision + recall)\n",
    "    return f1_score\n",
    "\n"
   ],
   "metadata": {
    "collapsed": false,
    "ExecuteTime": {
     "end_time": "2023-10-25T19:14:01.174309900Z",
     "start_time": "2023-10-25T19:14:01.142086700Z"
    }
   },
   "id": "bdf251e820a3a6fe"
  },
  {
   "cell_type": "code",
   "execution_count": 27,
   "outputs": [
    {
     "name": "stdout",
     "output_type": "stream",
     "text": [
      "[[ 4.20635147e-04]\n",
      " [ 1.00000000e+00]\n",
      " [-4.92689866e-03]\n",
      " [ 1.00000000e+00]\n",
      " [ 1.00000000e+00]\n",
      " [ 1.00000000e+00]\n",
      " [ 1.00000000e+00]\n",
      " [ 1.00000000e+00]\n",
      " [ 1.00000000e+00]\n",
      " [ 3.35985174e-02]\n",
      " [ 1.19648805e-03]\n",
      " [ 6.44451814e-04]\n",
      " [ 1.00000000e+00]\n",
      " [ 1.00000000e+00]\n",
      " [ 1.00000000e+00]\n",
      " [ 1.00000000e+00]\n",
      " [-5.06135999e-03]\n",
      " [-5.71879802e-02]\n",
      " [ 1.00000000e+00]\n",
      " [ 1.00000000e+00]\n",
      " [ 1.00000000e+00]\n",
      " [-5.58407571e-02]\n",
      " [ 1.00000000e+00]\n",
      " [ 1.00000000e+00]\n",
      " [ 1.00000000e+00]\n",
      " [ 1.00000000e+00]\n",
      " [ 1.00000000e+00]\n",
      " [-3.50452898e-02]\n",
      " [ 1.00000000e+00]\n",
      " [ 1.00000000e+00]\n",
      " [ 1.00000000e+00]\n",
      " [-5.30366181e-02]\n",
      " [-1.03604543e-02]\n",
      " [ 1.00000000e+00]\n",
      " [ 1.00000000e+00]\n",
      " [-1.19088598e-02]\n",
      " [-6.04750075e-03]\n",
      " [ 1.00000000e+00]\n",
      " [-1.03679439e-02]\n",
      " [ 6.33729680e-03]\n",
      " [ 1.00000000e+00]\n",
      " [ 1.00000000e+00]\n",
      " [ 1.00000000e+00]\n",
      " [ 1.00000000e+00]\n",
      " [ 1.00000000e+00]\n",
      " [ 1.00000000e+00]\n",
      " [ 1.00000000e+00]\n",
      " [-2.46235082e-02]\n",
      " [ 1.00000000e+00]\n",
      " [ 1.00000000e+00]\n",
      " [ 1.00000000e+00]\n",
      " [-1.89839187e-02]\n",
      " [ 1.00000000e+00]\n",
      " [ 1.00000000e+00]\n",
      " [ 1.00000000e+00]\n",
      " [ 1.47584373e-04]\n",
      " [ 3.92340726e-03]\n",
      " [ 2.13227405e-03]\n",
      " [-7.36274110e-03]\n",
      " [-1.34391709e-04]\n",
      " [ 2.44884100e-03]\n",
      " [ 1.00000000e+00]\n",
      " [ 1.00000000e+00]\n",
      " [ 5.49310985e-04]\n",
      " [-7.03002524e-03]\n",
      " [-3.96836424e-03]\n",
      " [ 1.00000000e+00]\n",
      " [ 1.00000000e+00]\n",
      " [-6.59818012e-04]\n",
      " [ 1.00000000e+00]\n",
      " [ 1.00000000e+00]\n",
      " [ 1.00000000e+00]\n",
      " [ 1.00000000e+00]\n",
      " [-6.91376852e-03]\n",
      " [ 1.00000000e+00]\n",
      " [ 1.00000000e+00]\n",
      " [-4.37544468e-02]\n",
      " [ 1.00000000e+00]\n",
      " [ 1.00000000e+00]\n",
      " [ 1.00000000e+00]\n",
      " [ 1.00000000e+00]\n",
      " [ 1.00000000e+00]\n",
      " [ 2.78183669e-03]\n",
      " [ 1.00000000e+00]\n",
      " [ 1.00000000e+00]\n",
      " [ 3.46304445e-02]\n",
      " [ 1.00000000e+00]\n",
      " [ 1.00000000e+00]\n",
      " [ 1.00000000e+00]\n",
      " [-4.79330144e-03]\n",
      " [-2.19848730e-02]\n",
      " [-6.11176463e-03]\n",
      " [ 1.00000000e+00]\n",
      " [-4.17235818e-03]\n",
      " [ 1.00000000e+00]\n",
      " [-2.35024323e-03]\n",
      " [ 1.00000000e+00]\n",
      " [ 3.74605181e-04]\n",
      " [-7.10372940e-04]\n",
      " [-1.11529788e-02]\n",
      " [ 7.60530463e-04]\n",
      " [ 6.81426489e-03]\n",
      " [ 1.00000000e+00]\n",
      " [ 1.00000000e+00]\n",
      " [ 1.00000000e+00]\n",
      " [ 1.00000000e+00]\n",
      " [ 6.67468376e-04]\n",
      " [ 2.63596926e-03]\n",
      " [-3.38392107e-03]\n",
      " [ 3.19665385e-03]\n",
      " [ 1.00000000e+00]\n",
      " [ 1.00000000e+00]\n",
      " [ 1.00000000e+00]\n",
      " [ 1.00000000e+00]\n",
      " [ 1.00193787e-02]\n",
      " [-1.75952342e-03]\n",
      " [ 1.00000000e+00]\n",
      " [ 5.77769218e-03]\n",
      " [-1.89847229e-03]\n",
      " [ 1.00000000e+00]\n",
      " [ 3.56807031e-03]\n",
      " [ 1.00000000e+00]\n",
      " [ 5.16063667e-05]\n",
      " [-6.05865639e-03]\n",
      " [ 1.85942912e-03]\n",
      " [ 1.00000000e+00]\n",
      " [-4.45325739e-04]\n",
      " [ 2.89521100e-03]\n",
      " [ 1.00000000e+00]\n",
      " [ 1.00000000e+00]\n",
      " [ 4.18409090e-03]\n",
      " [ 1.61987466e-03]\n",
      " [ 1.00000000e+00]\n",
      " [ 1.00000000e+00]\n",
      " [ 1.00000000e+00]]\n"
     ]
    }
   ],
   "source": [
    "print(w_mse_gd)"
   ],
   "metadata": {
    "collapsed": false,
    "ExecuteTime": {
     "end_time": "2023-10-24T11:52:16.492601400Z",
     "start_time": "2023-10-24T11:52:16.375922900Z"
    }
   },
   "id": "955340d388aa67ff"
  },
  {
   "cell_type": "code",
   "execution_count": 28,
   "outputs": [],
   "source": [
    "from functions import *\n",
    "y_pred_mse_gd  = np.where(sigmoid(y_prediction_mse_gd) >= 0.5 , 1, -1)"
   ],
   "metadata": {
    "collapsed": false,
    "ExecuteTime": {
     "end_time": "2023-10-24T11:52:18.491154600Z",
     "start_time": "2023-10-24T11:52:16.405043300Z"
    }
   },
   "id": "b46e988ef4a91bde"
  },
  {
   "cell_type": "code",
   "execution_count": 29,
   "outputs": [],
   "source": [
    "y_te = y_te.reshape(-1,1)"
   ],
   "metadata": {
    "collapsed": false,
    "ExecuteTime": {
     "end_time": "2023-10-24T11:52:18.514338300Z",
     "start_time": "2023-10-24T11:52:18.494159500Z"
    }
   },
   "id": "57379551eafb3298"
  },
  {
   "cell_type": "code",
   "execution_count": 30,
   "outputs": [
    {
     "name": "stdout",
     "output_type": "stream",
     "text": [
      "3829\n",
      "19676\n",
      "425\n"
     ]
    },
    {
     "data": {
      "text/plain": "0.2758744911560215"
     },
     "execution_count": 30,
     "metadata": {},
     "output_type": "execute_result"
    }
   ],
   "source": [
    "compute_f1_score(y_te,y_pred_mse_gd)"
   ],
   "metadata": {
    "collapsed": false,
    "ExecuteTime": {
     "end_time": "2023-10-24T11:52:18.627922300Z",
     "start_time": "2023-10-24T11:52:18.504361600Z"
    }
   },
   "id": "de5a7d33d5212db2"
  },
  {
   "cell_type": "code",
   "execution_count": 30,
   "outputs": [],
   "source": [],
   "metadata": {
    "collapsed": false,
    "ExecuteTime": {
     "end_time": "2023-10-24T11:52:18.675479600Z",
     "start_time": "2023-10-24T11:52:18.624095700Z"
    }
   },
   "id": "48a56a480ad5aa91"
  },
  {
   "cell_type": "code",
   "execution_count": 36,
   "outputs": [],
   "source": [
    "def least_squares(y, tx):\n",
    "    \"\"\"Calculate the least squares solution.\n",
    "       returns mse, and optimal weights.\n",
    "\n",
    "    Args:\n",
    "        y: numpy array of shape (N,), N is the number of samples.\n",
    "        tx: numpy array of shape (N,D), D is the number of features.\n",
    "\n",
    "    Returns:\n",
    "        w: optimal weights, numpy array of shape(D,), D is the number of features.\n",
    "        loss: scalar.\n",
    "\n",
    "    >>> least_squares(np.array([0.1,0.2]), np.array([[2.3, 3.2], [1., 0.1]]))\n",
    "    (array([ 0.21212121, -0.12121212]), 8.666684749742561e-33)\n",
    "    \"\"\"\n",
    "    # ***************************************************\n",
    "    # INSERT YOUR CODE HERE\n",
    "    # least squares: TODO\n",
    "    w =np.linalg.inv(tx.T.dot(tx)).dot(tx.T.dot(y))\n",
    "    loss = compute_mse(y,tx,w)\n",
    "    # returns mse, and optimal weights\n",
    "    return w, loss\n"
   ],
   "metadata": {
    "collapsed": false,
    "ExecuteTime": {
     "end_time": "2023-10-25T19:14:15.940347300Z",
     "start_time": "2023-10-25T19:14:15.909782100Z"
    }
   },
   "id": "72cfb6b64990b1a"
  },
  {
   "cell_type": "code",
   "execution_count": 38,
   "outputs": [
    {
     "ename": "LinAlgError",
     "evalue": "Singular matrix",
     "output_type": "error",
     "traceback": [
      "\u001B[1;31m---------------------------------------------------------------------------\u001B[0m",
      "\u001B[1;31mLinAlgError\u001B[0m                               Traceback (most recent call last)",
      "Cell \u001B[1;32mIn[38], line 1\u001B[0m\n\u001B[1;32m----> 1\u001B[0m w_ls, loss_ls \u001B[38;5;241m=\u001B[39m least_squares(y_tr,x_tr)\n",
      "Cell \u001B[1;32mIn[36], line 19\u001B[0m, in \u001B[0;36mleast_squares\u001B[1;34m(y, tx)\u001B[0m\n\u001B[0;32m      2\u001B[0m \u001B[38;5;250m\u001B[39m\u001B[38;5;124;03m\"\"\"Calculate the least squares solution.\u001B[39;00m\n\u001B[0;32m      3\u001B[0m \u001B[38;5;124;03m   returns mse, and optimal weights.\u001B[39;00m\n\u001B[0;32m      4\u001B[0m \n\u001B[1;32m   (...)\u001B[0m\n\u001B[0;32m     14\u001B[0m \u001B[38;5;124;03m(array([ 0.21212121, -0.12121212]), 8.666684749742561e-33)\u001B[39;00m\n\u001B[0;32m     15\u001B[0m \u001B[38;5;124;03m\"\"\"\u001B[39;00m\n\u001B[0;32m     16\u001B[0m \u001B[38;5;66;03m# ***************************************************\u001B[39;00m\n\u001B[0;32m     17\u001B[0m \u001B[38;5;66;03m# INSERT YOUR CODE HERE\u001B[39;00m\n\u001B[0;32m     18\u001B[0m \u001B[38;5;66;03m# least squares: TODO\u001B[39;00m\n\u001B[1;32m---> 19\u001B[0m w \u001B[38;5;241m=\u001B[39mnp\u001B[38;5;241m.\u001B[39mlinalg\u001B[38;5;241m.\u001B[39minv(tx\u001B[38;5;241m.\u001B[39mT\u001B[38;5;241m.\u001B[39mdot(tx))\u001B[38;5;241m.\u001B[39mdot(tx\u001B[38;5;241m.\u001B[39mT\u001B[38;5;241m.\u001B[39mdot(y))\n\u001B[0;32m     20\u001B[0m loss \u001B[38;5;241m=\u001B[39m compute_mse(y,tx,w)\n\u001B[0;32m     21\u001B[0m \u001B[38;5;66;03m# returns mse, and optimal weights\u001B[39;00m\n",
      "File \u001B[1;32m~\\anaconda3\\envs\\ADA\\Lib\\site-packages\\numpy\\linalg\\linalg.py:561\u001B[0m, in \u001B[0;36minv\u001B[1;34m(a)\u001B[0m\n\u001B[0;32m    559\u001B[0m signature \u001B[38;5;241m=\u001B[39m \u001B[38;5;124m'\u001B[39m\u001B[38;5;124mD->D\u001B[39m\u001B[38;5;124m'\u001B[39m \u001B[38;5;28;01mif\u001B[39;00m isComplexType(t) \u001B[38;5;28;01melse\u001B[39;00m \u001B[38;5;124m'\u001B[39m\u001B[38;5;124md->d\u001B[39m\u001B[38;5;124m'\u001B[39m\n\u001B[0;32m    560\u001B[0m extobj \u001B[38;5;241m=\u001B[39m get_linalg_error_extobj(_raise_linalgerror_singular)\n\u001B[1;32m--> 561\u001B[0m ainv \u001B[38;5;241m=\u001B[39m _umath_linalg\u001B[38;5;241m.\u001B[39minv(a, signature\u001B[38;5;241m=\u001B[39msignature, extobj\u001B[38;5;241m=\u001B[39mextobj)\n\u001B[0;32m    562\u001B[0m \u001B[38;5;28;01mreturn\u001B[39;00m wrap(ainv\u001B[38;5;241m.\u001B[39mastype(result_t, copy\u001B[38;5;241m=\u001B[39m\u001B[38;5;28;01mFalse\u001B[39;00m))\n",
      "File \u001B[1;32m~\\anaconda3\\envs\\ADA\\Lib\\site-packages\\numpy\\linalg\\linalg.py:112\u001B[0m, in \u001B[0;36m_raise_linalgerror_singular\u001B[1;34m(err, flag)\u001B[0m\n\u001B[0;32m    111\u001B[0m \u001B[38;5;28;01mdef\u001B[39;00m \u001B[38;5;21m_raise_linalgerror_singular\u001B[39m(err, flag):\n\u001B[1;32m--> 112\u001B[0m     \u001B[38;5;28;01mraise\u001B[39;00m LinAlgError(\u001B[38;5;124m\"\u001B[39m\u001B[38;5;124mSingular matrix\u001B[39m\u001B[38;5;124m\"\u001B[39m)\n",
      "\u001B[1;31mLinAlgError\u001B[0m: Singular matrix"
     ]
    }
   ],
   "source": [
    "w_ls, loss_ls = least_squares(y_tr,x_tr)"
   ],
   "metadata": {
    "collapsed": false,
    "ExecuteTime": {
     "end_time": "2023-10-25T19:14:37.077083100Z",
     "start_time": "2023-10-25T19:14:29.500512500Z"
    }
   },
   "id": "d6f18dc74999f731"
  },
  {
   "cell_type": "code",
   "execution_count": 50,
   "outputs": [
    {
     "data": {
      "text/plain": "array([5.30000000e+01, 1.10000000e+01, 1.11620150e+07, 1.10000000e+01,\n       1.60000000e+01, 2.01500000e+03, 1.10000000e+03, 2.01501563e+09,\n       2.01501563e+09,            nan,            nan,            nan,\n                  nan,            nan,            nan,            nan,\n                  nan,            nan, 1.00000000e+00, 1.00000000e+00,\n       2.00000000e+00, 1.00000000e+00,            nan, 1.00000000e+00,\n       1.00000000e+00, 2.00000000e+00, 2.00000000e+00, 1.00000000e+00,\n       5.00000000e+00, 8.80000000e+01, 1.00000000e+00, 1.00000000e+00,\n       2.00000000e+00, 1.00000000e+00, 3.00000000e+00,            nan,\n       1.00000000e+00, 1.00000000e+00, 2.00000000e+00, 2.00000000e+00,\n       2.00000000e+00,            nan, 2.00000000e+00, 2.00000000e+00,\n       2.00000000e+00, 2.00000000e+00, 1.00000000e+00, 2.00000000e+00,\n       3.00000000e+00,            nan, 2.00000000e+00, 1.00000000e+00,\n       5.00000000e+00, 1.00000000e+00,            nan,            nan,\n                  nan, 2.00000000e+00, 1.00000000e+00, 8.80000000e+01,\n       8.00000000e+00, 1.00000000e+00, 1.10000000e+02, 5.01000000e+02,\n                  nan, 1.00000000e+00, 2.00000000e+00, 2.00000000e+00,\n       2.00000000e+00, 2.00000000e+00, 2.00000000e+00, 2.00000000e+00,\n       1.00000000e+00, 1.00000000e+00, 1.00000000e+00,            nan,\n       3.00000000e+00, 8.88000000e+02,            nan,            nan,\n                  nan, 5.55000000e+02, 2.05000000e+02, 3.04000000e+02,\n       3.03000000e+02, 3.08000000e+02, 2.05000000e+02, 1.00000000e+00,\n       6.40000000e+01, 1.02000000e+02, 3.00000000e+01, 9.80000000e+01,\n       2.20000000e+02, 3.00000000e+01, 1.05000000e+02,            nan,\n                  nan,            nan,            nan, 1.00000000e+00,\n       1.00000000e+00, 1.02015000e+05, 8.00000000e+00, 2.00000000e+00,\n       2.00000000e+00,            nan,            nan,            nan,\n                  nan,            nan,            nan,            nan,\n                  nan,            nan,            nan,            nan,\n                  nan,            nan,            nan,            nan,\n                  nan,            nan,            nan,            nan,\n                  nan,            nan,            nan,            nan,\n                  nan,            nan,            nan,            nan,\n                  nan,            nan,            nan,            nan,\n                  nan,            nan,            nan,            nan,\n                  nan,            nan,            nan,            nan,\n                  nan,            nan,            nan,            nan,\n                  nan,            nan,            nan,            nan,\n                  nan,            nan,            nan,            nan,\n                  nan,            nan,            nan,            nan,\n                  nan,            nan,            nan,            nan,\n                  nan,            nan,            nan,            nan,\n                  nan,            nan, 1.00000000e+00, 3.00000000e+00,\n       1.00000000e+00, 5.00000000e+00, 2.00000000e+00,            nan,\n       1.00000000e+00,            nan,            nan, 1.00000000e+00,\n       4.00000000e+00, 1.00000000e+00, 2.00000000e+00, 4.00000000e+00,\n                  nan,            nan,            nan,            nan,\n                  nan,            nan,            nan,            nan,\n                  nan,            nan,            nan,            nan,\n                  nan,            nan,            nan,            nan,\n                  nan,            nan,            nan,            nan,\n                  nan,            nan,            nan,            nan,\n                  nan,            nan,            nan,            nan,\n                  nan,            nan,            nan,            nan,\n       2.00000000e+01, 1.00000000e+00,            nan, 5.32049000e+05,\n       1.20931680e+02, 1.00000000e+00, 1.20931680e+02,            nan,\n                  nan,            nan,            nan, 2.00000000e+00,\n       2.33947890e-01, 2.64741181e+02, 1.00000000e+00, 1.00000000e+00,\n       1.00000000e+00, 1.00000000e+00, 1.00000000e+00, 1.00000000e+00,\n       1.00000000e+00, 3.00000000e+00, 2.00000000e+00, 1.00000000e+00,\n       1.00000000e+00, 2.00000000e+00, 1.00000000e+00, 1.00000000e+00,\n       1.00000000e+00, 1.00000000e+00, 8.00000000e+00, 1.00000000e+00,\n       5.70000000e+01, 5.00000000e+00, 6.10000000e+01, 1.55000000e+00,\n       4.99000000e+01, 2.07800000e+01, 2.00000000e+00, 1.00000000e+00,\n       1.00000000e+00, 3.00000000e+00, 5.00000000e+00, 1.00000000e+00,\n       2.00000000e+00, 2.00000000e+00, 0.00000000e+00, 1.00000000e+00,\n       0.00000000e+00, 1.00000000e+00, 0.00000000e+00, 7.10000000e-01,\n       1.30000000e-01, 1.00000000e-01, 2.70000000e-01, 7.10000000e-01,\n       0.00000000e+00, 0.00000000e+00, 1.00000000e+00, 1.00000000e+00,\n       7.10000000e-01, 1.21000000e+00, 2.00000000e+00, 1.00000000e+00,\n       1.00000000e+00, 1.00000000e+00, 0.00000000e+00, 0.00000000e+00,\n       1.00000000e+00, 3.50000000e+00, 4.50000000e+00, 2.69100000e+01,\n       4.61000000e+00, 1.00000000e+00, 1.00000000e+00, 3.00000000e+01,\n       3.00000000e+01, 2.00000000e+00, 4.66700000e+00, 6.00000000e+01,\n       1.40000000e+02, 5.00000000e+00, 0.00000000e+00, 6.00000000e+01,\n       1.40000000e+02, 2.00000000e+02, 0.00000000e+00, 0.00000000e+00,\n       0.00000000e+00, 2.00000000e+00, 1.00000000e+00, 1.00000000e+00,\n       2.00000000e+00, 2.00000000e+00, 1.00000000e+00, 1.00000000e+00,\n       1.00000000e+00, 3.00000000e+00, 3.00000000e+00, 4.00000000e+00,\n       1.00000000e+00, 1.00000000e+00,            nan,            nan,\n       2.00000000e+00])"
     },
     "execution_count": 50,
     "metadata": {},
     "output_type": "execute_result"
    }
   ],
   "source": [
    "x_train [0,:]"
   ],
   "metadata": {
    "collapsed": false,
    "ExecuteTime": {
     "end_time": "2023-10-24T12:15:57.749602700Z",
     "start_time": "2023-10-24T12:15:57.689027400Z"
    }
   },
   "id": "7211baec238e5df7"
  },
  {
   "cell_type": "code",
   "execution_count": 51,
   "outputs": [
    {
     "data": {
      "text/plain": "array([ 1.4362964 , -0.14364958, -0.43476107,  0.25938522,  3.93728018,\n       -0.43123454,  0.81144924,  0.7531099 ,  0.70796839,  0.85611713,\n       -0.76306165, -0.71285571, -0.46366208, -1.76453973, -1.78855258,\n       -1.18243681, -0.97423391,  1.1803198 ,  0.03202097,  0.67464233,\n        1.1061937 ,  0.77930911, -0.08702525, -1.77907099, -0.65705562,\n        2.4488373 ,  0.78489186, -1.14277651,  0.7440304 ,  0.42427984,\n       -0.86106585,  0.06966508,  1.06815889,  0.68648567, -0.57520585,\n       -0.54244303, -0.02121267, -0.35061803, -1.12280884,  0.40954926,\n        0.2195254 , -0.59099421, -0.60817162,  1.13393598, -0.65035991,\n       -0.69873338, -0.13209185,  0.1241444 , -0.87671029, -1.09107931,\n       -1.23021922,  3.29264174, -0.51980681,  2.04970769, -0.43981471,\n       -0.36569101, -0.32011707])"
     },
     "execution_count": 51,
     "metadata": {},
     "output_type": "execute_result"
    }
   ],
   "source": [
    "new_datas[0,:]"
   ],
   "metadata": {
    "collapsed": false,
    "ExecuteTime": {
     "end_time": "2023-10-24T12:16:15.698376500Z",
     "start_time": "2023-10-24T12:16:15.567569300Z"
    }
   },
   "id": "627fcf8a65dcc25f"
  },
  {
   "cell_type": "code",
   "execution_count": 54,
   "outputs": [
    {
     "name": "stdout",
     "output_type": "stream",
     "text": [
      "[2.57017100e+02 1.21609628e+01 1.21748122e+13 1.21991885e+01\n",
      " 6.94635961e+01 2.41451390e-02 1.27603975e+03 1.69617878e+07\n",
      " 1.69617878e+07 0.00000000e+00 1.69534623e-04 0.00000000e+00\n",
      " 0.00000000e+00 2.48007961e-01 2.25585938e-01 6.40064375e-01\n",
      " 3.85500182e-01 2.76670029e-01 0.00000000e+00 0.00000000e+00\n",
      " 2.49979515e-01 5.71951661e-03 0.00000000e+00 6.24434611e-02\n",
      " 3.06947845e-01 2.71298432e+01 1.24249554e+00 1.37287610e+03\n",
      " 1.28392985e+03 1.45131943e+03 2.54732199e-01 6.89049997e-01\n",
      " 1.66170929e-01 1.55044157e+00 1.06631052e+00 2.00038110e-01\n",
      " 8.25643511e-01 1.06998248e+00 5.29728614e-01 9.74834622e-02\n",
      " 1.97295819e-01 1.19064806e+00 1.52814524e-01 1.45580975e-01\n",
      " 1.97825891e-01 3.91263998e-01 2.96164491e-01 1.14101404e-01\n",
      " 5.08995468e-01 3.31839648e+02 2.44062500e-01 2.84387923e+00\n",
      " 1.15085242e+00 6.73492991e-01 2.15799145e-01 1.40449090e+00\n",
      " 4.42115532e-01 2.00268060e-01 8.23997381e+00 1.42394937e+03\n",
      " 1.00746754e+03 3.26773219e-01 4.84386838e+06 1.88022650e+06\n",
      " 3.31551231e-01 4.41343742e-01 2.05422311e-01 1.87877369e-01\n",
      " 3.10531147e-01 3.27800443e-01 1.50160775e-01 2.34362611e-01\n",
      " 5.52754911e-01 7.84693683e-01 3.66896231e-01 4.01948425e+01\n",
      " 2.40769215e-01 1.26656302e+05 1.09995903e+02 1.28610566e+03\n",
      " 1.91782920e+02 3.69786828e+04 2.00972506e+04 2.24970175e+04\n",
      " 1.92460445e+04 2.07056964e+04 1.77478406e+04 5.20739947e-01\n",
      " 5.55305657e+02 7.13621200e+03 2.22071638e+04 8.33983030e+02\n",
      " 7.82623398e+03 2.76902371e+04 1.33469100e+05 7.03307058e-01\n",
      " 1.31167174e+00 8.80615010e-01 1.28217046e+02 9.05222594e-01\n",
      " 6.08116352e-01 2.66763693e+10 2.84387341e+01 2.78116914e+00\n",
      " 1.36202574e+00 1.26538416e+11 1.19266186e+02 1.62907974e+00\n",
      " 4.43018955e-01 2.74873211e-01 7.41440807e+04 8.03769458e+04\n",
      " 7.85454936e+02 8.27125372e+02 1.33435755e+03 2.13402332e+00\n",
      " 4.94131188e-01 3.88447772e-01 3.57929325e-01 7.51726588e+01\n",
      " 2.36834927e+00 2.95956455e+00 3.01166417e+02 5.25015991e-01\n",
      " 4.36546395e-01 1.79591698e+00 1.98510535e+00 7.18942862e-01\n",
      " 1.15444995e+00 1.15213857e+00 1.08459539e+02 1.76763970e+00\n",
      " 1.11164877e+00 7.30436908e-01 1.69772870e-01 3.44373493e-01\n",
      " 3.56889821e-01 1.84485482e+00 1.60502228e+00 1.64755996e+00\n",
      " 1.96168223e+00 5.48540592e-01 4.41848491e-01 1.48156934e+04\n",
      " 3.99977252e-01 1.11035812e+03 7.85010412e-01 1.61691451e+03\n",
      " 1.76944943e+03 1.76131307e+03 1.32750443e+05 7.75997900e+00\n",
      " 8.22988270e+00 8.22687214e+00 1.00380912e+01 9.83580713e-01\n",
      " 3.94449454e-01 2.54802714e-01 4.67018406e-01 3.05111201e-01\n",
      " 1.05151852e+00 2.48274329e+00 9.99020417e-01 4.86677069e-01\n",
      " 6.80828245e-01 2.77875767e-01 2.54948543e+00 2.48265711e+00\n",
      " 7.57034755e+02 6.68789828e-01 2.96048766e-01 1.85309950e+00\n",
      " 3.40849306e-01 2.95273195e+00 6.23281478e+00 3.34801580e+00\n",
      " 3.90648694e-01 2.27420899e-01 1.89015816e+00 5.09324641e-01\n",
      " 3.12839011e+00 3.90647867e-01 5.50855122e-01 2.75293808e+00\n",
      " 1.62135094e+00 1.51930349e+00 1.53372964e+00 1.63702398e+00\n",
      " 2.26164931e+00 1.86603380e+00 1.22264763e+00 7.54945226e+00\n",
      " 1.91886996e+00 1.37588797e+00 1.14770268e+00 2.73157702e+02\n",
      " 1.53365191e+00 5.24088093e+02 1.53373840e+00 2.98414185e-01\n",
      " 2.78978633e+00 3.16618127e+00 2.17508164e+00 9.64929284e-01\n",
      " 1.59714519e+00 8.02318176e-01 1.40003833e+03 1.29183557e+03\n",
      " 1.60614244e+03 1.58456935e+03 1.49687465e+03 9.43561309e+02\n",
      " 8.27524788e+02 6.42105250e+02 2.89890339e-01 3.48635007e-01\n",
      " 2.52752723e+01 3.57880131e-02 2.97236152e+00 2.57035185e+10\n",
      " 2.55959445e+04 4.93918668e-01 2.78761821e+04 8.07355810e+00\n",
      " 4.90957427e+02 4.90957427e+02 1.81888718e+06 1.41761977e+01\n",
      " 4.06432032e-02 9.84456660e+05 3.14840927e-01 1.44002830e+01\n",
      " 4.00898523e-01 2.39287764e+00 7.46779678e-01 3.00984954e-01\n",
      " 5.23680767e-01 6.24699618e-01 2.23038942e-01 1.56149061e+02\n",
      " 1.56357420e+02 5.28558922e-01 5.14069043e+00 1.15646359e+00\n",
      " 2.31428903e+00 9.06364141e-01 1.22152916e+01 2.56565577e-01\n",
      " 2.90430877e+02 2.41307777e+00 1.70715044e+01 1.11661940e-02\n",
      " 4.68155172e+02 4.44896627e+01 6.82756887e-01 4.28639664e+00\n",
      " 1.44982665e+00 1.09138327e+00 5.79289813e+00 2.13442666e+00\n",
      " 2.51259778e+00 2.67343046e+00 3.69079100e+04 3.46275573e+00\n",
      " 5.41266877e+08 3.48677963e+00 5.01456676e-01 1.28058122e+00\n",
      " 2.28629191e-01 4.61824018e-01 2.30845919e-01 6.57585120e-01\n",
      " 2.81383424e-01 1.16989168e+00 8.82925110e-02 1.01468552e-01\n",
      " 1.96570786e+00 2.56414214e+00 5.34318631e+00 6.30837324e+00\n",
      " 2.13281324e-04 1.18839394e-04 8.90621220e-02 1.01889427e-01\n",
      " 4.85779326e+00 2.66449833e+00 7.01472498e+00 1.12525739e+04\n",
      " 1.17352971e+04 3.02118722e-01 6.64690198e-01 4.23477815e+03\n",
      " 5.97021061e+03 8.45637141e+00 1.00910622e+01 1.34677437e+05\n",
      " 1.32446451e+05 5.10513605e+00 6.30731138e+00 2.80906769e+05\n",
      " 2.36931602e+05 5.65700341e+05 5.59201227e+04 3.69827145e+04\n",
      " 1.01436844e+05 6.07785655e+00 6.20992777e+00 6.20894839e+00\n",
      " 6.02359432e+00 6.13014943e+00 4.90406864e+00 5.73774471e+00\n",
      " 5.97842831e+00 1.73681988e+00 1.81727856e+00 1.58596390e+00\n",
      " 5.54757083e+00 5.50401874e+00 6.33412851e+00 7.68309336e+00\n",
      " 2.05673006e+00]\n"
     ]
    }
   ],
   "source": [
    "print(np.nanvar(x_train, axis=0))\n"
   ],
   "metadata": {
    "collapsed": false,
    "ExecuteTime": {
     "end_time": "2023-10-24T12:19:36.645011600Z",
     "start_time": "2023-10-24T12:19:32.858311900Z"
    }
   },
   "id": "a779dfccd11bb06e"
  },
  {
   "cell_type": "code",
   "execution_count": 49,
   "outputs": [
    {
     "name": "stdout",
     "output_type": "stream",
     "text": [
      "(109379, 256)\n",
      "(109379, 256)\n",
      "(109379, 160)\n",
      "(109379, 160)\n",
      "(109379, 160)\n",
      "(109379, 160)\n"
     ]
    },
    {
     "name": "stderr",
     "output_type": "stream",
     "text": [
      "C:\\Users\\adrie\\anaconda3\\envs\\ADA\\Lib\\site-packages\\numpy\\lib\\function_base.py:2897: RuntimeWarning: invalid value encountered in divide\n",
      "  c /= stddev[:, None]\n",
      "C:\\Users\\adrie\\anaconda3\\envs\\ADA\\Lib\\site-packages\\numpy\\lib\\function_base.py:2898: RuntimeWarning: invalid value encountered in divide\n",
      "  c /= stddev[None, :]\n"
     ]
    },
    {
     "name": "stdout",
     "output_type": "stream",
     "text": [
      "(109379, 136)\n"
     ]
    }
   ],
   "source": [
    "x_test = clean_all(x_test)\n",
    "x_test = remove_zero_variance_columns(x_test)"
   ],
   "metadata": {
    "collapsed": false,
    "ExecuteTime": {
     "end_time": "2023-10-24T12:14:17.392028200Z",
     "start_time": "2023-10-24T12:13:38.038812200Z"
    }
   },
   "id": "a8eb79bd8259d83b"
  },
  {
   "cell_type": "code",
   "execution_count": 48,
   "outputs": [
    {
     "ename": "ValueError",
     "evalue": "shapes (109379,321) and (57,) not aligned: 321 (dim 1) != 57 (dim 0)",
     "output_type": "error",
     "traceback": [
      "\u001B[1;31m---------------------------------------------------------------------------\u001B[0m",
      "\u001B[1;31mValueError\u001B[0m                                Traceback (most recent call last)",
      "Cell \u001B[1;32mIn[48], line 1\u001B[0m\n\u001B[1;32m----> 1\u001B[0m y_prediction \u001B[38;5;241m=\u001B[39m x_test\u001B[38;5;241m.\u001B[39mdot(w_ls)\n",
      "\u001B[1;31mValueError\u001B[0m: shapes (109379,321) and (57,) not aligned: 321 (dim 1) != 57 (dim 0)"
     ]
    }
   ],
   "source": [
    "y_prediction = x_test.dot(w_ls)"
   ],
   "metadata": {
    "collapsed": false,
    "ExecuteTime": {
     "end_time": "2023-10-24T12:12:29.371499100Z",
     "start_time": "2023-10-24T12:12:29.080084600Z"
    }
   },
   "id": "4f9e84bae6662f42"
  },
  {
   "cell_type": "code",
   "execution_count": 32,
   "outputs": [
    {
     "name": "stdout",
     "output_type": "stream",
     "text": [
      "[ 1.41142851 -1.18588987 -1.18588987 ... -1.18588987  0.54565572\n",
      "  1.41142851]\n"
     ]
    }
   ],
   "source": [
    "print(x_tr[:,-4])"
   ],
   "metadata": {
    "collapsed": false,
    "ExecuteTime": {
     "end_time": "2023-10-24T11:52:18.811618500Z",
     "start_time": "2023-10-24T11:52:18.645444200Z"
    }
   },
   "id": "279b62cee3a0ad21"
  },
  {
   "cell_type": "code",
   "execution_count": 33,
   "outputs": [
    {
     "name": "stdout",
     "output_type": "stream",
     "text": [
      "[0. 0. 0. ... 0. 0. 0.]\n"
     ]
    }
   ],
   "source": [
    "print(x_tr[:,4])"
   ],
   "metadata": {
    "collapsed": false,
    "ExecuteTime": {
     "end_time": "2023-10-24T11:52:18.855192200Z",
     "start_time": "2023-10-24T11:52:18.667989600Z"
    }
   },
   "id": "9f097cbf179c3022"
  },
  {
   "cell_type": "code",
   "execution_count": 34,
   "outputs": [
    {
     "data": {
      "text/plain": "278914"
     },
     "execution_count": 34,
     "metadata": {},
     "output_type": "execute_result"
    }
   ],
   "source": [
    "y_tr.shape[0]"
   ],
   "metadata": {
    "collapsed": false,
    "ExecuteTime": {
     "end_time": "2023-10-24T11:52:18.889166Z",
     "start_time": "2023-10-24T11:52:18.683485Z"
    }
   },
   "id": "f02496ee46a1f213"
  },
  {
   "cell_type": "code",
   "execution_count": 35,
   "outputs": [],
   "source": [
    "def calculate_gradient(y, tx, w):\n",
    "    \"\"\"compute the gradient of loss.\n",
    "\n",
    "    Args:\n",
    "        y:  shape=(N, 1)\n",
    "        tx: shape=(N, D)\n",
    "        w:  shape=(D, 1)\n",
    "\n",
    "    Returns:\n",
    "        a vector of shape (D, 1)\n",
    "\n",
    "    >>> np.set_printoptions(8)\n",
    "    >>> y = np.c_[[0., 1.]]\n",
    "    >>> tx = np.arange(6).reshape(2, 3)\n",
    "    >>> w = np.array([[0.1], [0.2], [0.3]])\n",
    "    >>> calculate_gradient(y, tx, w)\n",
    "    array([[-0.10370763],\n",
    "           [ 0.2067104 ],\n",
    "           [ 0.51712843]])\n",
    "    \"\"\"\n",
    "\n",
    "    return 1/len(y)*(tx.T.dot(sigmoid(np.dot(tx, w))-y))\n"
   ],
   "metadata": {
    "collapsed": false,
    "ExecuteTime": {
     "end_time": "2023-10-24T11:52:18.891157100Z",
     "start_time": "2023-10-24T11:52:18.708280300Z"
    }
   },
   "id": "c13ad4c8905c2e29"
  },
  {
   "cell_type": "code",
   "execution_count": 36,
   "outputs": [],
   "source": [
    "def calculate_loss(y, tx, w):\n",
    "    \"\"\"compute the cost by negative log likelihood.\n",
    "\n",
    "    Args:\n",
    "        y:  shape=(N, 1)\n",
    "        tx: shape=(N, D)\n",
    "        w:  shape=(D, 1)\n",
    "\n",
    "    Returns:\n",
    "        a non-negative loss\n",
    "\n",
    "    >>> y = np.c_[[0., 1.]]\n",
    "    >>> tx = np.arange(4).reshape(2, 2)\n",
    "    >>> w = np.c_[[2., 3.]]\n",
    "    >>> round(calculate_loss(y, tx, w), 8)\n",
    "    1.52429481\n",
    "    \"\"\"\n",
    "    assert y.shape[0] == tx.shape[0]\n",
    "    assert tx.shape[1] == w.shape[0]\n",
    "\n",
    "    # ***************************************************\n",
    "    # INSERT YOUR CODE HERE\n",
    "    # TODO\n",
    "    loss = -1/y.shape[0]*(y.T.dot(np.log1p(sigmoid(tx.dot(w))))+(1-y).T.dot(np.log1p(1-sigmoid(tx.dot(w)))))\n",
    "    return loss.ravel()[0]\n",
    "    # ***************************************************\n"
   ],
   "metadata": {
    "collapsed": false,
    "ExecuteTime": {
     "end_time": "2023-10-24T11:52:18.904155100Z",
     "start_time": "2023-10-24T11:52:18.729074500Z"
    }
   },
   "id": "ec9c42009fd985b0"
  },
  {
   "cell_type": "code",
   "execution_count": 37,
   "outputs": [],
   "source": [
    "def logistic_regression(y, tx, initial_w, max_iters, gamma):\n",
    "    w = initial_w\n",
    "    assert y.shape[0] == tx.shape[0]\n",
    "    assert tx.shape[1] == w.shape[0]\n",
    "\n",
    "    for iter in range(max_iters):\n",
    "\n",
    "        # LOSS\n",
    "        loss = calculate_loss(y, tx, w)\n",
    "\n",
    "        # GRADIENT\n",
    "        grad = calculate_gradient(y, tx, w)\n",
    "\n",
    "        # UPDATE W\n",
    "        w -= gamma * grad\n",
    "\n",
    "    return w, loss\n"
   ],
   "metadata": {
    "collapsed": false,
    "ExecuteTime": {
     "end_time": "2023-10-24T11:52:18.905159Z",
     "start_time": "2023-10-24T11:52:18.749016700Z"
    }
   },
   "id": "38a1b957b08e75de"
  },
  {
   "cell_type": "code",
   "execution_count": 38,
   "outputs": [
    {
     "ename": "MemoryError",
     "evalue": "Unable to allocate 580. GiB for an array with shape (278914, 278914) and data type float64",
     "output_type": "error",
     "traceback": [
      "\u001B[1;31m---------------------------------------------------------------------------\u001B[0m",
      "\u001B[1;31mMemoryError\u001B[0m                               Traceback (most recent call last)",
      "Cell \u001B[1;32mIn[38], line 1\u001B[0m\n\u001B[1;32m----> 1\u001B[0m w_logr, loss_logr \u001B[38;5;241m=\u001B[39m logistic_regression(y_tr,x_tr,initial_w,max_iters,gamma)\n",
      "Cell \u001B[1;32mIn[37], line 12\u001B[0m, in \u001B[0;36mlogistic_regression\u001B[1;34m(y, tx, initial_w, max_iters, gamma)\u001B[0m\n\u001B[0;32m      9\u001B[0m loss \u001B[38;5;241m=\u001B[39m calculate_loss(y, tx, w)\n\u001B[0;32m     11\u001B[0m \u001B[38;5;66;03m# GRADIENT\u001B[39;00m\n\u001B[1;32m---> 12\u001B[0m grad \u001B[38;5;241m=\u001B[39m calculate_gradient(y, tx, w)\n\u001B[0;32m     14\u001B[0m \u001B[38;5;66;03m# UPDATE W\u001B[39;00m\n\u001B[0;32m     15\u001B[0m w \u001B[38;5;241m-\u001B[39m\u001B[38;5;241m=\u001B[39m gamma \u001B[38;5;241m*\u001B[39m grad\n",
      "Cell \u001B[1;32mIn[35], line 22\u001B[0m, in \u001B[0;36mcalculate_gradient\u001B[1;34m(y, tx, w)\u001B[0m\n\u001B[0;32m      1\u001B[0m \u001B[38;5;28;01mdef\u001B[39;00m \u001B[38;5;21mcalculate_gradient\u001B[39m(y, tx, w):\n\u001B[0;32m      2\u001B[0m \u001B[38;5;250m    \u001B[39m\u001B[38;5;124;03m\"\"\"compute the gradient of loss.\u001B[39;00m\n\u001B[0;32m      3\u001B[0m \n\u001B[0;32m      4\u001B[0m \u001B[38;5;124;03m    Args:\u001B[39;00m\n\u001B[1;32m   (...)\u001B[0m\n\u001B[0;32m     19\u001B[0m \u001B[38;5;124;03m           [ 0.51712843]])\u001B[39;00m\n\u001B[0;32m     20\u001B[0m \u001B[38;5;124;03m    \"\"\"\u001B[39;00m\n\u001B[1;32m---> 22\u001B[0m     \u001B[38;5;28;01mreturn\u001B[39;00m \u001B[38;5;241m1\u001B[39m\u001B[38;5;241m/\u001B[39m\u001B[38;5;28mlen\u001B[39m(y)\u001B[38;5;241m*\u001B[39m(tx\u001B[38;5;241m.\u001B[39mT\u001B[38;5;241m.\u001B[39mdot(sigmoid(np\u001B[38;5;241m.\u001B[39mdot(tx, w))\u001B[38;5;241m-\u001B[39my))\n",
      "\u001B[1;31mMemoryError\u001B[0m: Unable to allocate 580. GiB for an array with shape (278914, 278914) and data type float64"
     ]
    }
   ],
   "source": [
    "w_logr, loss_logr = logistic_regression(y_tr,x_tr,initial_w,max_iters,gamma)"
   ],
   "metadata": {
    "collapsed": false,
    "ExecuteTime": {
     "end_time": "2023-10-24T11:52:20.660606900Z",
     "start_time": "2023-10-24T11:52:18.763602300Z"
    }
   },
   "id": "ee0e5de00f402bf2"
  },
  {
   "cell_type": "code",
   "execution_count": null,
   "outputs": [],
   "source": [
    "from implementations import *"
   ],
   "metadata": {
    "collapsed": false,
    "ExecuteTime": {
     "start_time": "2023-10-24T11:52:20.659598500Z"
    }
   },
   "id": "afa602121d4a9b05"
  },
  {
   "cell_type": "code",
   "execution_count": null,
   "outputs": [],
   "source": [
    "initial_w = np.ones((x_tr.shape[1],1))\n",
    "w_reg_logr, loss_reg_logr = reg_logistic_regression(y_tr,x_tr,0.1,initial_w,max_iters,gamma)"
   ],
   "metadata": {
    "collapsed": false,
    "ExecuteTime": {
     "start_time": "2023-10-24T11:52:20.664598900Z"
    }
   },
   "id": "d5b46b2e14ff2d0d"
  },
  {
   "cell_type": "code",
   "execution_count": null,
   "outputs": [],
   "source": [
    "test_1 = np.array([[2.3, 3.2]])\n",
    "print(np.linalg.det(test_1.T.dot(test_1)))"
   ],
   "metadata": {
    "collapsed": false,
    "ExecuteTime": {
     "end_time": "2023-10-24T11:52:20.683590900Z",
     "start_time": "2023-10-24T11:52:20.666602Z"
    }
   },
   "id": "11f1eb581366d2d5"
  }
 ],
 "metadata": {
  "kernelspec": {
   "display_name": "Python 3",
   "language": "python",
   "name": "python3"
  },
  "language_info": {
   "codemirror_mode": {
    "name": "ipython",
    "version": 2
   },
   "file_extension": ".py",
   "mimetype": "text/x-python",
   "name": "python",
   "nbconvert_exporter": "python",
   "pygments_lexer": "ipython2",
   "version": "2.7.6"
  }
 },
 "nbformat": 4,
 "nbformat_minor": 5
}
