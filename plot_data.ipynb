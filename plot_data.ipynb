{
 "cells": [
  {
   "cell_type": "code",
   "execution_count": 19,
   "metadata": {},
   "outputs": [],
   "source": [
    "import numpy as np\n",
    "import matplotlib.pyplot as plt\n",
    "import sys \n",
    "import csv\n",
    "\n",
    "from helpers import *\n",
    "from costs import *\n",
    "from implementations import *\n",
    "\n",
    "\n"
   ]
  },
  {
   "cell_type": "code",
   "execution_count": 21,
   "metadata": {},
   "outputs": [],
   "source": [
    "#load data \n",
    "x_train, x_test, y_train, train_ids, test_ids = load_csv_data(r\"/Users/loufourneaux/Desktop/EPFL/MA1/ML/project-1-ML/dataset_to_release\")"
   ]
  },
  {
   "cell_type": "code",
   "execution_count": 89,
   "metadata": {},
   "outputs": [
    {
     "name": "stdout",
     "output_type": "stream",
     "text": [
      "True\n"
     ]
    },
    {
     "data": {
      "image/png": "[encoded data removed]",
      "text/plain": [
       "<Figure size 432x288 with 1 Axes>"
      ]
     },
     "metadata": {
      "needs_background": "light"
     },
     "output_type": "display_data"
    }
   ],
   "source": [
    "data=x_train[:,38]\n",
    "# Count occurrences of each value\n",
    "values, counts = np.unique(data, return_counts=True)\n",
    "percentage= counts/x_train.shape[0]\n",
    "nan_count = np.isnan(data).sum()\n",
    "nan_percentage= nan_count/x_train.shape[0]\n",
    "plt.bar(values, percentage*10, align='center', color='blue')\n",
    "plt.bar(\" \", nan_percentage*10, color='red', label=\"no response\")\n",
    "#check it is 1\n",
    "print(np.sum(percentage)==1)\n",
    "\n",
    "# Add labels\n",
    "#plt.xticks(values)\n",
    "plt.legend()\n",
    "plt.xlabel('Answer')\n",
    "plt.ylabel('%')\n",
    "plt.title('Percentage of people ever told thay had high cholesterol')\n",
    "\n",
    "# Show the plot\n",
    "plt.show()"
   ]
  },
  {
   "cell_type": "code",
   "execution_count": null,
   "metadata": {},
   "outputs": [],
   "source": []
  }
 ],
 "metadata": {
  "kernelspec": {
   "display_name": "Python 3.9.12",
   "language": "python",
   "name": "python3"
  },
  "language_info": {
   "codemirror_mode": {
    "name": "ipython",
    "version": 3
   },
   "file_extension": ".py",
   "mimetype": "text/x-python",
   "name": "python",
   "nbconvert_exporter": "python",
   "pygments_lexer": "ipython3",
   "version": "3.9.12"
  },
  "orig_nbformat": 4,
  "vscode": {
   "interpreter": {
    "hash": "e307f64f8169f2306a2b86f942e25c607f260ae29e965409017f9df1666892e2"
   }
  }
 },
 "nbformat": 4,
 "nbformat_minor": 2
}
